{
 "cells": [
  {
   "cell_type": "markdown",
   "metadata": {},
   "source": [
    "# 4 initialize"
   ]
  },
  {
   "cell_type": "markdown",
   "metadata": {},
   "source": [
    "change ${CORE_ROOT} to your path of core."
   ]
  },
  {
   "cell_type": "code",
   "execution_count": null,
   "metadata": {},
   "outputs": [],
   "source": [
    "export CORE_ROOT=\"${HOME}/core\""
   ]
  },
  {
   "cell_type": "markdown",
   "metadata": {},
   "source": [
    "change ${PJ_ROOT} to your path of uoa-poc2."
   ]
  },
  {
   "cell_type": "code",
   "execution_count": null,
   "metadata": {},
   "outputs": [],
   "source": [
    "export PJ_ROOT=\"${HOME}/uoa-poc2\"\n",
    "cd ${PJ_ROOT};pwd"
   ]
  },
  {
   "cell_type": "markdown",
   "metadata": {},
   "source": [
    "example)\n",
    "```\n",
    "/Users/user/uoa-poc2\n",
    "```"
   ]
  },
  {
   "cell_type": "markdown",
   "metadata": {},
   "source": [
    "## load environment variables"
   ]
  },
  {
   "cell_type": "markdown",
   "metadata": {},
   "source": [
    "load from `core`"
   ]
  },
  {
   "cell_type": "code",
   "execution_count": null,
   "metadata": {},
   "outputs": [],
   "source": [
    "source ${CORE_ROOT}/docs/environments/azure_aks/env"
   ]
  },
  {
   "cell_type": "markdown",
   "metadata": {},
   "source": [
    "load from `uoa-poc2`"
   ]
  },
  {
   "cell_type": "code",
   "execution_count": null,
   "metadata": {},
   "outputs": [],
   "source": [
    "source ${PJ_ROOT}/docs/environments/azure_aks/env"
   ]
  },
  {
   "cell_type": "markdown",
   "metadata": {},
   "source": [
    "## setup alias"
   ]
  },
  {
   "cell_type": "code",
   "execution_count": null,
   "metadata": {},
   "outputs": [],
   "source": [
    "alias now=\"python -c 'import datetime; print(datetime.datetime.now().strftime(\\\"%Y-%m-%dT%H:%M:%S.%f+09:00\\\"))'\"\n",
    "alias iso8601=\"python -c 'import datetime; print(datetime.datetime.now(tz=datetime.timezone.utc).isoformat(timespec=\\\"seconds\\\"))'\""
   ]
  },
  {
   "cell_type": "markdown",
   "metadata": {},
   "source": [
    "## prepare"
   ]
  },
  {
   "cell_type": "markdown",
   "metadata": {},
   "source": [
    "### prepare a command to subscribe all topics"
   ]
  },
  {
   "cell_type": "code",
   "execution_count": null,
   "metadata": {},
   "outputs": [],
   "source": [
    "echo \"mosquitto_sub -h mqtt.${DOMAIN} -p 8883 --cafile ${CORE_ROOT}/secrets/DST_Root_CA_X3.pem -d -u iotagent -P ${MQTT__iotagent} -t /#\""
   ]
  },
  {
   "cell_type": "markdown",
   "metadata": {},
   "source": [
    "### subscribe all topics"
   ]
  },
  {
   "cell_type": "markdown",
   "metadata": {},
   "source": [
    "_Outside of this notebook_\n",
    "1. open a ternminal.\n",
    "1. run the above command displayed `prepare a command to subscribe all topics`."
   ]
  },
  {
   "cell_type": "markdown",
   "metadata": {},
   "source": [
    "### start uoa_poc2_bridge"
   ]
  },
  {
   "cell_type": "markdown",
   "metadata": {},
   "source": [
    "_On ROS Kinect PC_\n",
    "1. open three ternminal.\n",
    "1. start roscore by `roscore` (terminal 1)\n",
    "1. (megarover) start uoa_poc2_bridge by `roslaunch uoa_poc2_bridge uoa_poc2_bridge_mr.launch` (terminal 2)  \n",
    "(turtlebot3) start uoa_poc2_bridge by `roslaunch uoa_poc2_bridge uoa_poc2_bridge_tb3.launch` (terminal 2)\n",
    "\n",
    "* install python packages by `rosdep install --from-paths src --ignore-src -r -y` if missing packages"
   ]
  },
  {
   "cell_type": "markdown",
   "metadata": {},
   "source": [
    "### show a ros message for sending a command to delivery_robot_01"
   ]
  },
  {
   "cell_type": "markdown",
   "metadata": {},
   "source": [
    "_On ROS Kinect PC_\n",
    "1. start a terminal\n",
    "1. watch the ros topic by `rostopic echo /robot_bridge/turtlebot_01/cmd`"
   ]
  },
  {
   "cell_type": "markdown",
   "metadata": {},
   "source": [
    "### show a ros message for sending a command to delivery_robot_02"
   ]
  },
  {
   "cell_type": "markdown",
   "metadata": {},
   "source": [
    "_On ROS Kinect PC_\n",
    "1. start a terminal\n",
    "1. watch the ros topic by `rostopic echo /robot_bridge/megarover_01/cmd`"
   ]
  },
  {
   "cell_type": "markdown",
   "metadata": {},
   "source": [
    "### show log messages of `robot-controller`"
   ]
  },
  {
   "cell_type": "markdown",
   "metadata": {},
   "source": [
    "_Outside of this notebook_\n",
    "1. open a ternminal.\n",
    "1. run below command to show log messages of `robot-controller`\n",
    "> `kubectl logs -f -l app=robot-controller`"
   ]
  },
  {
   "cell_type": "markdown",
   "metadata": {},
   "source": [
    "## initialize robot entities"
   ]
  },
  {
   "cell_type": "code",
   "execution_count": null,
   "metadata": {},
   "outputs": [],
   "source": [
    "DELIVERY_ROBOT_IDS=$(cat << __EOD__\n",
    "[\n",
    "  {\n",
    "    \"id\": \"delivery_robot_01\"\n",
    "  },\n",
    "  {\n",
    "    \"id\": \"delivery_robot_02\"\n",
    "  }\n",
    "]\n",
    "__EOD__\n",
    ")\n",
    "\n",
    "TOKEN=$(cat ${CORE_ROOT}/secrets/auth-tokens.json | jq '.[0].settings.bearer_tokens[0].token' -r)\n",
    "LEN=$(echo ${DELIVERY_ROBOT_IDS} | jq length)\n",
    "count=0\n",
    "if [ ${LEN} -gt 0 ]; then\n",
    "  for i in $(seq 0 $((${LEN} - 1))); do\n",
    "    id=$(echo ${DELIVERY_ROBOT_IDS} | jq .[${i}].id -r)\n",
    "    echo \"${id} will be initialized.\"\n",
    "    curl -i -H \"Authorization: bearer ${TOKEN}\" -H \"Fiware-Service: ${FIWARE_SERVICE}\" -H \"Fiware-Servicepath: ${DELIVERY_ROBOT_SERVICEPATH}\" -H \"Content-Type: application/json\" https://api.${DOMAIN}/orion/v2/entities/${id}/attrs?type=${DELIVERY_ROBOT_TYPE} -X PATCH -d @- <<__EOS__\n",
    "{\n",
    "  \"mode\": {\n",
    "    \"value\": \"standby\",\n",
    "    \"type\": \"string\"\n",
    "  },\n",
    "  \"remaining_waypoints_list\": {\n",
    "    \"type\": \"array\",\n",
    "    \"value\": []\n",
    "  },\n",
    "  \"navigating_waypoints\": {\n",
    "    \"type\": \"object\",\n",
    "    \"value\": {}\n",
    "  },\n",
    "  \"current_routes\": {\n",
    "    \"type\": \"array\",\n",
    "    \"value\": []\n",
    "  },\n",
    "  \"order\": {\n",
    "    \"type\": \"object\",\n",
    "    \"value\": {}\n",
    "  },\n",
    "  \"current_mode\": {\n",
    "    \"type\": \"string\",\n",
    "    \"value\": \" \",\n",
    "    \"metadata\": {}\n",
    "  },\n",
    "  \"current_state\": {\n",
    "    \"type\": \"string\",\n",
    "    \"value\": \" \",\n",
    "    \"metadata\": {}\n",
    "  },\n",
    "  \"caller\": {\n",
    "    \"type\": \"string\",\n",
    "    \"value\": \" \",\n",
    "    \"metadata\": {}\n",
    "  },\n",
    "  \"last_processed_time\": {\n",
    "    \"type\": \"ISO8601\",\n",
    "    \"value\": \"1970-01-01T09:00:00+09:00\",\n",
    "    \"metadata\": {}\n",
    "  }\n",
    "}\n",
    "__EOS__\n",
    "  let ++count\n",
    "  done\n",
    "fi\n",
    "echo \"${count} entities were initialized.\""
   ]
  },
  {
   "cell_type": "markdown",
   "metadata": {},
   "source": [
    "example)\n",
    "\n",
    "```\n",
    "delivery_robot_01 will be initialized.\n",
    "HTTP/1.1 204 No Content\n",
    "content-length: 0\n",
    "fiware-correlator: 48b434b0-01f9-11ea-b2b0-3e52937c8752\n",
    "date: Fri, 08 Nov 2019 07:27:56 GMT\n",
    "x-envoy-upstream-service-time: 6\n",
    "server: envoy\n",
    "\n",
    "delivery_robot_02 will be initialized.\n",
    "HTTP/1.1 204 No Content\n",
    "content-length: 0\n",
    "fiware-correlator: 48d049f2-01f9-11ea-acd2-aaa36e462053\n",
    "date: Fri, 08 Nov 2019 07:27:56 GMT\n",
    "x-envoy-upstream-service-time: 9\n",
    "server: envoy\n",
    "\n",
    "2 entities were initialized.\n",
    "```"
   ]
  },
  {
   "cell_type": "markdown",
   "metadata": {},
   "source": [
    "### confirm entities"
   ]
  },
  {
   "cell_type": "code",
   "execution_count": null,
   "metadata": {
    "scrolled": false
   },
   "outputs": [],
   "source": [
    "TOKEN=$(cat ${CORE_ROOT}/secrets/auth-tokens.json | jq '.[0].settings.bearer_tokens[0].token' -r)\n",
    "curl -sS -H \"Authorization: bearer ${TOKEN}\" -H \"Fiware-Service: ${FIWARE_SERVICE}\" -H \"Fiware-Servicepath: ${DELIVERY_ROBOT_SERVICEPATH}\" \"https://api.${DOMAIN}/orion/v2/entities/?type=${DELIVERY_ROBOT_TYPE}&attrs=mode,order,remaining_waypoints_list,navigating_waypoints,current_routes,current_mode,current_state,caller,last_processed_time\" | jq ."
   ]
  },
  {
   "cell_type": "markdown",
   "metadata": {},
   "source": [
    "example)\n",
    "\n",
    "```json\n",
    "[\n",
    "  {\n",
    "    \"id\": \"delivery_robot_01\",\n",
    "    \"type\": \"delivery_robot\",\n",
    "    \"mode\": {\n",
    "      \"type\": \"string\",\n",
    "      \"value\": \"standby\",\n",
    "      \"metadata\": {}\n",
    "    },\n",
    "    \"order\": {\n",
    "      \"type\": \"object\",\n",
    "      \"value\": {},\n",
    "      \"metadata\": {}\n",
    "    },\n",
    "    \"remaining_waypoints_list\": {\n",
    "      \"type\": \"array\",\n",
    "      \"value\": [],\n",
    "      \"metadata\": {}\n",
    "    },\n",
    "    \"navigating_waypoints\": {\n",
    "      \"type\": \"object\",\n",
    "      \"value\": {},\n",
    "      \"metadata\": {}\n",
    "    },\n",
    "    \"current_routes\": {\n",
    "      \"type\": \"array\",\n",
    "      \"value\": [],\n",
    "      \"metadata\": {}\n",
    "    },\n",
    "    \"current_mode\": {\n",
    "      \"type\": \"string\",\n",
    "      \"value\": \"standby\",\n",
    "      \"metadata\": {\n",
    "        \"TimeInstant\": {\n",
    "          \"type\": \"datetime\",\n",
    "          \"value\": \"2019-11-21T13:10:41.009+09:00\"\n",
    "        }\n",
    "      }\n",
    "    },\n",
    "    \"current_state\": {\n",
    "      \"type\": \"string\",\n",
    "      \"value\": \"standby\",\n",
    "      \"metadata\": {\n",
    "        \"TimeInstant\": {\n",
    "          \"type\": \"datetime\",\n",
    "          \"value\": \"2019-11-21T13:10:41.522+09:00\"\n",
    "        }\n",
    "      }\n",
    "    },\n",
    "    \"caller\": {\n",
    "      \"type\": \"string\",\n",
    "      \"value\": \" \",\n",
    "      \"metadata\": {}\n",
    "    },\n",
    "    \"last_processed_time\": {\n",
    "      \"type\": \"ISO8601\",\n",
    "      \"value\": \"1970-01-01T00:00:00.00Z\",\n",
    "      \"metadata\": {}\n",
    "    }\n",
    "  },\n",
    "  {\n",
    "    \"id\": \"delivery_robot_02\",\n",
    "    \"type\": \"delivery_robot\",\n",
    "    \"mode\": {\n",
    "      \"type\": \"string\",\n",
    "      \"value\": \"standby\",\n",
    "      \"metadata\": {}\n",
    "    },\n",
    "    \"order\": {\n",
    "      \"type\": \"object\",\n",
    "      \"value\": {},\n",
    "      \"metadata\": {}\n",
    "    },\n",
    "    \"remaining_waypoints_list\": {\n",
    "      \"type\": \"array\",\n",
    "      \"value\": [],\n",
    "      \"metadata\": {}\n",
    "    },\n",
    "    \"navigating_waypoints\": {\n",
    "      \"type\": \"object\",\n",
    "      \"value\": {},\n",
    "      \"metadata\": {}\n",
    "    },\n",
    "    \"current_routes\": {\n",
    "      \"type\": \"array\",\n",
    "      \"value\": [],\n",
    "      \"metadata\": {}\n",
    "    },\n",
    "    \"current_mode\": {\n",
    "      \"type\": \"string\",\n",
    "      \"value\": \"standby\",\n",
    "      \"metadata\": {\n",
    "        \"TimeInstant\": {\n",
    "          \"type\": \"datetime\",\n",
    "          \"value\": \"2019-11-21T13:10:41.521+09:00\"\n",
    "        }\n",
    "      }\n",
    "    },\n",
    "    \"current_state\": {\n",
    "      \"type\": \"string\",\n",
    "      \"value\": \"standby\",\n",
    "      \"metadata\": {\n",
    "        \"TimeInstant\": {\n",
    "          \"type\": \"datetime\",\n",
    "          \"value\": \"2019-11-21T13:10:41.686+09:00\"\n",
    "        }\n",
    "      }\n",
    "    },\n",
    "    \"caller\": {\n",
    "      \"type\": \"string\",\n",
    "      \"value\": \" \",\n",
    "      \"metadata\": {}\n",
    "    },\n",
    "    \"last_processed_time\": {\n",
    "      \"type\": \"ISO8601\",\n",
    "      \"value\": \"1970-01-01T00:00:00.00Z\",\n",
    "      \"metadata\": {}\n",
    "    }\n",
    "  }\n",
    "]\n",
    "```"
   ]
  },
  {
   "cell_type": "markdown",
   "metadata": {},
   "source": [
    "## initialize token entities"
   ]
  },
  {
   "cell_type": "code",
   "execution_count": null,
   "metadata": {},
   "outputs": [],
   "source": [
    "TOKEN_IDS=$(cat << __EOD__\n",
    "[\n",
    "  {\n",
    "    \"id\": \"token_a\"\n",
    "  },\n",
    "  {\n",
    "    \"id\": \"token_b\"\n",
    "  },\n",
    "  {\n",
    "    \"id\": \"token_c\"\n",
    "  }\n",
    "]\n",
    "__EOD__\n",
    ")\n",
    "\n",
    "TOKEN=$(cat ${CORE_ROOT}/secrets/auth-tokens.json | jq '.[0].settings.bearer_tokens[0].token' -r)\n",
    "LEN=$(echo ${TOKEN_IDS} | jq length)\n",
    "count=0\n",
    "if [ ${LEN} -gt 0 ]; then\n",
    "  for i in $(seq 0 $((${LEN} - 1))); do\n",
    "    id=$(echo ${TOKEN_IDS} | jq .[${i}].id -r)\n",
    "    echo \"${id} will be initialized.\"\n",
    "    curl -i -H \"Authorization: bearer ${TOKEN}\" -H \"Fiware-Service: ${FIWARE_SERVICE}\" -H \"Fiware-Servicepath: ${TOKEN_SERVICEPATH}\" -H \"Content-Type: application/json\" https://api.${DOMAIN}/orion/v2/entities/${id}/attrs?type=${TOKEN_TYPE} -X PATCH -d @- <<__EOS__\n",
    "{\n",
    "  \"is_locked\": {\n",
    "    \"type\": \"boolean\",\n",
    "    \"value\": false\n",
    "  },\n",
    "  \"lock_owner_id\": {\n",
    "    \"type\": \"string\",\n",
    "    \"value\": \"\"\n",
    "  },\n",
    "  \"waitings\": {\n",
    "    \"type\": \"array\",\n",
    "    \"value\": []\n",
    "  }\n",
    "}\n",
    "__EOS__\n",
    "  let ++count\n",
    "  done\n",
    "fi\n",
    "echo \"${count} entities were initialized.\""
   ]
  },
  {
   "cell_type": "markdown",
   "metadata": {},
   "source": [
    "example)\n",
    "\n",
    "```\n",
    "token_a will be initialized.\n",
    "HTTP/1.1 204 No Content\n",
    "content-length: 0\n",
    "fiware-correlator: f20a7ef2-04d8-11ea-acd2-aaa36e462053\n",
    "date: Mon, 11 Nov 2019 23:14:00 GMT\n",
    "x-envoy-upstream-service-time: 6\n",
    "server: envoy\n",
    "\n",
    "...\n",
    "\n",
    "token_c will be initialized.\n",
    "HTTP/1.1 204 No Content\n",
    "content-length: 0\n",
    "fiware-correlator: f2331a10-04d8-11ea-bfd1-2621012d3c7f\n",
    "date: Mon, 11 Nov 2019 23:14:00 GMT\n",
    "x-envoy-upstream-service-time: 5\n",
    "server: envoy\n",
    "\n",
    "3 entities were initialized.\n",
    "```"
   ]
  },
  {
   "cell_type": "markdown",
   "metadata": {},
   "source": [
    "### confirm entities"
   ]
  },
  {
   "cell_type": "code",
   "execution_count": null,
   "metadata": {
    "scrolled": false
   },
   "outputs": [],
   "source": [
    "TOKEN=$(cat ${CORE_ROOT}/secrets/auth-tokens.json | jq '.[0].settings.bearer_tokens[0].token' -r)\n",
    "curl -sS -H \"Authorization: bearer ${TOKEN}\" -H \"Fiware-Service: ${FIWARE_SERVICE}\" -H \"Fiware-Servicepath: ${TOKEN_SERVICEPATH}\" \"https://api.${DOMAIN}/orion/v2/entities/?type=${TOKEN_TYPE}\" | jq ."
   ]
  },
  {
   "cell_type": "markdown",
   "metadata": {},
   "source": [
    "example)\n",
    "\n",
    "```json\n",
    "[\n",
    "  {\n",
    "    \"id\": \"token_a\",\n",
    "    \"type\": \"token\",\n",
    "    \"TimeInstant\": {\n",
    "      \"type\": \"ISO8601\",\n",
    "      \"value\": \"2019-11-08T05:06:42.00Z\",\n",
    "      \"metadata\": {}\n",
    "    },\n",
    "    \"is_locked\": {\n",
    "      \"type\": \"boolean\",\n",
    "      \"value\": false,\n",
    "      \"metadata\": {}\n",
    "    },\n",
    "    \"lock_owner_id\": {\n",
    "      \"type\": \"string\",\n",
    "      \"value\": \"\",\n",
    "      \"metadata\": {}\n",
    "    },\n",
    "    \"waitings\": {\n",
    "      \"type\": \"array\",\n",
    "      \"value\": [],\n",
    "      \"metadata\": {}\n",
    "    }\n",
    "  },\n",
    "  {\n",
    "    \"id\": \"token_b\",\n",
    "    \"type\": \"token\",\n",
    "    \"TimeInstant\": {\n",
    "      \"type\": \"ISO8601\",\n",
    "      \"value\": \"2019-11-08T05:06:42.00Z\",\n",
    "      \"metadata\": {}\n",
    "    },\n",
    "    \"is_locked\": {\n",
    "      \"type\": \"boolean\",\n",
    "      \"value\": false,\n",
    "      \"metadata\": {}\n",
    "    },\n",
    "    \"lock_owner_id\": {\n",
    "      \"type\": \"string\",\n",
    "      \"value\": \"\",\n",
    "      \"metadata\": {}\n",
    "    },\n",
    "    \"waitings\": {\n",
    "      \"type\": \"array\",\n",
    "      \"value\": [],\n",
    "      \"metadata\": {}\n",
    "    }\n",
    "  },\n",
    "  {\n",
    "    \"id\": \"token_c\",\n",
    "    \"type\": \"token\",\n",
    "    \"TimeInstant\": {\n",
    "      \"type\": \"ISO8601\",\n",
    "      \"value\": \"2019-11-08T05:06:42.00Z\",\n",
    "      \"metadata\": {}\n",
    "    },\n",
    "    \"is_locked\": {\n",
    "      \"type\": \"boolean\",\n",
    "      \"value\": false,\n",
    "      \"metadata\": {}\n",
    "    },\n",
    "    \"lock_owner_id\": {\n",
    "      \"type\": \"string\",\n",
    "      \"value\": \"\",\n",
    "      \"metadata\": {}\n",
    "    },\n",
    "    \"waitings\": {\n",
    "      \"type\": \"array\",\n",
    "      \"value\": [],\n",
    "      \"metadata\": {}\n",
    "    }\n",
    "  }\n",
    "]\n",
    "```"
   ]
  },
  {
   "cell_type": "markdown",
   "metadata": {},
   "source": [
    "## initialize physical robots"
   ]
  },
  {
   "cell_type": "markdown",
   "metadata": {},
   "source": [
    "### move delivery_robot_01 to staret position"
   ]
  },
  {
   "cell_type": "code",
   "execution_count": null,
   "metadata": {},
   "outputs": [],
   "source": [
    "mosquitto_pub -h mqtt.${DOMAIN} -p 8883 --cafile ${CORE_ROOT}/secrets/DST_Root_CA_X3.pem -d -u iotagent -P ${MQTT__iotagent} -t /${DELIVERY_ROBOT_TYPE}/${DELIVERY_ROBOT_01}/cmd -m \"{\\\"send_cmd\\\":{\\\"time\\\":\\\"$(now)\\\",\\\"cmd\\\":\\\"navi\\\",\\\"waypoints\\\":[{\\\"point\\\":{\\\"x\\\":-0.4,\\\"y\\\":1.5,\\\"z\\\":0},\\\"angle\\\":{\\\"roll\\\":0,\\\"pitch\\\":0,\\\"yaw\\\":-1.57}}]}}\""
   ]
  },
  {
   "cell_type": "markdown",
   "metadata": {},
   "source": [
    "#### confirm mqtt message"
   ]
  },
  {
   "cell_type": "markdown",
   "metadata": {},
   "source": [
    "example)\n",
    "\n",
    "```\n",
    "Client mosq-TX4bePNymjLv3bvrtN received PUBLISH (d0, q0, r0, m0, '/delivery_robot/delivery_robot_01/cmd', ... (159 bytes))\n",
    "{\"send_cmd\":{\"time\":\"2019-11-11T12:13:41.824398+09:00\",\"cmd\":\"navi\",\"waypoints\":[{\"point\":{\"x\":-0.4,\"y\":1.5,\"z\":0},\"angle\":{\"roll\":0,\"pitch\":0,\"yaw\":-1.57}}]}}\n",
    "```"
   ]
  },
  {
   "cell_type": "markdown",
   "metadata": {},
   "source": [
    "#### confirm ros message for delivery_robot_01 ( `/robot_bridge/turtlebot_01/cmd` )"
   ]
  },
  {
   "cell_type": "markdown",
   "metadata": {},
   "source": [
    "example)\n",
    "\n",
    "```yaml\n",
    "id: \"delivery_robot_01\"\n",
    "type: \"delivery_robot\"\n",
    "time: \"2019-11-11T12:13:41.824398+09:00\"\n",
    "cmd: \"navi\"\n",
    "waypoints:\n",
    "  -\n",
    "    point:\n",
    "      x: -0.4\n",
    "      y: 1.5\n",
    "      z: 0.0\n",
    "    angle_optional:\n",
    "      valid: True\n",
    "      angle:\n",
    "        roll: 0.0\n",
    "        pitch: 0.0\n",
    "        yaw: -1.57\n",
    "---\n",
    "```"
   ]
  },
  {
   "cell_type": "markdown",
   "metadata": {},
   "source": [
    "### move delivery_robot_02 to staret position"
   ]
  },
  {
   "cell_type": "code",
   "execution_count": null,
   "metadata": {},
   "outputs": [],
   "source": [
    "mosquitto_pub -h mqtt.${DOMAIN} -p 8883 --cafile ${CORE_ROOT}/secrets/DST_Root_CA_X3.pem -d -u iotagent -P ${MQTT__iotagent} -t /${DELIVERY_ROBOT_TYPE}/${DELIVERY_ROBOT_02}/cmd -m \"{\\\"send_cmd\\\":{\\\"time\\\":\\\"$(now)\\\",\\\"cmd\\\":\\\"navi\\\",\\\"waypoints\\\":[{\\\"point\\\":{\\\"x\\\":-1.5,\\\"y\\\":1.5,\\\"z\\\":0},\\\"angle\\\":{\\\"roll\\\":0,\\\"pitch\\\":0,\\\"yaw\\\":-1.57}}]}}\""
   ]
  },
  {
   "cell_type": "markdown",
   "metadata": {},
   "source": [
    "#### confirm mqtt message"
   ]
  },
  {
   "cell_type": "markdown",
   "metadata": {},
   "source": [
    "example)\n",
    "\n",
    "```\n",
    "Client mosq-TX4bePNymjLv3bvrtN received PUBLISH (d0, q0, r0, m0, '/delivery_robot/delivery_robot_02/cmd', ... (159 bytes))\n",
    "{\"send_cmd\":{\"time\":\"2019-11-11T12:16:52.974547+09:00\",\"cmd\":\"navi\",\"waypoints\":[{\"point\":{\"x\":-1.5,\"y\":1.5,\"z\":0},\"angle\":{\"roll\":0,\"pitch\":0,\"yaw\":-1.57}}]}}\n",
    "```"
   ]
  },
  {
   "cell_type": "markdown",
   "metadata": {},
   "source": [
    "#### confirm ros message for delivery_robot_02 ( `/robot_bridge/megarover_01/cmd` )"
   ]
  },
  {
   "cell_type": "markdown",
   "metadata": {},
   "source": [
    "example)\n",
    "\n",
    "```yaml\n",
    "id: \"delivery_robot_02\"\n",
    "type: \"delivery_robot\"\n",
    "time: \"2019-11-11T12:16:52.974547+09:00\"\n",
    "cmd: \"navi\"\n",
    "waypoints:\n",
    "  -\n",
    "    point:\n",
    "      x: -1.5\n",
    "      y: 1.5\n",
    "      z: 0.0\n",
    "    angle_optional:\n",
    "      valid: True\n",
    "      angle:\n",
    "        roll: 0.0\n",
    "        pitch: 0.0\n",
    "        yaw: -1.57\n",
    "---\n",
    "```"
   ]
  }
 ],
 "metadata": {
  "kernelspec": {
   "display_name": "Bash",
   "language": "bash",
   "name": "bash"
  },
  "language_info": {
   "codemirror_mode": "shell",
   "file_extension": ".sh",
   "mimetype": "text/x-sh",
   "name": "bash"
  }
 },
 "nbformat": 4,
 "nbformat_minor": 2
}
