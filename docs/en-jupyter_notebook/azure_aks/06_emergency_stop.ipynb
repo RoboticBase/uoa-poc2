{
 "cells": [
  {
   "cell_type": "markdown",
   "metadata": {},
   "source": [
    "# 6 Emergency Stop"
   ]
  },
  {
   "cell_type": "markdown",
   "metadata": {},
   "source": [
    "change ${CORE_ROOT} to your path of core."
   ]
  },
  {
   "cell_type": "code",
   "execution_count": null,
   "metadata": {},
   "outputs": [],
   "source": [
    "export CORE_ROOT=\"${HOME}/core\""
   ]
  },
  {
   "cell_type": "markdown",
   "metadata": {},
   "source": [
    "change ${PJ_ROOT} to your path of uoa-poc2."
   ]
  },
  {
   "cell_type": "code",
   "execution_count": null,
   "metadata": {},
   "outputs": [],
   "source": [
    "export PJ_ROOT=\"${HOME}/uoa-poc2\"\n",
    "cd ${PJ_ROOT};pwd"
   ]
  },
  {
   "cell_type": "markdown",
   "metadata": {},
   "source": [
    "example)\n",
    "\n",
    "```\n",
    "/Users/user/uoa-poc2\n",
    "```"
   ]
  },
  {
   "cell_type": "markdown",
   "metadata": {},
   "source": [
    "## load environment variables"
   ]
  },
  {
   "cell_type": "markdown",
   "metadata": {},
   "source": [
    "load from `core`"
   ]
  },
  {
   "cell_type": "code",
   "execution_count": null,
   "metadata": {},
   "outputs": [],
   "source": [
    "source ${CORE_ROOT}/docs/environments/azure_aks/env"
   ]
  },
  {
   "cell_type": "markdown",
   "metadata": {},
   "source": [
    "load from `uoa-poc2`"
   ]
  },
  {
   "cell_type": "code",
   "execution_count": null,
   "metadata": {},
   "outputs": [],
   "source": [
    "source ${PJ_ROOT}/docs/environments/azure_aks/env"
   ]
  },
  {
   "cell_type": "markdown",
   "metadata": {},
   "source": [
    "## setup alias"
   ]
  },
  {
   "cell_type": "code",
   "execution_count": null,
   "metadata": {},
   "outputs": [],
   "source": [
    "alias now=\"python -c 'import datetime; print(datetime.datetime.now().strftime(\\\"%Y-%m-%dT%H:%M:%S.%f+09:00\\\"))'\""
   ]
  },
  {
   "cell_type": "markdown",
   "metadata": {},
   "source": [
    "## prepare"
   ]
  },
  {
   "cell_type": "markdown",
   "metadata": {},
   "source": [
    "### prepare a command to subscribe all topics"
   ]
  },
  {
   "cell_type": "code",
   "execution_count": null,
   "metadata": {},
   "outputs": [],
   "source": [
    "echo \"mosquitto_sub -h mqtt.${DOMAIN} -p 8883 --cafile ${CORE_ROOT}/secrets/DST_Root_CA_X3.pem -d -u iotagent -P ${MQTT__iotagent} -t /delivery_robot/#\""
   ]
  },
  {
   "cell_type": "markdown",
   "metadata": {},
   "source": [
    "### show a ros message for sending a emergency command to `delivery_robot_01`"
   ]
  },
  {
   "cell_type": "markdown",
   "metadata": {},
   "source": [
    "_On ROS Kinect PC_\n",
    "\n",
    "1. start a terminal\n",
    "1. watch the ros topic by `rostopic echo /robot_bridge/turtlebot_01/emg`"
   ]
  },
  {
   "cell_type": "markdown",
   "metadata": {},
   "source": [
    "### show a ros message for sending a emergency command to `delivery_robot_02`"
   ]
  },
  {
   "cell_type": "markdown",
   "metadata": {},
   "source": [
    "_On ROS Kinect PC_\n",
    "\n",
    "1. start a terminal\n",
    "1. watch the ros topic by `rostopic echo /robot_bridge/megarover_01/emg`"
   ]
  },
  {
   "cell_type": "markdown",
   "metadata": {},
   "source": [
    "## send `stop` to `delivery_robot_01`"
   ]
  },
  {
   "cell_type": "code",
   "execution_count": null,
   "metadata": {},
   "outputs": [],
   "source": [
    "TOKEN=$(cat ${CORE_ROOT}/secrets/auth-tokens.json | jq '.[0].settings.bearer_tokens[0].token' -r)\n",
    "curl -i -H \"Authorization: bearer ${TOKEN}\" -H \"Fiware-Service: ${FIWARE_SERVICE}\" -H \"Fiware-Servicepath: ${DELIVERY_ROBOT_SERVICEPATH}\" -H \"Content-Type: application/json\" https://api.${DOMAIN}/orion/v2/entities/${DELIVERY_ROBOT_01}/attrs?type=${DELIVERY_ROBOT_TYPE} -X PATCH -d @-<<__EOS__\n",
    "{\n",
    "  \"send_emg\": {\n",
    "    \"value\": {\n",
    "      \"time\": \"$(now)\",\n",
    "      \"emergency_cmd\": \"stop\"\n",
    "    }\n",
    "  }\n",
    "}\n",
    "__EOS__"
   ]
  },
  {
   "cell_type": "markdown",
   "metadata": {},
   "source": [
    "example)\n",
    "\n",
    "```\n",
    "HTTP/1.1 204 No Content\n",
    "content-length: 0\n",
    "fiware-correlator: 95133cbc-0f13-11ea-8f34-aaa36e462053\n",
    "date: Sun, 24 Nov 2019 23:38:56 GMT\n",
    "x-envoy-upstream-service-time: 46\n",
    "server: envoy\n",
    "```"
   ]
  },
  {
   "cell_type": "markdown",
   "metadata": {},
   "source": [
    "### confirm that a MQTT message sent to `/delivery_robot/delivery_robot_01/cmd`"
   ]
  },
  {
   "cell_type": "markdown",
   "metadata": {},
   "source": [
    "example)\n",
    "\n",
    "```\n",
    "Client mosq-O5DiraucaxanRZCnrE received PUBLISH (d0, q0, r0, m0, '/delivery_robot/delivery_robot_01/cmd', ... (79 bytes))\n",
    "{\"send_emg\":{\"time\":\"2019-11-25T08:38:56.589640+09:00\",\"emergency_cmd\":\"stop\"}}\n",
    "```"
   ]
  },
  {
   "cell_type": "markdown",
   "metadata": {},
   "source": [
    "### confirm that a ROS message sent to `/robot_bridge/turtlebot_01/emg`"
   ]
  },
  {
   "cell_type": "markdown",
   "metadata": {},
   "source": [
    "example)\n",
    "\n",
    "```yaml\n",
    "id: \"delivery_robot_01\"\n",
    "type: \"delivery_robot\"\n",
    "time: \"2019-11-25T08:38:56.589640+09:00\"\n",
    "emergency_cmd: \"stop\"\n",
    "---\n",
    "```"
   ]
  },
  {
   "cell_type": "markdown",
   "metadata": {},
   "source": [
    "## send `stop` to `delivery_robot_02`"
   ]
  },
  {
   "cell_type": "code",
   "execution_count": null,
   "metadata": {},
   "outputs": [],
   "source": [
    "TOKEN=$(cat ${CORE_ROOT}/secrets/auth-tokens.json | jq '.[0].settings.bearer_tokens[0].token' -r)\n",
    "curl -i -H \"Authorization: bearer ${TOKEN}\" -H \"Fiware-Service: ${FIWARE_SERVICE}\" -H \"Fiware-Servicepath: ${DELIVERY_ROBOT_SERVICEPATH}\" -H \"Content-Type: application/json\" https://api.${DOMAIN}/orion/v2/entities/${DELIVERY_ROBOT_02}/attrs?type=${DELIVERY_ROBOT_TYPE} -X PATCH -d @-<<__EOS__\n",
    "{\n",
    "  \"send_emg\": {\n",
    "    \"value\": {\n",
    "      \"time\": \"$(now)\",\n",
    "      \"emergency_cmd\": \"stop\"\n",
    "    }\n",
    "  }\n",
    "}\n",
    "__EOS__"
   ]
  },
  {
   "cell_type": "markdown",
   "metadata": {},
   "source": [
    "example)\n",
    "\n",
    "```\n",
    "HTTP/1.1 204 No Content\n",
    "content-length: 0\n",
    "fiware-correlator: e926d1aa-0f14-11ea-910e-aaa36e462053\n",
    "date: Sun, 24 Nov 2019 23:48:27 GMT\n",
    "x-envoy-upstream-service-time: 39\n",
    "server: envoy\n",
    "```"
   ]
  },
  {
   "cell_type": "markdown",
   "metadata": {},
   "source": [
    "### confirm that a MQTT message sent to `/delivery_robot/delivery_robot_02/cmd`"
   ]
  },
  {
   "cell_type": "markdown",
   "metadata": {},
   "source": [
    "example)\n",
    "\n",
    "```\n",
    "Client mosq-O5DiraucaxanRZCnrE received PUBLISH (d0, q0, r0, m0, '/delivery_robot/delivery_robot_02/cmd', ... (79 bytes))\n",
    "{\"send_emg\":{\"time\":\"2019-11-25T08:48:27.281778+09:00\",\"emergency_cmd\":\"stop\"}}\n",
    "```"
   ]
  },
  {
   "cell_type": "markdown",
   "metadata": {},
   "source": [
    "### confirm that a ROS message sent to `/robot_bridge/megarover_01/emg`"
   ]
  },
  {
   "cell_type": "markdown",
   "metadata": {},
   "source": [
    "example)\n",
    "\n",
    "```yaml\n",
    "id: \"delivery_robot_02\"\n",
    "type: \"delivery_robot\"\n",
    "time: \"2019-11-25T08:48:27.281778+09:00\"\n",
    "emergency_cmd: \"stop\"\n",
    "---\n",
    "```"
   ]
  }
 ],
 "metadata": {
  "kernelspec": {
   "display_name": "Bash",
   "language": "bash",
   "name": "bash"
  },
  "language_info": {
   "codemirror_mode": "shell",
   "file_extension": ".sh",
   "mimetype": "text/x-sh",
   "name": "bash"
  }
 },
 "nbformat": 4,
 "nbformat_minor": 2
}
