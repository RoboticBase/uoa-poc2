{
 "cells": [
  {
   "cell_type": "markdown",
   "metadata": {},
   "source": [
    "# 3 test business logic"
   ]
  },
  {
   "cell_type": "markdown",
   "metadata": {},
   "source": [
    "change ${CORE_ROOT} to your path of `core`."
   ]
  },
  {
   "cell_type": "code",
   "execution_count": null,
   "metadata": {},
   "outputs": [],
   "source": [
    "export CORE_ROOT=\"${HOME}/core\""
   ]
  },
  {
   "cell_type": "markdown",
   "metadata": {},
   "source": [
    "change ${PJ_ROOT} to your path of `uoa-poc2`."
   ]
  },
  {
   "cell_type": "code",
   "execution_count": null,
   "metadata": {},
   "outputs": [],
   "source": [
    "export PJ_ROOT=\"${HOME}/uoa-poc2\"\n",
    "cd ${PJ_ROOT};pwd"
   ]
  },
  {
   "cell_type": "markdown",
   "metadata": {},
   "source": [
    "example)\n",
    "```\n",
    "/Users/user/uoa-poc2\n",
    "```"
   ]
  },
  {
   "cell_type": "markdown",
   "metadata": {},
   "source": [
    "## load environment variables"
   ]
  },
  {
   "cell_type": "markdown",
   "metadata": {},
   "source": [
    "load from `core`"
   ]
  },
  {
   "cell_type": "code",
   "execution_count": null,
   "metadata": {},
   "outputs": [],
   "source": [
    "source ${CORE_ROOT}/docs/environments/minikube/env"
   ]
  },
  {
   "cell_type": "markdown",
   "metadata": {},
   "source": [
    "load from `uoa-poc2`"
   ]
  },
  {
   "cell_type": "code",
   "execution_count": null,
   "metadata": {},
   "outputs": [],
   "source": [
    "source ${PJ_ROOT}/docs/environments/minikube/env"
   ]
  },
  {
   "cell_type": "markdown",
   "metadata": {},
   "source": [
    "## setup alias"
   ]
  },
  {
   "cell_type": "code",
   "execution_count": null,
   "metadata": {},
   "outputs": [],
   "source": [
    "alias now=\"python -c 'import datetime; print(datetime.datetime.now().strftime(\\\"%Y-%m-%dT%H:%M:%S.%f+09:00\\\"))'\""
   ]
  },
  {
   "cell_type": "markdown",
   "metadata": {},
   "source": [
    "## confirm the `send_cmd` command"
   ]
  },
  {
   "cell_type": "markdown",
   "metadata": {},
   "source": [
    "### prepare a command to subscribe all topics"
   ]
  },
  {
   "cell_type": "code",
   "execution_count": null,
   "metadata": {},
   "outputs": [],
   "source": [
    "echo \"mosquitto_sub -h ${HOST_IPADDR} -p 1883 -d -u iotagent -P ${MQTT__iotagent} -t /#\""
   ]
  },
  {
   "cell_type": "markdown",
   "metadata": {},
   "source": [
    "### subscribe all topics"
   ]
  },
  {
   "cell_type": "markdown",
   "metadata": {},
   "source": [
    "_Outside of this notebook_\n",
    "1. open a ternminal.\n",
    "1. run the above command displayed `prepare a command to subscribe all topics`."
   ]
  },
  {
   "cell_type": "markdown",
   "metadata": {},
   "source": [
    "### publish a MQTT message to emulate gamepad action"
   ]
  },
  {
   "cell_type": "code",
   "execution_count": null,
   "metadata": {},
   "outputs": [],
   "source": [
    "TOKEN=$(cat ${CORE_ROOT}/secrets/auth-tokens.json | jq '.[0].settings.bearer_tokens | map(select(.allowed_paths[] | contains (\"^/controller/.*$\"))) | .[0].token' -r)\n",
    "curl -i -H \"Authorization: bearer ${TOKEN}\" -H \"Content-type: application/json\"  http://${HOST_IPADDR}:8080/controller/api/v1/shipments/ -X POST -d @-<<__EOS__\n",
    "{\n",
    "}\n",
    "__EOS__"
   ]
  },
  {
   "cell_type": "markdown",
   "metadata": {},
   "source": [
    "example)\n",
    "```\n",
    "HTTP/1.1 201 Created\n",
    "server: envoy\n",
    "date: Tue, 06 Aug 2019 04:45:19 GMT\n",
    "content-type: application/json\n",
    "content-length: 21\n",
    "x-envoy-upstream-service-time: 39\n",
    "\n",
    "{\"result\":\"success\"}\n",
    "```"
   ]
  },
  {
   "cell_type": "markdown",
   "metadata": {},
   "source": [
    "### confirm the topic"
   ]
  },
  {
   "cell_type": "markdown",
   "metadata": {},
   "source": [
    "when executing the above command, show below messages on the opened terminal.\n",
    "\n",
    "example)\n",
    "```\n",
    "Client mosq/I0rq9ybM2H4tiV6KYs received PUBLISH (d0, q0, r0, m0, '/delivery_robot/megarover_01/cmd', ... (158 bytes))\n",
    "{\"send_cmd\":{\"time\":\"2019-08-06T13:45:20.153885+09:00\",\"cmd\":\"navi\",\"waypoints\":[{\"x\":0.503,\"y\":0,\"z\":0},{\"x\":3.411,\"y\":0,\"z\":0},{\"x\":3.411,\"y\":2.81,\"z\":0}]}}\n",
    "```"
   ]
  },
  {
   "cell_type": "markdown",
   "metadata": {},
   "source": [
    "### confirm delivery robot entity (megarover_01)"
   ]
  },
  {
   "cell_type": "code",
   "execution_count": null,
   "metadata": {
    "scrolled": false
   },
   "outputs": [],
   "source": [
    "TOKEN=$(cat ${CORE_ROOT}/secrets/auth-tokens.json | jq '.[0].settings.bearer_tokens[0].token' -r)\n",
    "curl -sS -H \"Authorization: bearer ${TOKEN}\" -H \"Fiware-Service: ${FIWARE_SERVICE}\" -H \"Fiware-Servicepath: ${DELIVERY_ROBOT_SERVICEPATH}\" http://${HOST_IPADDR}:8080/orion/v2/entities/${DELIVERY_ROBOT_01}/ | jq ."
   ]
  },
  {
   "cell_type": "markdown",
   "metadata": {},
   "source": [
    "`send_cmd_status` is `PENDING`\n",
    "\n",
    "example)\n",
    "```json\n",
    "{\n",
    "  \"id\": \"megarover_01\",\n",
    "  \"type\": \"delivery_robot\",\n",
    "  \"TimeInstant\": {\n",
    "    \"type\": \"ISO8601\",\n",
    "    \"value\": \"2019-08-06T04:58:38.00Z\",\n",
    "    \"metadata\": {}\n",
    "  },\n",
    "  \"battery\": {\n",
    "    \"type\": \"object\",\n",
    "    \"value\": {\n",
    "      \"voltage\": \"11.495\"\n",
    "    },\n",
    "    \"metadata\": {\n",
    "      \"TimeInstant\": {\n",
    "        \"type\": \"ISO8601\",\n",
    "        \"value\": \"2019-08-06T04:56:07.446Z\"\n",
    "      }\n",
    "    }\n",
    "  },\n",
    "  \"covariance\": {\n",
    "    \"type\": \"array\",\n",
    "    \"value\": [\n",
    "      \"0.1\",\n",
    "      \"0\",\n",
    "      \"0\",\n",
    "      \"0\",\n",
    "      \"0\",\n",
    "      \"0\",\n",
    "      \"0\",\n",
    "      \"0.1\",\n",
    "      \"0\",\n",
    "      \"0\",\n",
    "      \"0\",\n",
    "      \"0\",\n",
    "      \"0\",\n",
    "      \"0\",\n",
    "      \"1.7976931348623157e+308\",\n",
    "      \"0\",\n",
    "      \"0\",\n",
    "      \"0\",\n",
    "      \"0\",\n",
    "      \"0\",\n",
    "      \"0\",\n",
    "      \"1.7976931348623157e+308\",\n",
    "      \"0\",\n",
    "      \"0\",\n",
    "      \"0\",\n",
    "      \"0\",\n",
    "      \"0\",\n",
    "      \"0\",\n",
    "      \"1.7976931348623157e+308\",\n",
    "      \"0\",\n",
    "      \"0\",\n",
    "      \"0\",\n",
    "      \"0\",\n",
    "      \"0\",\n",
    "      \"0\",\n",
    "      \"0.05\"\n",
    "    ],\n",
    "    \"metadata\": {\n",
    "      \"TimeInstant\": {\n",
    "        \"type\": \"ISO8601\",\n",
    "        \"value\": \"2019-08-06T04:56:07.446Z\"\n",
    "      }\n",
    "    }\n",
    "  },\n",
    "  \"errors\": {\n",
    "    \"type\": \"array\",\n",
    "    \"value\": \"\",\n",
    "    \"metadata\": {\n",
    "      \"TimeInstant\": {\n",
    "        \"type\": \"ISO8601\",\n",
    "        \"value\": \"2019-08-06T04:56:07.446Z\"\n",
    "      }\n",
    "    }\n",
    "  },\n",
    "  \"mode\": {\n",
    "    \"type\": \"string\",\n",
    "    \"value\": \"navi\",\n",
    "    \"metadata\": {\n",
    "      \"TimeInstant\": {\n",
    "        \"type\": \"ISO8601\",\n",
    "        \"value\": \"2019-08-06T04:56:07.446Z\"\n",
    "      }\n",
    "    }\n",
    "  },\n",
    "  \"pose\": {\n",
    "    \"type\": \"object\",\n",
    "    \"value\": {\n",
    "      \"point\": {\n",
    "        \"x\": \"3.402\",\n",
    "        \"y\": \"1.015\",\n",
    "        \"z\": \"-0.002\"\n",
    "      },\n",
    "      \"angle\": {\n",
    "        \"roll\": \"-0.001\",\n",
    "        \"pitch\": \"0.012\",\n",
    "        \"yaw\": \"1.581\"\n",
    "      }\n",
    "    },\n",
    "    \"metadata\": {\n",
    "      \"TimeInstant\": {\n",
    "        \"type\": \"ISO8601\",\n",
    "        \"value\": \"2019-08-06T04:56:07.446Z\"\n",
    "      }\n",
    "    }\n",
    "  },\n",
    "  \"send_cmd_info\": {\n",
    "    \"type\": \"commandResult\",\n",
    "    \"value\": {\n",
    "      \"time\": \"2019-08-06T13:57:59.574629+09:00\",\n",
    "      \"received_time\": \"2019-07-05T07:28:26.1562279306+09:00\",\n",
    "      \"received_cmd\": \"navi\",\n",
    "      \"received_waypoints\": [\n",
    "        {\n",
    "          \"x\": \"0.503\",\n",
    "          \"y\": \"0\",\n",
    "          \"z\": \"0\"\n",
    "        },\n",
    "        {\n",
    "          \"x\": \"3.411\",\n",
    "          \"y\": \"0\",\n",
    "          \"z\": \"0\"\n",
    "        },\n",
    "        {\n",
    "          \"x\": \"3.411\",\n",
    "          \"y\": \"2.81\",\n",
    "          \"z\": \"0\"\n",
    "        }\n",
    "      ],\n",
    "      \"result\": \"ack\",\n",
    "      \"errors\": \"\"\n",
    "    },\n",
    "    \"metadata\": {\n",
    "      \"TimeInstant\": {\n",
    "        \"type\": \"ISO8601\",\n",
    "        \"value\": \"2019-08-06T04:57:59.700Z\"\n",
    "      }\n",
    "    }\n",
    "  },\n",
    "  \"send_cmd_status\": {\n",
    "    \"type\": \"commandStatus\",\n",
    "    \"value\": \"PENDING\",\n",
    "    \"metadata\": {\n",
    "      \"TimeInstant\": {\n",
    "        \"type\": \"ISO8601\",\n",
    "        \"value\": \"2019-08-06T04:58:38.054Z\"\n",
    "      }\n",
    "    }\n",
    "  },\n",
    "  \"time\": {\n",
    "    \"type\": \"ISO8601\",\n",
    "    \"value\": \"2019-08-06T13:56:07.309406+09:00\",\n",
    "    \"metadata\": {\n",
    "      \"TimeInstant\": {\n",
    "        \"type\": \"ISO8601\",\n",
    "        \"value\": \"2019-08-06T04:56:07.446Z\"\n",
    "      }\n",
    "    }\n",
    "  },\n",
    "  \"send_cmd\": {\n",
    "    \"type\": \"object\",\n",
    "    \"value\": \"\",\n",
    "    \"metadata\": {}\n",
    "  }\n",
    "}\n",
    "```"
   ]
  },
  {
   "cell_type": "markdown",
   "metadata": {},
   "source": [
    "### publish a MQTT message to emulate receiving command result"
   ]
  },
  {
   "cell_type": "code",
   "execution_count": null,
   "metadata": {},
   "outputs": [],
   "source": [
    "m=$(cat << __EOS__ \n",
    "{\n",
    "  \"send_cmd\": {\n",
    "    \"time\": \"$(now)\",\n",
    "    \"received_time\": \"2019-07-05T07:28:26.1562279306+09:00\",\n",
    "    \"received_cmd\": \"navi\",\n",
    "    \"received_waypoints\": [\n",
    "      {\n",
    "        \"x\": 0.503,\n",
    "        \"y\": 0.0,\n",
    "        \"z\": 0.0\n",
    "      },\n",
    "      {\n",
    "        \"x\": 3.411,\n",
    "        \"y\": 0.0,\n",
    "        \"z\": 0.0\n",
    "      },\n",
    "      {\n",
    "        \"x\": 3.411,\n",
    "        \"y\": 2.81,\n",
    "        \"z\": 0.0\n",
    "      }\n",
    "    ],\n",
    "    \"result\": \"ack\",\n",
    "    \"errors\": []\n",
    "  }\n",
    "}\n",
    "__EOS__\n",
    ")\n",
    "mosquitto_pub -h ${HOST_IPADDR} -p 1883 -d -u iotagent -P ${MQTT__iotagent} -t /${DELIVERY_ROBOT_TYPE}/${DELIVERY_ROBOT_01}/cmdexe -m \"${m}\""
   ]
  },
  {
   "cell_type": "markdown",
   "metadata": {},
   "source": [
    "### confirm the topic"
   ]
  },
  {
   "cell_type": "markdown",
   "metadata": {},
   "source": [
    "when executing the above command, show below messages on the opened terminal.\n",
    "\n",
    "example)\n",
    "```\n",
    "Client mosq/I0rq9ybM2H4tiV6KYs received PUBLISH (d0, q0, r0, m0, '/delivery_robot/megarover_01/cmdexe', ... (449 bytes))\n",
    "{\n",
    "  \"send_cmd\": {\n",
    "    \"time\": \"2019-08-06T14:01:18.178622+09:00\",\n",
    "    \"received_time\": \"2019-07-05T07:28:26.1562279306+09:00\",\n",
    "    \"received_cmd\": \"navi\",\n",
    "    \"received_waypoints\": [\n",
    "      {\n",
    "        \"x\": 0.503,\n",
    "        \"y\": 0.0,\n",
    "        \"z\": 0.0\n",
    "      },\n",
    "      {\n",
    "        \"x\": 3.411,\n",
    "        \"y\": 0.0,\n",
    "        \"z\": 0.0\n",
    "      },\n",
    "      {\n",
    "        \"x\": 3.411,\n",
    "        \"y\": 2.81,\n",
    "        \"z\": 0.0\n",
    "      }\n",
    "    ],\n",
    "    \"result\": \"ack\",\n",
    "    \"errors\": []\n",
    "  }\n",
    "}\n",
    "```"
   ]
  },
  {
   "cell_type": "markdown",
   "metadata": {},
   "source": [
    "### confirm delivery robot entity (megarover_01)"
   ]
  },
  {
   "cell_type": "code",
   "execution_count": null,
   "metadata": {
    "scrolled": false
   },
   "outputs": [],
   "source": [
    "TOKEN=$(cat ${CORE_ROOT}/secrets/auth-tokens.json | jq '.[0].settings.bearer_tokens[0].token' -r)\n",
    "curl -sS -H \"Authorization: bearer ${TOKEN}\" -H \"Fiware-Service: ${FIWARE_SERVICE}\" -H \"Fiware-Servicepath: ${DELIVERY_ROBOT_SERVICEPATH}\" http://${HOST_IPADDR}:8080/orion/v2/entities/${DELIVERY_ROBOT_01}/ | jq ."
   ]
  },
  {
   "cell_type": "markdown",
   "metadata": {},
   "source": [
    "`send_cmd_status` turns to `OK` and `send_cmd_info` has the result message\n",
    "\n",
    "example)\n",
    "```json\n",
    "{\n",
    "  \"id\": \"megarover_01\",\n",
    "  \"type\": \"delivery_robot\",\n",
    "  \"TimeInstant\": {\n",
    "    \"type\": \"ISO8601\",\n",
    "    \"value\": \"2019-08-06T05:01:18.00Z\",\n",
    "    \"metadata\": {}\n",
    "  },\n",
    "  \"battery\": {\n",
    "    \"type\": \"object\",\n",
    "    \"value\": {\n",
    "      \"voltage\": \"11.495\"\n",
    "    },\n",
    "    \"metadata\": {\n",
    "      \"TimeInstant\": {\n",
    "        \"type\": \"ISO8601\",\n",
    "        \"value\": \"2019-08-06T04:56:07.446Z\"\n",
    "      }\n",
    "    }\n",
    "  },\n",
    "  \"covariance\": {\n",
    "    \"type\": \"array\",\n",
    "    \"value\": [\n",
    "      \"0.1\",\n",
    "      \"0\",\n",
    "      \"0\",\n",
    "      \"0\",\n",
    "      \"0\",\n",
    "      \"0\",\n",
    "      \"0\",\n",
    "      \"0.1\",\n",
    "      \"0\",\n",
    "      \"0\",\n",
    "      \"0\",\n",
    "      \"0\",\n",
    "      \"0\",\n",
    "      \"0\",\n",
    "      \"1.7976931348623157e+308\",\n",
    "      \"0\",\n",
    "      \"0\",\n",
    "      \"0\",\n",
    "      \"0\",\n",
    "      \"0\",\n",
    "      \"0\",\n",
    "      \"1.7976931348623157e+308\",\n",
    "      \"0\",\n",
    "      \"0\",\n",
    "      \"0\",\n",
    "      \"0\",\n",
    "      \"0\",\n",
    "      \"0\",\n",
    "      \"1.7976931348623157e+308\",\n",
    "      \"0\",\n",
    "      \"0\",\n",
    "      \"0\",\n",
    "      \"0\",\n",
    "      \"0\",\n",
    "      \"0\",\n",
    "      \"0.05\"\n",
    "    ],\n",
    "    \"metadata\": {\n",
    "      \"TimeInstant\": {\n",
    "        \"type\": \"ISO8601\",\n",
    "        \"value\": \"2019-08-06T04:56:07.446Z\"\n",
    "      }\n",
    "    }\n",
    "  },\n",
    "  \"errors\": {\n",
    "    \"type\": \"array\",\n",
    "    \"value\": \"\",\n",
    "    \"metadata\": {\n",
    "      \"TimeInstant\": {\n",
    "        \"type\": \"ISO8601\",\n",
    "        \"value\": \"2019-08-06T04:56:07.446Z\"\n",
    "      }\n",
    "    }\n",
    "  },\n",
    "  \"mode\": {\n",
    "    \"type\": \"string\",\n",
    "    \"value\": \"navi\",\n",
    "    \"metadata\": {\n",
    "      \"TimeInstant\": {\n",
    "        \"type\": \"ISO8601\",\n",
    "        \"value\": \"2019-08-06T04:56:07.446Z\"\n",
    "      }\n",
    "    }\n",
    "  },\n",
    "  \"pose\": {\n",
    "    \"type\": \"object\",\n",
    "    \"value\": {\n",
    "      \"point\": {\n",
    "        \"x\": \"3.402\",\n",
    "        \"y\": \"1.015\",\n",
    "        \"z\": \"-0.002\"\n",
    "      },\n",
    "      \"angle\": {\n",
    "        \"roll\": \"-0.001\",\n",
    "        \"pitch\": \"0.012\",\n",
    "        \"yaw\": \"1.581\"\n",
    "      }\n",
    "    },\n",
    "    \"metadata\": {\n",
    "      \"TimeInstant\": {\n",
    "        \"type\": \"ISO8601\",\n",
    "        \"value\": \"2019-08-06T04:56:07.446Z\"\n",
    "      }\n",
    "    }\n",
    "  },\n",
    "  \"send_cmd_info\": {\n",
    "    \"type\": \"commandResult\",\n",
    "    \"value\": {\n",
    "      \"time\": \"2019-08-06T14:01:18.178622+09:00\",\n",
    "      \"received_time\": \"2019-07-05T07:28:26.1562279306+09:00\",\n",
    "      \"received_cmd\": \"navi\",\n",
    "      \"received_waypoints\": [\n",
    "        {\n",
    "          \"x\": \"0.503\",\n",
    "          \"y\": \"0\",\n",
    "          \"z\": \"0\"\n",
    "        },\n",
    "        {\n",
    "          \"x\": \"3.411\",\n",
    "          \"y\": \"0\",\n",
    "          \"z\": \"0\"\n",
    "        },\n",
    "        {\n",
    "          \"x\": \"3.411\",\n",
    "          \"y\": \"2.81\",\n",
    "          \"z\": \"0\"\n",
    "        }\n",
    "      ],\n",
    "      \"result\": \"ack\",\n",
    "      \"errors\": \"\"\n",
    "    },\n",
    "    \"metadata\": {\n",
    "      \"TimeInstant\": {\n",
    "        \"type\": \"ISO8601\",\n",
    "        \"value\": \"2019-08-06T05:01:18.311Z\"\n",
    "      }\n",
    "    }\n",
    "  },\n",
    "  \"send_cmd_status\": {\n",
    "    \"type\": \"commandStatus\",\n",
    "    \"value\": \"OK\",\n",
    "    \"metadata\": {\n",
    "      \"TimeInstant\": {\n",
    "        \"type\": \"ISO8601\",\n",
    "        \"value\": \"2019-08-06T05:01:18.311Z\"\n",
    "      }\n",
    "    }\n",
    "  },\n",
    "  \"time\": {\n",
    "    \"type\": \"ISO8601\",\n",
    "    \"value\": \"2019-08-06T13:56:07.309406+09:00\",\n",
    "    \"metadata\": {\n",
    "      \"TimeInstant\": {\n",
    "        \"type\": \"ISO8601\",\n",
    "        \"value\": \"2019-08-06T04:56:07.446Z\"\n",
    "      }\n",
    "    }\n",
    "  },\n",
    "  \"send_cmd\": {\n",
    "    \"type\": \"object\",\n",
    "    \"value\": \"\",\n",
    "    \"metadata\": {}\n",
    "  }\n",
    "}\n",
    "```"
   ]
  }
 ],
 "metadata": {
  "kernelspec": {
   "display_name": "Bash",
   "language": "bash",
   "name": "bash"
  },
  "language_info": {
   "codemirror_mode": "shell",
   "file_extension": ".sh",
   "mimetype": "text/x-sh",
   "name": "bash"
  }
 },
 "nbformat": 4,
 "nbformat_minor": 2
}
