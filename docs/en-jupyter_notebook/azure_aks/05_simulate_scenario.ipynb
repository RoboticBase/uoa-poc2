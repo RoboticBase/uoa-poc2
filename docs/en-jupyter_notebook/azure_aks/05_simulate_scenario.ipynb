{
 "cells": [
  {
   "cell_type": "markdown",
   "metadata": {},
   "source": [
    "# 5 simulate a scenario"
   ]
  },
  {
   "cell_type": "markdown",
   "metadata": {},
   "source": [
    "change ${CORE_ROOT} to your path of core."
   ]
  },
  {
   "cell_type": "code",
   "execution_count": null,
   "metadata": {},
   "outputs": [],
   "source": [
    "export CORE_ROOT=\"${HOME}/core\""
   ]
  },
  {
   "cell_type": "markdown",
   "metadata": {},
   "source": [
    "change ${PJ_ROOT} to your path of uoa-poc2."
   ]
  },
  {
   "cell_type": "code",
   "execution_count": null,
   "metadata": {},
   "outputs": [],
   "source": [
    "export PJ_ROOT=\"${HOME}/uoa-poc2\"\n",
    "cd ${PJ_ROOT};pwd"
   ]
  },
  {
   "cell_type": "markdown",
   "metadata": {},
   "source": [
    "example)\n",
    "```\n",
    "/Users/user/uoa-poc2\n",
    "```"
   ]
  },
  {
   "cell_type": "markdown",
   "metadata": {},
   "source": [
    "## load environment variables"
   ]
  },
  {
   "cell_type": "markdown",
   "metadata": {},
   "source": [
    "load from `core`"
   ]
  },
  {
   "cell_type": "code",
   "execution_count": null,
   "metadata": {},
   "outputs": [],
   "source": [
    "source ${CORE_ROOT}/docs/environments/azure_aks/env"
   ]
  },
  {
   "cell_type": "markdown",
   "metadata": {},
   "source": [
    "load from `uoa-poc2`"
   ]
  },
  {
   "cell_type": "code",
   "execution_count": null,
   "metadata": {},
   "outputs": [],
   "source": [
    "source ${PJ_ROOT}/docs/environments/azure_aks/env"
   ]
  },
  {
   "cell_type": "markdown",
   "metadata": {},
   "source": [
    "## setup alias"
   ]
  },
  {
   "cell_type": "code",
   "execution_count": null,
   "metadata": {},
   "outputs": [],
   "source": [
    "alias now=\"python -c 'import datetime; print(datetime.datetime.now().strftime(\\\"%Y-%m-%dT%H:%M:%S.%f+09:00\\\"))'\"\n",
    "alias iso8601=\"python -c 'import datetime; print(datetime.datetime.now(tz=datetime.timezone.utc).isoformat(timespec=\\\"seconds\\\"))'\""
   ]
  },
  {
   "cell_type": "markdown",
   "metadata": {},
   "source": [
    "## simulate a scenario"
   ]
  },
  {
   "cell_type": "markdown",
   "metadata": {},
   "source": [
    "### 1. ship an item to a destination"
   ]
  },
  {
   "cell_type": "markdown",
   "metadata": {},
   "source": [
    "#### post a shipment data (as ORDERING system)"
   ]
  },
  {
   "cell_type": "code",
   "execution_count": null,
   "metadata": {},
   "outputs": [],
   "source": [
    "TOKEN=$(cat ${CORE_ROOT}/secrets/auth-tokens.json | jq '.[0].settings.bearer_tokens | map(select(.allowed_paths[] | contains (\"^/controller/.*$\"))) | .[0].token' -r)\n",
    "curl -i -H \"Authorization: bearer ${TOKEN}\" -H \"Content-type: application/json\"  https://api.${DOMAIN}/controller/api/v1/shipments/ -X POST -d @-<<__EOS__\n",
    "{\n",
    "  \"destination\": {\n",
    "    \"name\": \"会議室1中\"\n",
    "  },\n",
    "  \"updated\": [\n",
    "    {\n",
    "      \"prev_quantity\": 5,\n",
    "      \"new_quantity\": 4,\n",
    "      \"reservation\": 1,\n",
    "      \"title\": \"美味しい天然水（2L）\",\n",
    "      \"place\": \"事務室\"\n",
    "    }\n",
    "  ],\n",
    "  \"caller\": \"zaico-extensions\"\n",
    "}\n",
    "__EOS__"
   ]
  },
  {
   "cell_type": "markdown",
   "metadata": {},
   "source": [
    "example)\n",
    "\n",
    "```\n",
    "HTTP/1.1 201 Created\n",
    "server: envoy\n",
    "date: Wed, 13 Nov 2019 05:51:51 GMT\n",
    "content-type: application/json\n",
    "content-length: 160\n",
    "access-control-allow-origin: *\n",
    "x-envoy-upstream-service-time: 314\n",
    "\n",
    "{\"caller\":\"ordering\",\"delivery_robot\":{\"id\":\"delivery_robot_02\"},\"order\":{\"destination\":\"place_Jdash\",\"source\":\"place_V\",\"via\":[\"place_L\"]},\"result\":\"success\"}\n",
    "```"
   ]
  },
  {
   "cell_type": "markdown",
   "metadata": {},
   "source": [
    "#### confirm the MQTT message"
   ]
  },
  {
   "cell_type": "markdown",
   "metadata": {},
   "source": [
    "example)\n",
    "```\n",
    "Client mosq-c2AmKdOalbtXrD22A8 received PUBLISH (d0, q0, r0, m0, '/delivery_robot/delivery_robot_02/cmd', ... (157 bytes))\n",
    "{\"send_cmd\":{\"time\":\"2019-11-13T14:51:51.416+09:00\",\"cmd\":\"navi\",\"waypoints\":[{\"point\":{\"x\":-0.5,\"y\":-1.5,\"z\":0},\"angle\":{\"roll\":0,\"pitch\":0,\"yaw\":-0.46}}]}}\n",
    "```"
   ]
  },
  {
   "cell_type": "markdown",
   "metadata": {},
   "source": [
    "#### confirm ros message for delivery_robot_02 ( `/robot_bridge/megarover_01/cmd` )"
   ]
  },
  {
   "cell_type": "markdown",
   "metadata": {},
   "source": [
    "example)\n",
    "```yaml\n",
    "id: \"delivery_robot_02\"\n",
    "type: \"delivery_robot\"\n",
    "time: \"2019-11-13T14:51:51.416+09:00\"\n",
    "cmd: \"navi\"\n",
    "waypoints:\n",
    "  -\n",
    "    point:\n",
    "      x: -0.5\n",
    "      y: -1.5\n",
    "      z: 0.0\n",
    "    angle_optional:\n",
    "      valid: True\n",
    "      angle:\n",
    "        roll: 0.0\n",
    "        pitch: 0.0\n",
    "        yaw: -0.46\n",
    "---\n",
    "```"
   ]
  },
  {
   "cell_type": "markdown",
   "metadata": {},
   "source": [
    "#### confirm delivery robot entity (delivery_robot_02)"
   ]
  },
  {
   "cell_type": "code",
   "execution_count": null,
   "metadata": {
    "scrolled": false
   },
   "outputs": [],
   "source": [
    "TOKEN=$(cat ${CORE_ROOT}/secrets/auth-tokens.json | jq '.[0].settings.bearer_tokens[0].token' -r)\n",
    "curl -sS -H \"Authorization: bearer ${TOKEN}\" -H \"Fiware-Service: ${FIWARE_SERVICE}\" -H \"Fiware-Servicepath: ${DELIVERY_ROBOT_SERVICEPATH}\" https://api.${DOMAIN}/orion/v2/entities/${DELIVERY_ROBOT_02}/ | jq ."
   ]
  },
  {
   "cell_type": "markdown",
   "metadata": {},
   "source": [
    "confirm below:\n",
    "\n",
    "* `send_cmd_status` is `PENDING`.\n",
    "* `current_routes`, `navigating_waypoints` and `remaining_waypoints_list` is filled.\n",
    "* `navigating_waypoints.waypoints` is the same of `waypoints` of MQTT message and ros message."
   ]
  },
  {
   "cell_type": "markdown",
   "metadata": {},
   "source": [
    "#### confirm token entity"
   ]
  },
  {
   "cell_type": "code",
   "execution_count": null,
   "metadata": {
    "scrolled": false
   },
   "outputs": [],
   "source": [
    "TOKEN=$(cat ${CORE_ROOT}/secrets/auth-tokens.json | jq '.[0].settings.bearer_tokens[0].token' -r)\n",
    "curl -sS -H \"Authorization: bearer ${TOKEN}\" -H \"Fiware-Service: ${FIWARE_SERVICE}\" -H \"Fiware-Servicepath: ${TOKEN_SERVICEPATH}\" https://api.${DOMAIN}/orion/v2/entities/?type=${TOKEN_TYPE} | jq ."
   ]
  },
  {
   "cell_type": "markdown",
   "metadata": {},
   "source": [
    "confirm below:\n",
    "\n",
    "* all token is not locked. (`is_locked` is `false`)\n",
    "* all `lock_owner_id` are empty.\n",
    "* all `waitings` are empty list."
   ]
  },
  {
   "cell_type": "markdown",
   "metadata": {},
   "source": [
    "### 2. notify that the command is received"
   ]
  },
  {
   "cell_type": "markdown",
   "metadata": {},
   "source": [
    "#### send a ros message"
   ]
  },
  {
   "cell_type": "markdown",
   "metadata": {},
   "source": [
    "_On ROS Kinect PC_\n",
    "1. start a terminal\n",
    "1. execute below command.\n",
    "```\n",
    "rostopic pub -1 /robot_bridge/megarover_01/cmdexe uoa_poc2_msgs/r_result \"\n",
    "id: 'delivery_robot_02'\n",
    "type: 'delivery_robot'\n",
    "time: '2019-11-08T14:00:00.000+09:00'\n",
    "received_time: '2019-11-13T14:51:51.416+09:00'\n",
    "received_cmd: 'navi'\n",
    "received_waypoints:\n",
    "  -\n",
    "    point:\n",
    "      x: -0.5\n",
    "      y: -1.5\n",
    "      z: 0.0\n",
    "    angle_optional:\n",
    "      valid: True\n",
    "      angle:\n",
    "        roll: 0.0\n",
    "        pitch: 0.0\n",
    "        yaw: -0.46\n",
    "result: 'ack'\n",
    "errors: ['']\n",
    "\"\n",
    "```"
   ]
  },
  {
   "cell_type": "markdown",
   "metadata": {},
   "source": [
    "#### confirm the MQTT message"
   ]
  },
  {
   "cell_type": "markdown",
   "metadata": {},
   "source": [
    "example)\n",
    "```\n",
    "Client mosq-c2AmKdOalbtXrD22A8 received PUBLISH (d0, q0, r0, m0, '/delivery_robot/delivery_robot_02/cmdexe', ... (283 bytes))\n",
    "{\"send_cmd\": {\"received_time\": \"2019-11-13T14:51:51.416+09:00\", \"errors\": [\"\"], \"received_cmd\": \"navi\", \"received_waypoints\": [{\"angle\": {\"yaw\": -0.46, \"roll\": 0.0, \"pitch\": 0.0}, \"point\": {\"y\": -1.5, \"x\": -0.5, \"z\": 0.0}}], \"result\": \"ack\", \"time\": \"2019-11-08T14:00:00.000+09:00\"}}\n",
    "```"
   ]
  },
  {
   "cell_type": "markdown",
   "metadata": {},
   "source": [
    "#### confirm delivery robot entity (delivery_robot_02)"
   ]
  },
  {
   "cell_type": "code",
   "execution_count": null,
   "metadata": {
    "scrolled": false
   },
   "outputs": [],
   "source": [
    "TOKEN=$(cat ${CORE_ROOT}/secrets/auth-tokens.json | jq '.[0].settings.bearer_tokens[0].token' -r)\n",
    "curl -sS -H \"Authorization: bearer ${TOKEN}\" -H \"Fiware-Service: ${FIWARE_SERVICE}\" -H \"Fiware-Servicepath: ${DELIVERY_ROBOT_SERVICEPATH}\" https://api.${DOMAIN}/orion/v2/entities/${DELIVERY_ROBOT_02}/ | jq ."
   ]
  },
  {
   "cell_type": "markdown",
   "metadata": {},
   "source": [
    "confirm below:\n",
    "* `send_cmd_status` turns to `OK` and `send_cmd_info` has the result message."
   ]
  },
  {
   "cell_type": "markdown",
   "metadata": {},
   "source": [
    "### 3. emulate the move of  `delivery_robot_02`"
   ]
  },
  {
   "cell_type": "markdown",
   "metadata": {},
   "source": [
    "#### send a ros message "
   ]
  },
  {
   "cell_type": "markdown",
   "metadata": {},
   "source": [
    "_On ROS Kinect PC_\n",
    "1. start a terminal\n",
    "1. execute below command.\n",
    "\n",
    "```\n",
    "rostopic pub -1 /robot_bridge/megarover_01/state uoa_poc2_msgs/r_state \"\n",
    "id: 'delivery_robot_02'\n",
    "type: 'delivery_robot'\n",
    "time: '2019-11-13T14:51:51.416+09:00'\n",
    "mode: 'navi'\n",
    "errors: ['']\n",
    "pose:\n",
    "  point: {x: 0.0, y: -0.2, z: 0.0}\n",
    "  angle: {roll: 0.0, pitch: 0.0, yaw: -0.2}\n",
    "destination:\n",
    "  point: {x: -0.5, y: -1.5, z: 0.0}\n",
    "  angle_optional:\n",
    "    valid: true\n",
    "    angle: {roll: 0.0, pitch: 0.0, yaw: -0.46}\n",
    "covariance: [0.0, 0.0, 0.0, 0.0, 0.0, 0.0, 0.0, 0.0, 0.0, 0.0, 0.0, 0.0, 0.0, 0.0,\n",
    "  0.0, 0.0, 0.0, 0.0, 0.0, 0.0, 0.0, 0.0, 0.0, 0.0, 0.0, 0.0, 0.0, 0.0, 0.0, 0.0,\n",
    "  0.0, 0.0, 0.0, 0.0, 0.0, 0.0]\n",
    "battery:\n",
    "  voltage: 0.0\n",
    "  current_optional: {valid: false, current: 0.0}\n",
    "\"\n",
    "```"
   ]
  },
  {
   "cell_type": "markdown",
   "metadata": {},
   "source": [
    "#### confirm the MQTT message to `/delivery_robot/delivery_robot_02/attrs`"
   ]
  },
  {
   "cell_type": "markdown",
   "metadata": {},
   "source": [
    "example)\n",
    "```\n",
    "Client mosq-c2AmKdOalbtXrD22A8 received PUBLISH (d0, q0, r0, m0, '/delivery_robot/delivery_robot_02/attrs', ... (531 bytes))\n",
    "{\"errors\": [], \"pose\": {\"angle\": {\"yaw\": -0.2, \"roll\": 0.0, \"pitch\": 0.0}, \"point\": {\"y\": -0.2, \"x\": 0.0, \"z\": 0.0}}, \"battery\": {\"current\": null, \"voltage\": 0.0}, \"destination\": {\"angle\": {\"yaw\": -0.46, \"roll\": 0.0, \"pitch\": 0.0}, \"point\": {\"y\": -1.5, \"x\": -0.5, \"z\": 0.0}}, \"covariance\": [0.0, 0.0, 0.0, 0.0, 0.0, 0.0, 0.0, 0.0, 0.0, 0.0, 0.0, 0.0, 0.0, 0.0, 0.0, 0.0, 0.0, 0.0, 0.0, 0.0, 0.0, 0.0, 0.0, 0.0, 0.0, 0.0, 0.0, 0.0, 0.0, 0.0, 0.0, 0.0, 0.0, 0.0, 0.0, 0.0], \"mode\": \"navi\", \"time\": \"2019-11-13T14:55:12.906598+09:00\"}\n",
    "```"
   ]
  },
  {
   "cell_type": "markdown",
   "metadata": {},
   "source": [
    "#### confirm that a MQTT message to `/robot_ui/robotui_02/cmd` is sent automatically"
   ]
  },
  {
   "cell_type": "markdown",
   "metadata": {},
   "source": [
    "example)\n",
    "```\n",
    "Client mosq-c2AmKdOalbtXrD22A8 received PUBLISH (d0, q0, r0, m0, '/robot_ui/robotui_02/cmd', ... (98 bytes))\n",
    "{\"send_state\":{\"time\":\"2019-11-13T14:55:13.029+09:00\",\"state\":\"moving\",\"destination\":\"事務室\"}}\n",
    "```"
   ]
  },
  {
   "cell_type": "markdown",
   "metadata": {},
   "source": [
    "#### confirm log messages"
   ]
  },
  {
   "cell_type": "markdown",
   "metadata": {},
   "source": [
    "example)\n",
    "```\n",
    "update robot state, robot_id=delivery_robot_02, current_mode=standby, next_mode=navi\n",
    "publish new state to robot ui(robotui_02), current_state= , next_state=moving, destination=事務室\n",
    "```"
   ]
  },
  {
   "cell_type": "markdown",
   "metadata": {},
   "source": [
    "#### confirm the `current_mode` and `current_state` of delivery robot entity (delivery_robot_02)"
   ]
  },
  {
   "cell_type": "code",
   "execution_count": null,
   "metadata": {},
   "outputs": [],
   "source": [
    "TOKEN=$(cat ${CORE_ROOT}/secrets/auth-tokens.json | jq '.[0].settings.bearer_tokens[0].token' -r)\n",
    "curl -sS -H \"Authorization: bearer ${TOKEN}\" -H \"Fiware-Service: ${FIWARE_SERVICE}\" -H \"Fiware-Servicepath: ${DELIVERY_ROBOT_SERVICEPATH}\" \"https://api.${DOMAIN}/orion/v2/entities/${DELIVERY_ROBOT_02}/?attrs=current_mode,current_state\" | jq ."
   ]
  },
  {
   "cell_type": "markdown",
   "metadata": {},
   "source": [
    "example)\n",
    "\n",
    "`current_mode` is `navi`, and `current_state` is `moving`\n",
    "\n",
    "```json\n",
    "{\n",
    "  \"id\": \"delivery_robot_02\",\n",
    "  \"type\": \"delivery_robot\",\n",
    "  \"current_mode\": {\n",
    "    \"type\": \"string\",\n",
    "    \"value\": \"navi\",\n",
    "    \"metadata\": {\n",
    "      \"TimeInstant\": {\n",
    "        \"type\": \"datetime\",\n",
    "        \"value\": \"2019-11-12T17:35:14.048+09:00\"\n",
    "      }\n",
    "    }\n",
    "  },\n",
    "  \"current_state\": {\n",
    "    \"type\": \"string\",\n",
    "    \"value\": \"moving\",\n",
    "    \"metadata\": {\n",
    "      \"TimeInstant\": {\n",
    "        \"type\": \"datetime\",\n",
    "        \"value\": \"2019-11-12T17:35:14.059+09:00\"\n",
    "      }\n",
    "    }\n",
    "  }\n",
    "}\n",
    "```"
   ]
  },
  {
   "cell_type": "markdown",
   "metadata": {},
   "source": [
    "#### send a `navi` ros message again"
   ]
  },
  {
   "cell_type": "markdown",
   "metadata": {},
   "source": [
    "_On ROS Kinect PC_\n",
    "1. start a terminal\n",
    "1. execute below command.\n",
    "\n",
    "```\n",
    "rostopic pub -1 /robot_bridge/megarover_01/state uoa_poc2_msgs/r_state \"\n",
    "id: 'delivery_robot_02'\n",
    "type: 'delivery_robot'\n",
    "time: '2019-11-13T14:51:52.416+09:00'\n",
    "mode: 'navi'\n",
    "errors: ['']\n",
    "pose:\n",
    "  point: {x: 0.2, y: -0.2, z: 0.0}\n",
    "  angle: {roll: 0.0, pitch: 0.0, yaw: -0.2}\n",
    "destination:\n",
    "  point: {x: -0.5, y: -1.5, z: 0.0}\n",
    "  angle_optional:\n",
    "    valid: true\n",
    "    angle: {roll: 0.0, pitch: 0.0, yaw: -0.46}\n",
    "covariance: [0.0, 0.0, 0.0, 0.0, 0.0, 0.0, 0.0, 0.0, 0.0, 0.0, 0.0, 0.0, 0.0, 0.0,\n",
    "  0.0, 0.0, 0.0, 0.0, 0.0, 0.0, 0.0, 0.0, 0.0, 0.0, 0.0, 0.0, 0.0, 0.0, 0.0, 0.0,\n",
    "  0.0, 0.0, 0.0, 0.0, 0.0, 0.0]\n",
    "battery:\n",
    "  voltage: 0.0\n",
    "  current_optional: {valid: false, current: 0.0}\n",
    "\"\n",
    "```"
   ]
  },
  {
   "cell_type": "markdown",
   "metadata": {},
   "source": [
    "confirm below:\n",
    "\n",
    "* a MQTT message to `/delivery_robot/delivery_robot_02/attrs` is sent.\n",
    "* no MQTT message to `/robot_ui/robotui_02/cmd` is sent.\n",
    "* no log message is shown."
   ]
  },
  {
   "cell_type": "markdown",
   "metadata": {},
   "source": [
    "#### confirm the `current_mode` and `current_state` of delivery robot entity (delivery_robot_02)"
   ]
  },
  {
   "cell_type": "code",
   "execution_count": null,
   "metadata": {},
   "outputs": [],
   "source": [
    "TOKEN=$(cat ${CORE_ROOT}/secrets/auth-tokens.json | jq '.[0].settings.bearer_tokens[0].token' -r)\n",
    "curl -sS -H \"Authorization: bearer ${TOKEN}\" -H \"Fiware-Service: ${FIWARE_SERVICE}\" -H \"Fiware-Servicepath: ${DELIVERY_ROBOT_SERVICEPATH}\" \"https://api.${DOMAIN}/orion/v2/entities/${DELIVERY_ROBOT_02}/?attrs=current_mode,current_state\" | jq ."
   ]
  },
  {
   "cell_type": "markdown",
   "metadata": {},
   "source": [
    "`current_mode` and `current_state` were not be changed because the`mode` sent from delivery_robot_02 was not changed."
   ]
  },
  {
   "cell_type": "markdown",
   "metadata": {},
   "source": [
    "### 4. emulate the stop of  `delivery_robot_02`"
   ]
  },
  {
   "cell_type": "markdown",
   "metadata": {},
   "source": [
    "#### send a ros message "
   ]
  },
  {
   "cell_type": "markdown",
   "metadata": {},
   "source": [
    "_On ROS Kinect PC_\n",
    "1. start a terminal\n",
    "1. execute below command.\n",
    "\n",
    "```\n",
    "rostopic pub -1 /robot_bridge/megarover_01/state uoa_poc2_msgs/r_state \"\n",
    "id: 'delivery_robot_02'\n",
    "type: 'delivery_robot'\n",
    "time: '2019-11-08T14:01:00.000+09:00'\n",
    "mode: 'standby'\n",
    "errors: ['']\n",
    "pose:\n",
    "  point: {x: -0.5, y: -1.49, z: 0.0}\n",
    "  angle: {roll: 0.0, pitch: 0.0, yaw: -0.45}\n",
    "destination:\n",
    "  point: {x: -0.5, y: -1.5, z: 0.0}\n",
    "  angle_optional:\n",
    "    valid: true\n",
    "    angle: {roll: 0.0, pitch: 0.0, yaw: -0.46}\n",
    "covariance: [0.0, 0.0, 0.0, 0.0, 0.0, 0.0, 0.0, 0.0, 0.0, 0.0, 0.0, 0.0, 0.0, 0.0,\n",
    "  0.0, 0.0, 0.0, 0.0, 0.0, 0.0, 0.0, 0.0, 0.0, 0.0, 0.0, 0.0, 0.0, 0.0, 0.0, 0.0,\n",
    "  0.0, 0.0, 0.0, 0.0, 0.0, 0.0]\n",
    "battery:\n",
    "  voltage: 0.0\n",
    "  current_optional: {valid: false, current: 0.0}\n",
    "\"\n",
    "```"
   ]
  },
  {
   "cell_type": "markdown",
   "metadata": {},
   "source": [
    "#### confirm the MQTT message to `/delivery_robot/delivery_robot_02/attrs`"
   ]
  },
  {
   "cell_type": "markdown",
   "metadata": {},
   "source": [
    "example)\n",
    "```\n",
    "Client mosq-c2AmKdOalbtXrD22A8 received PUBLISH (d0, q0, r0, m0, '/delivery_robot/delivery_robot_02/attrs', ... (537 bytes))\n",
    "{\"errors\": [], \"pose\": {\"angle\": {\"yaw\": -0.45, \"roll\": 0.0, \"pitch\": 0.0}, \"point\": {\"y\": -1.49, \"x\": -0.5, \"z\": 0.0}}, \"battery\": {\"current\": null, \"voltage\": 0.0}, \"destination\": {\"angle\": {\"yaw\": -0.46, \"roll\": 0.0, \"pitch\": 0.0}, \"point\": {\"y\": -1.5, \"x\": -0.5, \"z\": 0.0}}, \"covariance\": [0.0, 0.0, 0.0, 0.0, 0.0, 0.0, 0.0, 0.0, 0.0, 0.0, 0.0, 0.0, 0.0, 0.0, 0.0, 0.0, 0.0, 0.0, 0.0, 0.0, 0.0, 0.0, 0.0, 0.0, 0.0, 0.0, 0.0, 0.0, 0.0, 0.0, 0.0, 0.0, 0.0, 0.0, 0.0, 0.0], \"mode\": \"standby\", \"time\": \"2019-11-13T14:57:20.540867+09:00\"}\n",
    "```"
   ]
  },
  {
   "cell_type": "markdown",
   "metadata": {},
   "source": [
    "#### confirm that a MQTT message to `/delivery_robot/delivery_robot_02/cmd` is sent automatically"
   ]
  },
  {
   "cell_type": "markdown",
   "metadata": {},
   "source": [
    "example)\n",
    "```\n",
    "Client mosq-c2AmKdOalbtXrD22A8 received PUBLISH (d0, q0, r0, m0, '/delivery_robot/delivery_robot_02/cmd', ... (204 bytes))\n",
    "{\"send_cmd\":{\"time\":\"2019-11-13T14:57:20.668+09:00\",\"cmd\":\"navi\",\"waypoints\":[{\"point\":{\"x\":0.5,\"y\":-2,\"z\":0},\"angle\":null},{\"point\":{\"x\":4.71,\"y\":-1.99,\"z\":0},\"angle\":{\"roll\":0,\"pitch\":0,\"yaw\":-1.57}}]}}\n",
    "```"
   ]
  },
  {
   "cell_type": "markdown",
   "metadata": {},
   "source": [
    "#### confirm that a ros message for delivery_robot_02 ( `/robot_bridge/megarover_01/cmd` ) is sent automatically"
   ]
  },
  {
   "cell_type": "markdown",
   "metadata": {},
   "source": [
    "example)\n",
    "\n",
    "```yaml\n",
    "id: \"delivery_robot_02\"\n",
    "type: \"delivery_robot\"\n",
    "time: \"2019-11-13T14:57:20.668+09:00\"\n",
    "cmd: \"navi\"\n",
    "waypoints:\n",
    "  -\n",
    "    point:\n",
    "      x: 0.5\n",
    "      y: -2.0\n",
    "      z: 0.0\n",
    "    angle_optional:\n",
    "      valid: False\n",
    "      angle:\n",
    "        roll: 0.0\n",
    "        pitch: 0.0\n",
    "        yaw: 0.0\n",
    "  -\n",
    "    point:\n",
    "      x: 4.71\n",
    "      y: -1.99\n",
    "      z: 0.0\n",
    "    angle_optional:\n",
    "      valid: True\n",
    "      angle:\n",
    "        roll: 0.0\n",
    "        pitch: 0.0\n",
    "        yaw: -1.57\n",
    "---\n",
    "```"
   ]
  },
  {
   "cell_type": "markdown",
   "metadata": {},
   "source": [
    "#### confirm log messages"
   ]
  },
  {
   "cell_type": "markdown",
   "metadata": {},
   "source": [
    "example)\n",
    "```\n",
    "update robot state, robot_id=delivery_robot_02, current_mode=navi, next_mode=standby\n",
    "lock token (token_a) by delivery_robot_02\n",
    "move robot(delivery_robot_02) to \"place_L\" (waypoints=[{'point': {'x': 0.5, 'y': -2, 'z': 0}, 'angle': None}, {'point': {'x': 3.71, 'y': -1.99, 'z': 0}, 'angle': {'roll': 0, 'pitch': 0, 'yaw': -1.57}}]\n",
    "```"
   ]
  },
  {
   "cell_type": "markdown",
   "metadata": {},
   "source": [
    "#### confirm token entity"
   ]
  },
  {
   "cell_type": "code",
   "execution_count": null,
   "metadata": {
    "scrolled": false
   },
   "outputs": [],
   "source": [
    "TOKEN=$(cat ${CORE_ROOT}/secrets/auth-tokens.json | jq '.[0].settings.bearer_tokens[0].token' -r)\n",
    "curl -sS -H \"Authorization: bearer ${TOKEN}\" -H \"Fiware-Service: ${FIWARE_SERVICE}\" -H \"Fiware-Servicepath: ${TOKEN_SERVICEPATH}\" https://api.${DOMAIN}/orion/v2/entities/?type=${TOKEN_TYPE} | jq ."
   ]
  },
  {
   "cell_type": "markdown",
   "metadata": {},
   "source": [
    "confirm below:\n",
    "\n",
    "* `token_a` is locked by `delivery_robot_02`, but no robot is waiting for this token yet.\n",
    "* `token_b` and `token_c` is not locked."
   ]
  },
  {
   "cell_type": "markdown",
   "metadata": {},
   "source": [
    "#### confirm the `current_mode` and `current_state` of delivery robot entity (delivery_robot_02)"
   ]
  },
  {
   "cell_type": "code",
   "execution_count": null,
   "metadata": {},
   "outputs": [],
   "source": [
    "TOKEN=$(cat ${CORE_ROOT}/secrets/auth-tokens.json | jq '.[0].settings.bearer_tokens[0].token' -r)\n",
    "curl -sS -H \"Authorization: bearer ${TOKEN}\" -H \"Fiware-Service: ${FIWARE_SERVICE}\" -H \"Fiware-Servicepath: ${DELIVERY_ROBOT_SERVICEPATH}\" \"https://api.${DOMAIN}/orion/v2/entities/${DELIVERY_ROBOT_02}/?attrs=current_mode,current_state\" | jq ."
   ]
  },
  {
   "cell_type": "markdown",
   "metadata": {},
   "source": [
    "example)\n",
    "\n",
    "`current_mode` is changed to `standby`, but `current_state` is not changed.\n",
    "\n",
    "```json\n",
    "{\n",
    "  \"id\": \"delivery_robot_02\",\n",
    "  \"type\": \"delivery_robot\",\n",
    "  \"current_mode\": {\n",
    "    \"type\": \"string\",\n",
    "    \"value\": \"standby\",\n",
    "    \"metadata\": {\n",
    "      \"TimeInstant\": {\n",
    "        \"type\": \"datetime\",\n",
    "        \"value\": \"2019-11-13T14:57:20.575+09:00\"\n",
    "      }\n",
    "    }\n",
    "  },\n",
    "  \"current_state\": {\n",
    "    \"type\": \"string\",\n",
    "    \"value\": \"moving\",\n",
    "    \"metadata\": {\n",
    "      \"TimeInstant\": {\n",
    "        \"type\": \"datetime\",\n",
    "        \"value\": \"2019-11-13T14:55:12.979+09:00\"\n",
    "      }\n",
    "    }\n",
    "  }\n",
    "}\n",
    "```"
   ]
  },
  {
   "cell_type": "markdown",
   "metadata": {},
   "source": [
    "#### send a `standby` ros message again"
   ]
  },
  {
   "cell_type": "markdown",
   "metadata": {},
   "source": [
    "_On ROS Kinect PC_\n",
    "1. start a terminal\n",
    "1. execute below command.\n",
    "\n",
    "```\n",
    "rostopic pub -1 /robot_bridge/megarover_01/state uoa_poc2_msgs/r_state \"\n",
    "id: 'delivery_robot_02'\n",
    "type: 'delivery_robot'\n",
    "time: '2019-11-13T14:55:12.979+09:00'\n",
    "mode: 'standby'\n",
    "errors: ['']\n",
    "pose:\n",
    "  point: {x: -0.5, y: -1.49, z: 0.0}\n",
    "  angle: {roll: 0.0, pitch: 0.0, yaw: -0.45}\n",
    "destination:\n",
    "  point: {x: -0.5, y: -1.5, z: 0.0}\n",
    "  angle_optional:\n",
    "    valid: true\n",
    "    angle: {roll: 0.0, pitch: 0.0, yaw: -0.46}\n",
    "covariance: [0.0, 0.0, 0.0, 0.0, 0.0, 0.0, 0.0, 0.0, 0.0, 0.0, 0.0, 0.0, 0.0, 0.0,\n",
    "  0.0, 0.0, 0.0, 0.0, 0.0, 0.0, 0.0, 0.0, 0.0, 0.0, 0.0, 0.0, 0.0, 0.0, 0.0, 0.0,\n",
    "  0.0, 0.0, 0.0, 0.0, 0.0, 0.0]\n",
    "battery:\n",
    "  voltage: 0.0\n",
    "  current_optional: {valid: false, current: 0.0}\n",
    "\"\n",
    "```"
   ]
  },
  {
   "cell_type": "markdown",
   "metadata": {},
   "source": [
    "confirm below:\n",
    "\n",
    "* a MQTT message to `/delivery_robot/delivery_robot_02/attrs` is sent.\n",
    "* no MQTT message to `/delivery_robot/delivery_robot_02/cmd` is sent.\n",
    "* no log message is shown."
   ]
  },
  {
   "cell_type": "markdown",
   "metadata": {},
   "source": [
    "#### confirm the `current_mode` and `current_state` of delivery robot entity (delivery_robot_02)"
   ]
  },
  {
   "cell_type": "code",
   "execution_count": null,
   "metadata": {},
   "outputs": [],
   "source": [
    "TOKEN=$(cat ${CORE_ROOT}/secrets/auth-tokens.json | jq '.[0].settings.bearer_tokens[0].token' -r)\n",
    "curl -sS -H \"Authorization: bearer ${TOKEN}\" -H \"Fiware-Service: ${FIWARE_SERVICE}\" -H \"Fiware-Servicepath: ${DELIVERY_ROBOT_SERVICEPATH}\" \"https://api.${DOMAIN}/orion/v2/entities/${DELIVERY_ROBOT_02}/?attrs=current_mode,current_state\" | jq ."
   ]
  },
  {
   "cell_type": "markdown",
   "metadata": {},
   "source": [
    "`current_mode` and `current_state` were not be changed because the`mode` sent from delivery_robot_02 was not changed."
   ]
  },
  {
   "cell_type": "markdown",
   "metadata": {},
   "source": [
    "### 5. emulate the move of  `delivery_robot_02`"
   ]
  },
  {
   "cell_type": "markdown",
   "metadata": {},
   "source": [
    "#### send a ros message "
   ]
  },
  {
   "cell_type": "markdown",
   "metadata": {},
   "source": [
    "_On ROS Kinect PC_\n",
    "1. start a terminal\n",
    "1. execute below command.\n",
    "\n",
    "```\n",
    "rostopic pub -1 /robot_bridge/megarover_01/state uoa_poc2_msgs/r_state \"\n",
    "id: 'delivery_robot_02'\n",
    "type: 'delivery_robot'\n",
    "time: '2019-11-13T14:55:13.979+09:00'\n",
    "mode: 'navi'\n",
    "errors: ['']\n",
    "pose:\n",
    "  point: {x: 0.0, y: -1.1, z: 0.0}\n",
    "  angle: {roll: 0.0, pitch: 0.0, yaw: -0.4}\n",
    "destination:\n",
    "  point: {x: 0.5, y: -2.0, z: 0.0}\n",
    "  angle_optional:\n",
    "    valid: false\n",
    "    angle: {roll: 0.0, pitch: 0.0, yaw: 0.0}\n",
    "covariance: [0.0, 0.0, 0.0, 0.0, 0.0, 0.0, 0.0, 0.0, 0.0, 0.0, 0.0, 0.0, 0.0, 0.0,\n",
    "  0.0, 0.0, 0.0, 0.0, 0.0, 0.0, 0.0, 0.0, 0.0, 0.0, 0.0, 0.0, 0.0, 0.0, 0.0, 0.0,\n",
    "  0.0, 0.0, 0.0, 0.0, 0.0, 0.0]\n",
    "battery:\n",
    "  voltage: 0.0\n",
    "  current_optional: {valid: false, current: 0.0}\n",
    "\"\n",
    "```"
   ]
  },
  {
   "cell_type": "markdown",
   "metadata": {},
   "source": [
    "#### confirm the MQTT message to `/delivery_robot/delivery_robot_02/attrs`"
   ]
  },
  {
   "cell_type": "markdown",
   "metadata": {},
   "source": [
    "example)\n",
    "```\n",
    "Client mosq-c2AmKdOalbtXrD22A8 received PUBLISH (d0, q0, r0, m0, '/delivery_robot/delivery_robot_02/attrs', ... (493 bytes))\n",
    "{\"errors\": [], \"pose\": {\"angle\": {\"yaw\": -0.4, \"roll\": 0.0, \"pitch\": 0.0}, \"point\": {\"y\": -1.1, \"x\": 0.0, \"z\": 0.0}}, \"battery\": {\"current\": null, \"voltage\": 0.0}, \"destination\": {\"angle\": null, \"point\": {\"y\": -2.0, \"x\": 0.5, \"z\": 0.0}}, \"covariance\": [0.0, 0.0, 0.0, 0.0, 0.0, 0.0, 0.0, 0.0, 0.0, 0.0, 0.0, 0.0, 0.0, 0.0, 0.0, 0.0, 0.0, 0.0, 0.0, 0.0, 0.0, 0.0, 0.0, 0.0, 0.0, 0.0, 0.0, 0.0, 0.0, 0.0, 0.0, 0.0, 0.0, 0.0, 0.0, 0.0], \"mode\": \"navi\", \"time\": \"2019-11-13T15:00:11.845723+09:00\"}\n",
    "```"
   ]
  },
  {
   "cell_type": "markdown",
   "metadata": {},
   "source": [
    "#### confirm log messages"
   ]
  },
  {
   "cell_type": "markdown",
   "metadata": {},
   "source": [
    "example)\n",
    "```\n",
    "update robot state, robot_id=delivery_robot_02, current_mode=standby, next_mode=navi\n",
    "```"
   ]
  },
  {
   "cell_type": "markdown",
   "metadata": {},
   "source": [
    "#### confirm the `current_mode` and `current_state` of delivery robot entity (delivery_robot_02)"
   ]
  },
  {
   "cell_type": "code",
   "execution_count": null,
   "metadata": {},
   "outputs": [],
   "source": [
    "TOKEN=$(cat ${CORE_ROOT}/secrets/auth-tokens.json | jq '.[0].settings.bearer_tokens[0].token' -r)\n",
    "curl -sS -H \"Authorization: bearer ${TOKEN}\" -H \"Fiware-Service: ${FIWARE_SERVICE}\" -H \"Fiware-Servicepath: ${DELIVERY_ROBOT_SERVICEPATH}\" \"https://api.${DOMAIN}/orion/v2/entities/${DELIVERY_ROBOT_02}/?attrs=current_mode,current_state\" | jq ."
   ]
  },
  {
   "cell_type": "markdown",
   "metadata": {},
   "source": [
    "`current_mode` is changed to `navi`, but `current_state` is not changed."
   ]
  },
  {
   "cell_type": "markdown",
   "metadata": {},
   "source": [
    "### 6. ship items sotred different warehouses each other to another destination"
   ]
  },
  {
   "cell_type": "markdown",
   "metadata": {},
   "source": [
    "#### post a shipment data (as WAREHOUSE system)"
   ]
  },
  {
   "cell_type": "code",
   "execution_count": null,
   "metadata": {},
   "outputs": [],
   "source": [
    "TOKEN=$(cat ${CORE_ROOT}/secrets/auth-tokens.json | jq '.[0].settings.bearer_tokens | map(select(.allowed_paths[] | contains (\"^/controller/.*$\"))) | .[0].token' -r)\n",
    "curl -i -H \"Authorization: bearer ${TOKEN}\" -H \"Content-type: application/json\"  https://api.${DOMAIN}/controller/api/v1/shipments/ -X POST -d @-<<__EOS__\n",
    "{\n",
    "  \"destination\": {\n",
    "    \"name\": \"会議室2中\"\n",
    "  },\n",
    "  \"updated\": [\n",
    "    {\n",
    "      \"prev_quantity\": 4,\n",
    "      \"new_quantity\": 3,\n",
    "      \"reservation\": 1,\n",
    "      \"title\": \"美味しい天然水（2L）\",\n",
    "      \"place\": \"事務室\"\n",
    "    },\n",
    "    {\n",
    "      \"prev_quantity\": 10,\n",
    "      \"new_quantity\": 8,\n",
    "      \"reservation\": 2,\n",
    "      \"title\": \"地域名産炭酸水（500ml）\",\n",
    "      \"place\": \"個室\"\n",
    "    }\n",
    "  ]\n",
    "}\n",
    "__EOS__"
   ]
  },
  {
   "cell_type": "markdown",
   "metadata": {},
   "source": [
    "example)\n",
    "\n",
    "```\n",
    "HTTP/1.1 201 Created\n",
    "server: envoy\n",
    "date: Wed, 13 Nov 2019 06:01:13 GMT\n",
    "content-type: application/json\n",
    "content-length: 171\n",
    "access-control-allow-origin: *\n",
    "x-envoy-upstream-service-time: 353\n",
    "\n",
    "{\"caller\":\"warehouse\",\"delivery_robot\":{\"id\":\"delivery_robot_01\"},\"order\":{\"destination\":\"place_Idash\",\"source\":\"place_Q\",\"via\":[\"place_G\",\"place_L\"]},\"result\":\"success\"}\n",
    "```"
   ]
  },
  {
   "cell_type": "markdown",
   "metadata": {},
   "source": [
    "#### confirm the MQTT message"
   ]
  },
  {
   "cell_type": "markdown",
   "metadata": {},
   "source": [
    "example)\n",
    "```\n",
    "Client mosq-c2AmKdOalbtXrD22A8 received PUBLISH (d0, q0, r0, m0, '/delivery_robot/delivery_robot_01/cmd', ... (157 bytes))\n",
    "{\"send_cmd\":{\"time\":\"2019-11-13T15:01:14.179+09:00\",\"cmd\":\"navi\",\"waypoints\":[{\"point\":{\"x\":-0.5,\"y\":-1.5,\"z\":0},\"angle\":{\"roll\":0,\"pitch\":0,\"yaw\":-0.46}}]}}\n",
    "```"
   ]
  },
  {
   "cell_type": "markdown",
   "metadata": {},
   "source": [
    "#### confirm ros message for delivery_robot_02 ( `/robot_bridge/turtlebot_01/cmd` )"
   ]
  },
  {
   "cell_type": "markdown",
   "metadata": {},
   "source": [
    "example)\n",
    "\n",
    "```yaml\n",
    "id: \"delivery_robot_01\"\n",
    "type: \"delivery_robot\"\n",
    "time: \"2019-11-13T15:01:14.179+09:00\"\n",
    "cmd: \"navi\"\n",
    "waypoints:\n",
    "  -\n",
    "    point:\n",
    "      x: -0.5\n",
    "      y: -1.5\n",
    "      z: 0.0\n",
    "    angle_optional:\n",
    "      valid: True\n",
    "      angle:\n",
    "        roll: 0.0\n",
    "        pitch: 0.0\n",
    "        yaw: -0.46\n",
    "---\n",
    "```"
   ]
  },
  {
   "cell_type": "markdown",
   "metadata": {},
   "source": [
    "#### confirm delivery robot entity (delivery_robot_01)"
   ]
  },
  {
   "cell_type": "code",
   "execution_count": null,
   "metadata": {
    "scrolled": false
   },
   "outputs": [],
   "source": [
    "TOKEN=$(cat ${CORE_ROOT}/secrets/auth-tokens.json | jq '.[0].settings.bearer_tokens[0].token' -r)\n",
    "curl -sS -H \"Authorization: bearer ${TOKEN}\" -H \"Fiware-Service: ${FIWARE_SERVICE}\" -H \"Fiware-Servicepath: ${DELIVERY_ROBOT_SERVICEPATH}\" https://api.${DOMAIN}/orion/v2/entities/${DELIVERY_ROBOT_01}/ | jq ."
   ]
  },
  {
   "cell_type": "markdown",
   "metadata": {},
   "source": [
    "confirm below:\n",
    "\n",
    "* `send_cmd_status` is `PENDING`.\n",
    "* `current_routes`, `navigating_waypoints` and `remaining_waypoints_list` is filled.\n",
    "* `navigating_waypoints.waypoints` is the same of `waypoints` of MQTT message and ros message."
   ]
  },
  {
   "cell_type": "markdown",
   "metadata": {},
   "source": [
    "#### confirm token entity"
   ]
  },
  {
   "cell_type": "code",
   "execution_count": null,
   "metadata": {
    "scrolled": false
   },
   "outputs": [],
   "source": [
    "TOKEN=$(cat ${CORE_ROOT}/secrets/auth-tokens.json | jq '.[0].settings.bearer_tokens[0].token' -r)\n",
    "curl -sS -H \"Authorization: bearer ${TOKEN}\" -H \"Fiware-Service: ${FIWARE_SERVICE}\" -H \"Fiware-Servicepath: ${TOKEN_SERVICEPATH}\" https://api.${DOMAIN}/orion/v2/entities/?type=${TOKEN_TYPE} | jq ."
   ]
  },
  {
   "cell_type": "markdown",
   "metadata": {},
   "source": [
    "confirm below:\n",
    "\n",
    "* `token_a` is still locked by `delivery_robot_02`, but no robot is waiting for this token yet.\n",
    "* `token_b` and `token_c` is not locked."
   ]
  },
  {
   "cell_type": "markdown",
   "metadata": {},
   "source": [
    "### 7. notify that the command is received"
   ]
  },
  {
   "cell_type": "markdown",
   "metadata": {},
   "source": [
    "#### send a ros message"
   ]
  },
  {
   "cell_type": "markdown",
   "metadata": {},
   "source": [
    "_On ROS Kinect PC_\n",
    "1. start a terminal\n",
    "1. execute below command.\n",
    "```\n",
    "rostopic pub -1 /robot_bridge/turtlebot_01/cmdexe uoa_poc2_msgs/r_result \"\n",
    "id: 'delivery_robot_01'\n",
    "type: 'delivery_robot'\n",
    "time: '2019-11-13T15:01:14.279+09:00'\n",
    "received_time: '2019-11-13T15:01:14.179+09:00'\n",
    "received_cmd: 'navi'\n",
    "received_waypoints:\n",
    "  -\n",
    "    point:\n",
    "      x: -0.5\n",
    "      y: -1.5\n",
    "      z: 0.0\n",
    "    angle_optional:\n",
    "      valid: True\n",
    "      angle:\n",
    "        roll: 0.0\n",
    "        pitch: 0.0\n",
    "        yaw: -0.46\n",
    "result: 'ack'\n",
    "errors: ['']\n",
    "\"\n",
    "```"
   ]
  },
  {
   "cell_type": "markdown",
   "metadata": {},
   "source": [
    "#### confirm the MQTT message"
   ]
  },
  {
   "cell_type": "markdown",
   "metadata": {},
   "source": [
    "example)\n",
    "```\n",
    "Client mosq-c2AmKdOalbtXrD22A8 received PUBLISH (d0, q0, r0, m0, '/delivery_robot/delivery_robot_01/cmdexe', ... (283 bytes))\n",
    "{\"send_cmd\": {\"received_time\": \"2019-11-13T15:01:14.179+09:00\", \"errors\": [\"\"], \"received_cmd\": \"navi\", \"received_waypoints\": [{\"angle\": {\"yaw\": -0.46, \"roll\": 0.0, \"pitch\": 0.0}, \"point\": {\"y\": -1.5, \"x\": -0.5, \"z\": 0.0}}], \"result\": \"ack\", \"time\": \"2019-11-13T15:01:14.279+09:00\"}}\n",
    "```"
   ]
  },
  {
   "cell_type": "markdown",
   "metadata": {},
   "source": [
    "#### confirm delivery robot entity (delivery_robot_01)"
   ]
  },
  {
   "cell_type": "code",
   "execution_count": null,
   "metadata": {
    "scrolled": false
   },
   "outputs": [],
   "source": [
    "TOKEN=$(cat ${CORE_ROOT}/secrets/auth-tokens.json | jq '.[0].settings.bearer_tokens[0].token' -r)\n",
    "curl -sS -H \"Authorization: bearer ${TOKEN}\" -H \"Fiware-Service: ${FIWARE_SERVICE}\" -H \"Fiware-Servicepath: ${DELIVERY_ROBOT_SERVICEPATH}\" https://api.${DOMAIN}/orion/v2/entities/${DELIVERY_ROBOT_01}/ | jq ."
   ]
  },
  {
   "cell_type": "markdown",
   "metadata": {},
   "source": [
    "confirm below:\n",
    "* `send_cmd_status` turns to `OK` and `send_cmd_info` has the result message."
   ]
  },
  {
   "cell_type": "markdown",
   "metadata": {},
   "source": [
    "### 8. emulate the move of  `delivery_robot_01`"
   ]
  },
  {
   "cell_type": "markdown",
   "metadata": {},
   "source": [
    "#### send a ros message "
   ]
  },
  {
   "cell_type": "markdown",
   "metadata": {},
   "source": [
    "_On ROS Kinect PC_\n",
    "1. start a terminal\n",
    "1. execute below command.\n",
    "\n",
    "```\n",
    "rostopic pub -1 /robot_bridge/turtlebot_01/state uoa_poc2_msgs/r_state \"\n",
    "id: 'delivery_robot_01'\n",
    "type: 'delivery_robot'\n",
    "time: '2019-11-13T15:01:15.179+09:00'\n",
    "mode: 'navi'\n",
    "errors: ['']\n",
    "pose:\n",
    "  point: {x: 0.0, y: -0.2, z: 0.0}\n",
    "  angle: {roll: 0.0, pitch: 0.0, yaw: -0.2}\n",
    "destination:\n",
    "  point: {x: -0.5, y: -1.5, z: 0.0}\n",
    "  angle_optional:\n",
    "    valid: true\n",
    "    angle: {roll: 0.0, pitch: 0.0, yaw: -0.46}\n",
    "covariance: [0.0, 0.0, 0.0, 0.0, 0.0, 0.0, 0.0, 0.0, 0.0, 0.0, 0.0, 0.0, 0.0, 0.0,\n",
    "  0.0, 0.0, 0.0, 0.0, 0.0, 0.0, 0.0, 0.0, 0.0, 0.0, 0.0, 0.0, 0.0, 0.0, 0.0, 0.0,\n",
    "  0.0, 0.0, 0.0, 0.0, 0.0, 0.0]\n",
    "battery:\n",
    "  voltage: 0.0\n",
    "  current_optional: {valid: false, current: 0.0}\n",
    "\"\n",
    "```"
   ]
  },
  {
   "cell_type": "markdown",
   "metadata": {},
   "source": [
    "#### confirm the MQTT message to `/delivery_robot/delivery_robot_01/attrs`"
   ]
  },
  {
   "cell_type": "markdown",
   "metadata": {},
   "source": [
    "example)\n",
    "```\n",
    "Client mosq-c2AmKdOalbtXrD22A8 received PUBLISH (d0, q0, r0, m0, '/delivery_robot/delivery_robot_01/attrs', ... (531 bytes))\n",
    "{\"errors\": [], \"pose\": {\"angle\": {\"yaw\": -0.2, \"roll\": 0.0, \"pitch\": 0.0}, \"point\": {\"y\": -0.2, \"x\": 0.0, \"z\": 0.0}}, \"battery\": {\"current\": null, \"voltage\": 0.0}, \"destination\": {\"angle\": {\"yaw\": -0.46, \"roll\": 0.0, \"pitch\": 0.0}, \"point\": {\"y\": -1.5, \"x\": -0.5, \"z\": 0.0}}, \"covariance\": [0.0, 0.0, 0.0, 0.0, 0.0, 0.0, 0.0, 0.0, 0.0, 0.0, 0.0, 0.0, 0.0, 0.0, 0.0, 0.0, 0.0, 0.0, 0.0, 0.0, 0.0, 0.0, 0.0, 0.0, 0.0, 0.0, 0.0, 0.0, 0.0, 0.0, 0.0, 0.0, 0.0, 0.0, 0.0, 0.0], \"mode\": \"navi\", \"time\": \"2019-11-13T15:05:00.151885+09:00\"}\n",
    "```"
   ]
  },
  {
   "cell_type": "markdown",
   "metadata": {},
   "source": [
    "#### confirm that a MQTT message to `/robot_ui/robotui_01/cmd` is sent automatically"
   ]
  },
  {
   "cell_type": "markdown",
   "metadata": {},
   "source": [
    "example)\n",
    "```\n",
    "Client mosq-c2AmKdOalbtXrD22A8 received PUBLISH (d0, q0, r0, m0, '/robot_ui/robotui_01/cmd', ... (98 bytes))\n",
    "{\"send_state\":{\"time\":\"2019-11-13T15:05:00.273+09:00\",\"state\":\"moving\",\"destination\":\"事務室\"}}\n",
    "```"
   ]
  },
  {
   "cell_type": "markdown",
   "metadata": {},
   "source": [
    "#### confirm log messages"
   ]
  },
  {
   "cell_type": "markdown",
   "metadata": {},
   "source": [
    "example)\n",
    "```\n",
    "update robot state, robot_id=delivery_robot_01, current_mode=standby, next_mode=navi\n",
    "publish new state to robot ui(robotui_01), current_state=, next_state=moving, destination=事務室\n",
    "```"
   ]
  },
  {
   "cell_type": "markdown",
   "metadata": {},
   "source": [
    "#### confirm the `current_mode` and `current_state` of delivery robot entity (delivery_robot_01)"
   ]
  },
  {
   "cell_type": "code",
   "execution_count": null,
   "metadata": {},
   "outputs": [],
   "source": [
    "TOKEN=$(cat ${CORE_ROOT}/secrets/auth-tokens.json | jq '.[0].settings.bearer_tokens[0].token' -r)\n",
    "curl -sS -H \"Authorization: bearer ${TOKEN}\" -H \"Fiware-Service: ${FIWARE_SERVICE}\" -H \"Fiware-Servicepath: ${DELIVERY_ROBOT_SERVICEPATH}\" \"https://api.${DOMAIN}/orion/v2/entities/${DELIVERY_ROBOT_01}/?attrs=current_mode,current_state\" | jq ."
   ]
  },
  {
   "cell_type": "markdown",
   "metadata": {},
   "source": [
    "example)\n",
    "\n",
    "`current_mode` is `navi`, and `current_state` is `moving`\n",
    "\n",
    "```json\n",
    "{\n",
    "  \"id\": \"delivery_robot_01\",\n",
    "  \"type\": \"delivery_robot\",\n",
    "  \"current_mode\": {\n",
    "    \"type\": \"string\",\n",
    "    \"value\": \"navi\",\n",
    "    \"metadata\": {\n",
    "      \"TimeInstant\": {\n",
    "        \"type\": \"datetime\",\n",
    "        \"value\": \"2019-11-13T15:05:00.209+09:00\"\n",
    "      }\n",
    "    }\n",
    "  },\n",
    "  \"current_state\": {\n",
    "    \"type\": \"string\",\n",
    "    \"value\": \"moving\",\n",
    "    \"metadata\": {\n",
    "      \"TimeInstant\": {\n",
    "        \"type\": \"datetime\",\n",
    "        \"value\": \"2019-11-13T15:05:00.221+09:00\"\n",
    "      }\n",
    "    }\n",
    "  }\n",
    "}\n",
    "```"
   ]
  },
  {
   "cell_type": "markdown",
   "metadata": {},
   "source": [
    "#### send a `navi` ros message again"
   ]
  },
  {
   "cell_type": "markdown",
   "metadata": {},
   "source": [
    "_On ROS Kinect PC_\n",
    "1. start a terminal\n",
    "1. execute below command.\n",
    "\n",
    "```\n",
    "rostopic pub -1 /robot_bridge/turtlebot_01/state uoa_poc2_msgs/r_state \"\n",
    "id: 'delivery_robot_01'\n",
    "type: 'delivery_robot'\n",
    "time: '2019-11-13T15:01:15.189+09:00'\n",
    "mode: 'navi'\n",
    "errors: ['']\n",
    "pose:\n",
    "  point: {x: 0.0, y: -0.2, z: 0.0}\n",
    "  angle: {roll: 0.0, pitch: 0.0, yaw: -0.2}\n",
    "destination:\n",
    "  point: {x: -0.5, y: -1.5, z: 0.0}\n",
    "  angle_optional:\n",
    "    valid: true\n",
    "    angle: {roll: 0.0, pitch: 0.0, yaw: -0.46}\n",
    "covariance: [0.0, 0.0, 0.0, 0.0, 0.0, 0.0, 0.0, 0.0, 0.0, 0.0, 0.0, 0.0, 0.0, 0.0,\n",
    "  0.0, 0.0, 0.0, 0.0, 0.0, 0.0, 0.0, 0.0, 0.0, 0.0, 0.0, 0.0, 0.0, 0.0, 0.0, 0.0,\n",
    "  0.0, 0.0, 0.0, 0.0, 0.0, 0.0]\n",
    "battery:\n",
    "  voltage: 0.0\n",
    "  current_optional: {valid: false, current: 0.0}\n",
    "\"\n",
    "```"
   ]
  },
  {
   "cell_type": "markdown",
   "metadata": {},
   "source": [
    "confirm below:\n",
    "\n",
    "* a MQTT message to `/delivery_robot/delivery_robot_01/attrs` is sent.\n",
    "* no MQTT message to `/robot_ui/robotui_01/cmd` is sent.\n",
    "* no log message is shown."
   ]
  },
  {
   "cell_type": "markdown",
   "metadata": {},
   "source": [
    "#### confirm the `current_mode` and `current_state` of delivery robot entity (delivery_robot_01)"
   ]
  },
  {
   "cell_type": "code",
   "execution_count": null,
   "metadata": {},
   "outputs": [],
   "source": [
    "TOKEN=$(cat ${CORE_ROOT}/secrets/auth-tokens.json | jq '.[0].settings.bearer_tokens[0].token' -r)\n",
    "curl -sS -H \"Authorization: bearer ${TOKEN}\" -H \"Fiware-Service: ${FIWARE_SERVICE}\" -H \"Fiware-Servicepath: ${DELIVERY_ROBOT_SERVICEPATH}\" \"https://api.${DOMAIN}/orion/v2/entities/${DELIVERY_ROBOT_01}/?attrs=current_mode,current_state\" | jq ."
   ]
  },
  {
   "cell_type": "markdown",
   "metadata": {},
   "source": [
    "`current_mode` and `current_state` were not be changed because the`mode` sent from delivery_robot_01 was not changed."
   ]
  },
  {
   "cell_type": "markdown",
   "metadata": {},
   "source": [
    "### 9. emulate the stop of  `delivery_robot_01`"
   ]
  },
  {
   "cell_type": "markdown",
   "metadata": {},
   "source": [
    "#### send a ros message "
   ]
  },
  {
   "cell_type": "markdown",
   "metadata": {},
   "source": [
    "_On ROS Kinect PC_\n",
    "1. start a terminal\n",
    "1. execute below command.\n",
    "\n",
    "```\n",
    "rostopic pub -1 /robot_bridge/turtlebot_01/state uoa_poc2_msgs/r_state \"\n",
    "id: 'delivery_robot_01'\n",
    "type: 'delivery_robot'\n",
    "time: '2019-11-13T15:01:18.189+09:00'\n",
    "mode: 'standby'\n",
    "errors: ['']\n",
    "pose:\n",
    "  point: {x: -0.5, y: -1.51, z: 0.0}\n",
    "  angle: {roll: 0.0, pitch: 0.0, yaw: -0.46}\n",
    "destination:\n",
    "  point: {x: -0.5, y: -1.5, z: 0.0}\n",
    "  angle_optional:\n",
    "    valid: true\n",
    "    angle: {roll: 0.0, pitch: 0.0, yaw: -0.46}\n",
    "covariance: [0.0, 0.0, 0.0, 0.0, 0.0, 0.0, 0.0, 0.0, 0.0, 0.0, 0.0, 0.0, 0.0, 0.0,\n",
    "  0.0, 0.0, 0.0, 0.0, 0.0, 0.0, 0.0, 0.0, 0.0, 0.0, 0.0, 0.0, 0.0, 0.0, 0.0, 0.0,\n",
    "  0.0, 0.0, 0.0, 0.0, 0.0, 0.0]\n",
    "battery:\n",
    "  voltage: 0.0\n",
    "  current_optional: {valid: false, current: 0.0}\n",
    "\"\n",
    "```"
   ]
  },
  {
   "cell_type": "markdown",
   "metadata": {},
   "source": [
    "#### confirm the MQTT message to `/delivery_robot/delivery_robot_01/attrs`"
   ]
  },
  {
   "cell_type": "markdown",
   "metadata": {},
   "source": [
    "example)\n",
    "```\n",
    "Client mosq-c2AmKdOalbtXrD22A8 received PUBLISH (d0, q0, r0, m0, '/delivery_robot/delivery_robot_01/attrs', ... (537 bytes))\n",
    "{\"errors\": [], \"pose\": {\"angle\": {\"yaw\": -0.46, \"roll\": 0.0, \"pitch\": 0.0}, \"point\": {\"y\": -1.51, \"x\": -0.5, \"z\": 0.0}}, \"battery\": {\"current\": null, \"voltage\": 0.0}, \"destination\": {\"angle\": {\"yaw\": -0.46, \"roll\": 0.0, \"pitch\": 0.0}, \"point\": {\"y\": -1.5, \"x\": -0.5, \"z\": 0.0}}, \"covariance\": [0.0, 0.0, 0.0, 0.0, 0.0, 0.0, 0.0, 0.0, 0.0, 0.0, 0.0, 0.0, 0.0, 0.0, 0.0, 0.0, 0.0, 0.0, 0.0, 0.0, 0.0, 0.0, 0.0, 0.0, 0.0, 0.0, 0.0, 0.0, 0.0, 0.0, 0.0, 0.0, 0.0, 0.0, 0.0, 0.0], \"mode\": \"standby\", \"time\": \"2019-11-13T15:08:00.922653+09:00\"}\n",
    "```"
   ]
  },
  {
   "cell_type": "markdown",
   "metadata": {},
   "source": [
    "#### confirm the MQTT and ROS message\n",
    "\n",
    "* no MQTT message is sent to `/delivery_robot/delivery_robot_01/cmd`\n",
    "* no ros message for delivery_robot_01 ( `/robot_bridge/turtlebot_01/cmd` ) is sent"
   ]
  },
  {
   "cell_type": "markdown",
   "metadata": {},
   "source": [
    "`token_a` has been locked by `delivery_robot_02`, so `delivery_robot_01` can not move into restlicted area"
   ]
  },
  {
   "cell_type": "markdown",
   "metadata": {},
   "source": [
    "#### confirm log messages"
   ]
  },
  {
   "cell_type": "markdown",
   "metadata": {},
   "source": [
    "example)\n",
    "```\n",
    "update robot state, robot_id=delivery_robot_01, current_mode=navi, next_mode=standby\n",
    "wait token (token_a) by delivery_robot_01\n",
    "```"
   ]
  },
  {
   "cell_type": "markdown",
   "metadata": {},
   "source": [
    "#### confirm token entity"
   ]
  },
  {
   "cell_type": "code",
   "execution_count": null,
   "metadata": {
    "scrolled": false
   },
   "outputs": [],
   "source": [
    "TOKEN=$(cat ${CORE_ROOT}/secrets/auth-tokens.json | jq '.[0].settings.bearer_tokens[0].token' -r)\n",
    "curl -sS -H \"Authorization: bearer ${TOKEN}\" -H \"Fiware-Service: ${FIWARE_SERVICE}\" -H \"Fiware-Servicepath: ${TOKEN_SERVICEPATH}\" https://api.${DOMAIN}/orion/v2/entities/?type=${TOKEN_TYPE} | jq ."
   ]
  },
  {
   "cell_type": "markdown",
   "metadata": {},
   "source": [
    "confirm below:\n",
    "\n",
    "* `token_a` is still locked by `delivery_robot_02`, and `delivery_robot_01` is now waiting for this token.\n",
    "* `token_b` and `token_c` is not locked."
   ]
  },
  {
   "cell_type": "markdown",
   "metadata": {},
   "source": [
    "#### send a `standby` ros message again"
   ]
  },
  {
   "cell_type": "markdown",
   "metadata": {},
   "source": [
    "_On ROS Kinect PC_\n",
    "1. start a terminal\n",
    "1. execute below command.\n",
    "\n",
    "```\n",
    "rostopic pub -1 /robot_bridge/turtlebot_01/state uoa_poc2_msgs/r_state \"\n",
    "id: 'delivery_robot_01'\n",
    "type: 'delivery_robot'\n",
    "time: '2019-11-13T15:01:18.289+09:00'\n",
    "mode: 'standby'\n",
    "errors: ['']\n",
    "pose:\n",
    "  point: {x: -0.5, y: -1.51, z: 0.0}\n",
    "  angle: {roll: 0.0, pitch: 0.0, yaw: -0.46}\n",
    "destination:\n",
    "  point: {x: -0.5, y: -1.5, z: 0.0}\n",
    "  angle_optional:\n",
    "    valid: true\n",
    "    angle: {roll: 0.0, pitch: 0.0, yaw: -0.46}\n",
    "covariance: [0.0, 0.0, 0.0, 0.0, 0.0, 0.0, 0.0, 0.0, 0.0, 0.0, 0.0, 0.0, 0.0, 0.0,\n",
    "  0.0, 0.0, 0.0, 0.0, 0.0, 0.0, 0.0, 0.0, 0.0, 0.0, 0.0, 0.0, 0.0, 0.0, 0.0, 0.0,\n",
    "  0.0, 0.0, 0.0, 0.0, 0.0, 0.0]\n",
    "battery:\n",
    "  voltage: 0.0\n",
    "  current_optional: {valid: false, current: 0.0}\n",
    "\"\n",
    "```"
   ]
  },
  {
   "cell_type": "markdown",
   "metadata": {},
   "source": [
    "confirm below:\n",
    "\n",
    "* a MQTT message to `/delivery_robot/delivery_robot_01/attrs` is sent.\n",
    "* no MQTT message to `/delivery_robot/delivery_robot_01/cmd` is sent.\n",
    "* no log message is shown."
   ]
  },
  {
   "cell_type": "markdown",
   "metadata": {},
   "source": [
    "### 10. emulate the move of  `delivery_robot_02`"
   ]
  },
  {
   "cell_type": "markdown",
   "metadata": {},
   "source": [
    "#### send a ros message "
   ]
  },
  {
   "cell_type": "markdown",
   "metadata": {},
   "source": [
    "_On ROS Kinect PC_\n",
    "1. start a terminal\n",
    "1. execute below command.\n",
    "\n",
    "```\n",
    "rostopic pub -1 /robot_bridge/megarover_01/state uoa_poc2_msgs/r_state \"\n",
    "id: 'delivery_robot_02'\n",
    "type: 'delivery_robot'\n",
    "time: '2019-11-13T15:02:18.289+09:00'\n",
    "mode: 'navi'\n",
    "errors: ['']\n",
    "pose:\n",
    "  point: {x: 0.1, y: -0.8, z: 0.0}\n",
    "  angle: {roll: 0.0, pitch: 0.0, yaw: -0.8}\n",
    "destination:\n",
    "  point: {x: 0.5, y: -2.0, z: 0.0}\n",
    "  angle_optional:\n",
    "    valid: false\n",
    "    angle: {roll: 0.0, pitch: 0.0, yaw: 0.0}\n",
    "covariance: [0.0, 0.0, 0.0, 0.0, 0.0, 0.0, 0.0, 0.0, 0.0, 0.0, 0.0, 0.0, 0.0, 0.0,\n",
    "  0.0, 0.0, 0.0, 0.0, 0.0, 0.0, 0.0, 0.0, 0.0, 0.0, 0.0, 0.0, 0.0, 0.0, 0.0, 0.0,\n",
    "  0.0, 0.0, 0.0, 0.0, 0.0, 0.0]\n",
    "battery:\n",
    "  voltage: 0.0\n",
    "  current_optional: {valid: false, current: 0.0}\n",
    "\"\n",
    "```"
   ]
  },
  {
   "cell_type": "markdown",
   "metadata": {},
   "source": [
    "#### confirm the MQTT message to `/delivery_robot/delivery_robot_02/attrs`"
   ]
  },
  {
   "cell_type": "markdown",
   "metadata": {},
   "source": [
    "example)\n",
    "```\n",
    "Client mosq-c2AmKdOalbtXrD22A8 received PUBLISH (d0, q0, r0, m0, '/delivery_robot/delivery_robot_02/attrs', ... (493 bytes))\n",
    "{\"errors\": [], \"pose\": {\"angle\": {\"yaw\": -0.8, \"roll\": 0.0, \"pitch\": 0.0}, \"point\": {\"y\": -0.8, \"x\": 0.1, \"z\": 0.0}}, \"battery\": {\"current\": null, \"voltage\": 0.0}, \"destination\": {\"angle\": null, \"point\": {\"y\": -2.0, \"x\": 0.5, \"z\": 0.0}}, \"covariance\": [0.0, 0.0, 0.0, 0.0, 0.0, 0.0, 0.0, 0.0, 0.0, 0.0, 0.0, 0.0, 0.0, 0.0, 0.0, 0.0, 0.0, 0.0, 0.0, 0.0, 0.0, 0.0, 0.0, 0.0, 0.0, 0.0, 0.0, 0.0, 0.0, 0.0, 0.0, 0.0, 0.0, 0.0, 0.0, 0.0], \"mode\": \"navi\", \"time\": \"2019-11-13T15:09:37.318575+09:00\"}\n",
    "```"
   ]
  },
  {
   "cell_type": "markdown",
   "metadata": {},
   "source": [
    "### 11. emulate the stop of  `delivery_robot_02`"
   ]
  },
  {
   "cell_type": "markdown",
   "metadata": {},
   "source": [
    "#### send a ros message "
   ]
  },
  {
   "cell_type": "markdown",
   "metadata": {},
   "source": [
    "_On ROS Kinect PC_\n",
    "1. start a terminal\n",
    "1. execute below command.\n",
    "\n",
    "```\n",
    "rostopic pub -1 /robot_bridge/megarover_01/state uoa_poc2_msgs/r_state \"\n",
    "id: 'delivery_robot_02'\n",
    "type: 'delivery_robot'\n",
    "time: '2019-11-13T15:04:18.289+09:00'\n",
    "mode: 'standby'\n",
    "errors: ['']\n",
    "pose:\n",
    "  point: {x: 4.71, y: -1.99, z: 0.0}\n",
    "  angle: {roll: 0.0, pitch: 0.0, yaw: -1.57}\n",
    "destination:\n",
    "  point: {x: 4.71, y: -1.99, z: 0.0}\n",
    "  angle_optional:\n",
    "    valid: true\n",
    "    angle: {roll: 0.0, pitch: 0.0, yaw: -1.57}\n",
    "covariance: [0.0, 0.0, 0.0, 0.0, 0.0, 0.0, 0.0, 0.0, 0.0, 0.0, 0.0, 0.0, 0.0, 0.0,\n",
    "  0.0, 0.0, 0.0, 0.0, 0.0, 0.0, 0.0, 0.0, 0.0, 0.0, 0.0, 0.0, 0.0, 0.0, 0.0, 0.0,\n",
    "  0.0, 0.0, 0.0, 0.0, 0.0, 0.0]\n",
    "battery:\n",
    "  voltage: 0.0\n",
    "  current_optional: {valid: false, current: 0.0}\n",
    "\"\n",
    "```"
   ]
  },
  {
   "cell_type": "markdown",
   "metadata": {},
   "source": [
    "#### confirm the MQTT message to `/delivery_robot/delivery_robot_02/attrs`"
   ]
  },
  {
   "cell_type": "markdown",
   "metadata": {},
   "source": [
    "example)\n",
    "```\n",
    "Client mosq-c2AmKdOalbtXrD22A8 received PUBLISH (d0, q0, r0, m0, '/delivery_robot/delivery_robot_02/attrs', ... (538 bytes))\n",
    "{\"errors\": [], \"pose\": {\"angle\": {\"yaw\": -1.57, \"roll\": 0.0, \"pitch\": 0.0}, \"point\": {\"y\": -1.99, \"x\": 4.71, \"z\": 0.0}}, \"battery\": {\"current\": null, \"voltage\": 0.0}, \"destination\": {\"angle\": {\"yaw\": -1.57, \"roll\": 0.0, \"pitch\": 0.0}, \"point\": {\"y\": -1.99, \"x\": 4.71, \"z\": 0.0}}, \"covariance\": [0.0, 0.0, 0.0, 0.0, 0.0, 0.0, 0.0, 0.0, 0.0, 0.0, 0.0, 0.0, 0.0, 0.0, 0.0, 0.0, 0.0, 0.0, 0.0, 0.0, 0.0, 0.0, 0.0, 0.0, 0.0, 0.0, 0.0, 0.0, 0.0, 0.0, 0.0, 0.0, 0.0, 0.0, 0.0, 0.0], \"mode\": \"standby\", \"time\": \"2019-11-13T15:10:27.431596+09:00\"}\n",
    "```"
   ]
  },
  {
   "cell_type": "markdown",
   "metadata": {},
   "source": [
    "#### confirm that a MQTT message to `/robot_ui/robotui_02/cmd` is sent automatically"
   ]
  },
  {
   "cell_type": "markdown",
   "metadata": {},
   "source": [
    "example)\n",
    "```\n",
    "Client mosq-c2AmKdOalbtXrD22A8 received PUBLISH (d0, q0, r0, m0, '/robot_ui/robotui_02/cmd', ... (99 bytes))\n",
    "{\"send_state\":{\"time\":\"2019-11-13T15:10:27.557+09:00\",\"state\":\"picking\",\"destination\":\"事務室\"}}\n",
    "```"
   ]
  },
  {
   "cell_type": "markdown",
   "metadata": {},
   "source": [
    "#### confirm log messages"
   ]
  },
  {
   "cell_type": "markdown",
   "metadata": {},
   "source": [
    "example)\n",
    "```\n",
    "update robot state, robot_id=delivery_robot_02, current_mode=navi, next_mode=standby\n",
    "publish new state to robot ui(robotui_02), current_state=moving, next_state=picking, destination=事務室\n",
    "```"
   ]
  },
  {
   "cell_type": "markdown",
   "metadata": {},
   "source": [
    "#### confirm token entity"
   ]
  },
  {
   "cell_type": "code",
   "execution_count": null,
   "metadata": {
    "scrolled": false
   },
   "outputs": [],
   "source": [
    "TOKEN=$(cat ${CORE_ROOT}/secrets/auth-tokens.json | jq '.[0].settings.bearer_tokens[0].token' -r)\n",
    "curl -sS -H \"Authorization: bearer ${TOKEN}\" -H \"Fiware-Service: ${FIWARE_SERVICE}\" -H \"Fiware-Servicepath: ${TOKEN_SERVICEPATH}\" https://api.${DOMAIN}/orion/v2/entities/?type=${TOKEN_TYPE} | jq ."
   ]
  },
  {
   "cell_type": "markdown",
   "metadata": {},
   "source": [
    "confirm below:\n",
    "\n",
    "* `token_a` is still locked by `delivery_robot_02`, and `delivery_robot_01` is now waiting for this token.\n",
    "* `token_b` and `token_c` is not locked."
   ]
  },
  {
   "cell_type": "markdown",
   "metadata": {},
   "source": [
    "### 12. emulate the completion of  picking operation ( `delivery_robot_02`)"
   ]
  },
  {
   "cell_type": "markdown",
   "metadata": {},
   "source": [
    "#### post a movenext data"
   ]
  },
  {
   "cell_type": "code",
   "execution_count": null,
   "metadata": {},
   "outputs": [],
   "source": [
    "TOKEN=$(cat ~/core/secrets/auth-tokens.json | jq '.[0].settings.bearer_tokens | map(select(.allowed_paths[] | contains (\"^/controller/.*$\"))) | .[0].token' -r)\n",
    "curl -i -H \"Authorization: bearer ${TOKEN}\" -H \"Content-Type: application/json\" https://api.tech-sketch.jp/controller/api/v1/robots/${DELIVERY_ROBOT_02}/nexts/ -X PATCH -d '{}'"
   ]
  },
  {
   "cell_type": "markdown",
   "metadata": {},
   "source": [
    "example)\n",
    "\n",
    "```\n",
    "HTTP/1.1 201 Created\n",
    "server: envoy\n",
    "date: Fri, 08 Nov 2019 07:29:03 GMT\n",
    "content-type: application/json\n",
    "content-length: 150\n",
    "access-control-allow-origin: *\n",
    "x-envoy-upstream-service-time: 371\n",
    "\n",
    "{\"result\":\"success\"}\n",
    "```"
   ]
  },
  {
   "cell_type": "markdown",
   "metadata": {},
   "source": [
    "#### confirm the MQTT message"
   ]
  },
  {
   "cell_type": "markdown",
   "metadata": {},
   "source": [
    "example)\n",
    "```\n",
    "Client mosq-c2AmKdOalbtXrD22A8 received PUBLISH (d0, q0, r0, m0, '/delivery_robot/delivery_robot_02/cmd', ... (202 bytes))\n",
    "{\"send_cmd\":{\"time\":\"2019-11-13T15:11:56.778+09:00\",\"cmd\":\"navi\",\"waypoints\":[{\"point\":{\"x\":0.5,\"y\":-2,\"z\":0},\"angle\":null},{\"point\":{\"x\":-0.5,\"y\":-2.5,\"z\":0},\"angle\":{\"roll\":0,\"pitch\":0,\"yaw\":-1.8}}]}}\n",
    "```"
   ]
  },
  {
   "cell_type": "markdown",
   "metadata": {},
   "source": [
    "#### confirm ros message for delivery_robot_02 ( `/robot_bridge/megarover_01/cmd` )"
   ]
  },
  {
   "cell_type": "markdown",
   "metadata": {},
   "source": [
    "example)\n",
    "\n",
    "```yaml\n",
    "id: \"delivery_robot_02\"\n",
    "type: \"delivery_robot\"\n",
    "time: \"2019-11-13T15:11:56.778+09:00\"\n",
    "cmd: \"navi\"\n",
    "waypoints:\n",
    "  -\n",
    "    point:\n",
    "      x: 0.5\n",
    "      y: -2.0\n",
    "      z: 0.0\n",
    "    angle_optional:\n",
    "      valid: False\n",
    "      angle:\n",
    "        roll: 0.0\n",
    "        pitch: 0.0\n",
    "        yaw: 0.0\n",
    "  -\n",
    "    point:\n",
    "      x: -0.5\n",
    "      y: -2.5\n",
    "      z: 0.0\n",
    "    angle_optional:\n",
    "      valid: True\n",
    "      angle:\n",
    "        roll: 0.0\n",
    "        pitch: 0.0\n",
    "        yaw: -1.8\n",
    "---\n",
    "```"
   ]
  },
  {
   "cell_type": "markdown",
   "metadata": {},
   "source": [
    "#### confirm token entity"
   ]
  },
  {
   "cell_type": "code",
   "execution_count": null,
   "metadata": {
    "scrolled": false
   },
   "outputs": [],
   "source": [
    "TOKEN=$(cat ${CORE_ROOT}/secrets/auth-tokens.json | jq '.[0].settings.bearer_tokens[0].token' -r)\n",
    "curl -sS -H \"Authorization: bearer ${TOKEN}\" -H \"Fiware-Service: ${FIWARE_SERVICE}\" -H \"Fiware-Servicepath: ${TOKEN_SERVICEPATH}\" https://api.${DOMAIN}/orion/v2/entities/?type=${TOKEN_TYPE} | jq ."
   ]
  },
  {
   "cell_type": "markdown",
   "metadata": {},
   "source": [
    "confirm below:\n",
    "\n",
    "* `token_a` is still locked by `delivery_robot_02`, and `delivery_robot_01` is still waiting for this token.\n",
    "* `token_b` and `token_c` is not locked."
   ]
  },
  {
   "cell_type": "markdown",
   "metadata": {},
   "source": [
    "### 13. notify that the command is received"
   ]
  },
  {
   "cell_type": "markdown",
   "metadata": {},
   "source": [
    "#### send a ros message"
   ]
  },
  {
   "cell_type": "markdown",
   "metadata": {},
   "source": [
    "_On ROS Kinect PC_\n",
    "1. start a terminal\n",
    "1. execute below command.\n",
    "```\n",
    "rostopic pub -1 /robot_bridge/megarover_01/cmdexe uoa_poc2_msgs/r_result \"\n",
    "id: 'delivery_robot_02'\n",
    "type: 'delivery_robot'\n",
    "time: '2019-11-13T15:11:57.778+09:00'\n",
    "received_time: '2019-11-13T15:11:56.778+09:00'\n",
    "received_cmd: 'navi'\n",
    "received_waypoints:\n",
    "  -\n",
    "    point:\n",
    "      x: 0.5\n",
    "      y: -2.0\n",
    "      z: 0.0\n",
    "    angle_optional:\n",
    "      valid: False\n",
    "      angle:\n",
    "        roll: 0.0\n",
    "        pitch: 0.0\n",
    "        yaw: 0.0\n",
    "  -\n",
    "    point:\n",
    "      x: -0.5\n",
    "      y: -2.5\n",
    "      z: 0.0\n",
    "    angle_optional:\n",
    "      valid: True\n",
    "      angle:\n",
    "        roll: 0.0\n",
    "        pitch: 0.0\n",
    "        yaw: -1.8\n",
    "result: 'ack'\n",
    "errors: ['']\n",
    "\"\n",
    "```"
   ]
  },
  {
   "cell_type": "markdown",
   "metadata": {},
   "source": [
    "#### confirm the MQTT message"
   ]
  },
  {
   "cell_type": "markdown",
   "metadata": {},
   "source": [
    "example)\n",
    "```\n",
    "Client mosq-c2AmKdOalbtXrD22A8 received PUBLISH (d0, q0, r0, m0, '/delivery_robot/delivery_robot_02/cmdexe', ... (341 bytes))\n",
    "{\"send_cmd\": {\"received_time\": \"2019-11-13T15:11:56.778+09:00\", \"errors\": [\"\"], \"received_cmd\": \"navi\", \"received_waypoints\": [{\"angle\": null, \"point\": {\"y\": -2.0, \"x\": 0.5, \"z\": 0.0}}, {\"angle\": {\"yaw\": -1.8, \"roll\": 0.0, \"pitch\": 0.0}, \"point\": {\"y\": -2.5, \"x\": -0.5, \"z\": 0.0}}], \"result\": \"ack\", \"time\": \"2019-11-13T15:11:57.778+09:00\"}}\n",
    "```"
   ]
  },
  {
   "cell_type": "markdown",
   "metadata": {},
   "source": [
    "### 14. emulate the move of  `delivery_robot_02`"
   ]
  },
  {
   "cell_type": "markdown",
   "metadata": {},
   "source": [
    "#### send a ros message "
   ]
  },
  {
   "cell_type": "markdown",
   "metadata": {},
   "source": [
    "_On ROS Kinect PC_\n",
    "1. start a terminal\n",
    "1. execute below command.\n",
    "\n",
    "```\n",
    "rostopic pub -1 /robot_bridge/megarover_01/state uoa_poc2_msgs/r_state \"\n",
    "id: 'delivery_robot_02'\n",
    "type: 'delivery_robot'\n",
    "time: '2019-11-13T15:11:57.778+09:00'\n",
    "mode: 'navi'\n",
    "errors: ['']\n",
    "pose:\n",
    "  point: {x: 0.6, y: -1.9, z: 0.0}\n",
    "  angle: {roll: 0.0, pitch: 0.0, yaw: -0.01}\n",
    "destination:\n",
    "  point: {x: 0.5, y: -2.0, z: 0.0}\n",
    "  angle_optional:\n",
    "    valid: false\n",
    "    angle: {roll: 0.0, pitch: 0.0, yaw: 0.0}\n",
    "covariance: [0.0, 0.0, 0.0, 0.0, 0.0, 0.0, 0.0, 0.0, 0.0, 0.0, 0.0, 0.0, 0.0, 0.0,\n",
    "  0.0, 0.0, 0.0, 0.0, 0.0, 0.0, 0.0, 0.0, 0.0, 0.0, 0.0, 0.0, 0.0, 0.0, 0.0, 0.0,\n",
    "  0.0, 0.0, 0.0, 0.0, 0.0, 0.0]\n",
    "battery:\n",
    "  voltage: 0.0\n",
    "  current_optional: {valid: false, current: 0.0}\n",
    "\"\n",
    "```"
   ]
  },
  {
   "cell_type": "markdown",
   "metadata": {},
   "source": [
    "#### confirm the MQTT message to `/delivery_robot/delivery_robot_02/attrs`"
   ]
  },
  {
   "cell_type": "markdown",
   "metadata": {},
   "source": [
    "example)\n",
    "```\n",
    "Client mosq-c2AmKdOalbtXrD22A8 received PUBLISH (d0, q0, r0, m0, '/delivery_robot/delivery_robot_02/attrs', ... (494 bytes))\n",
    "{\"errors\": [], \"pose\": {\"angle\": {\"yaw\": -0.01, \"roll\": 0.0, \"pitch\": 0.0}, \"point\": {\"y\": -1.9, \"x\": 0.6, \"z\": 0.0}}, \"battery\": {\"current\": null, \"voltage\": 0.0}, \"destination\": {\"angle\": null, \"point\": {\"y\": -2.0, \"x\": 0.5, \"z\": 0.0}}, \"covariance\": [0.0, 0.0, 0.0, 0.0, 0.0, 0.0, 0.0, 0.0, 0.0, 0.0, 0.0, 0.0, 0.0, 0.0, 0.0, 0.0, 0.0, 0.0, 0.0, 0.0, 0.0, 0.0, 0.0, 0.0, 0.0, 0.0, 0.0, 0.0, 0.0, 0.0, 0.0, 0.0, 0.0, 0.0, 0.0, 0.0], \"mode\": \"navi\", \"time\": \"2019-11-13T15:14:18.135537+09:00\"}\n",
    "```"
   ]
  },
  {
   "cell_type": "markdown",
   "metadata": {},
   "source": [
    "#### confirm that a MQTT message to `/robot_ui/robotui_02/cmd` is sent automatically"
   ]
  },
  {
   "cell_type": "markdown",
   "metadata": {},
   "source": [
    "example)\n",
    "```\n",
    "Client mosq-c2AmKdOalbtXrD22A8 received PUBLISH (d0, q0, r0, m0, '/robot_ui/robotui_02/cmd', ... (102 bytes))\n",
    "{\"send_state\":{\"time\":\"2019-11-13T15:14:18.249+09:00\",\"state\":\"moving\",\"destination\":\"会議室1中\"}}\n",
    "```"
   ]
  },
  {
   "cell_type": "markdown",
   "metadata": {},
   "source": [
    "#### confirm log messages"
   ]
  },
  {
   "cell_type": "markdown",
   "metadata": {},
   "source": [
    "example)\n",
    "```\n",
    "update robot state, robot_id=delivery_robot_02, current_mode=standby, next_mode=navi\n",
    "publish new state to robot ui(robotui_02), current_state=picking, next_state=moving, destination=会議室1中\n",
    "```"
   ]
  },
  {
   "cell_type": "markdown",
   "metadata": {},
   "source": [
    "### 15. emulate the stop of  `delivery_robot_02`"
   ]
  },
  {
   "cell_type": "markdown",
   "metadata": {},
   "source": [
    "#### send a ros message "
   ]
  },
  {
   "cell_type": "markdown",
   "metadata": {},
   "source": [
    "_On ROS Kinect PC_\n",
    "1. start a terminal\n",
    "1. execute below command.\n",
    "\n",
    "```\n",
    "rostopic pub -1 /robot_bridge/megarover_01/state uoa_poc2_msgs/r_state \"\n",
    "id: 'delivery_robot_02'\n",
    "type: 'delivery_robot'\n",
    "time: '2019-11-13T15:14:19.249+09:00'\n",
    "mode: 'standby'\n",
    "errors: ['']\n",
    "pose:\n",
    "  point: {x: -0.5, y: -2.5, z: 0.0}\n",
    "  angle: {roll: 0.0, pitch: 0.0, yaw: -1.8}\n",
    "destination:\n",
    "  point: {x: -0.5, y: -2.5, z: 0.0}\n",
    "  angle_optional:\n",
    "    valid: true\n",
    "    angle: {roll: 0.0, pitch: 0.0, yaw: -1.8}\n",
    "covariance: [0.0, 0.0, 0.0, 0.0, 0.0, 0.0, 0.0, 0.0, 0.0, 0.0, 0.0, 0.0, 0.0, 0.0,\n",
    "  0.0, 0.0, 0.0, 0.0, 0.0, 0.0, 0.0, 0.0, 0.0, 0.0, 0.0, 0.0, 0.0, 0.0, 0.0, 0.0,\n",
    "  0.0, 0.0, 0.0, 0.0, 0.0, 0.0]\n",
    "battery:\n",
    "  voltage: 0.0\n",
    "  current_optional: {valid: false, current: 0.0}\n",
    "\"\n",
    "```"
   ]
  },
  {
   "cell_type": "markdown",
   "metadata": {},
   "source": [
    "#### confirm the MQTT message to `/delivery_robot/delivery_robot_02/attrs`"
   ]
  },
  {
   "cell_type": "markdown",
   "metadata": {},
   "source": [
    "example)\n",
    "```\n",
    "Client mosq-c2AmKdOalbtXrD22A8 received PUBLISH (d0, q0, r0, m0, '/delivery_robot/delivery_robot_02/attrs', ... (534 bytes))\n",
    "{\"errors\": [], \"pose\": {\"angle\": {\"yaw\": -1.8, \"roll\": 0.0, \"pitch\": 0.0}, \"point\": {\"y\": -2.5, \"x\": -0.5, \"z\": 0.0}}, \"battery\": {\"current\": null, \"voltage\": 0.0}, \"destination\": {\"angle\": {\"yaw\": -1.8, \"roll\": 0.0, \"pitch\": 0.0}, \"point\": {\"y\": -2.5, \"x\": -0.5, \"z\": 0.0}}, \"covariance\": [0.0, 0.0, 0.0, 0.0, 0.0, 0.0, 0.0, 0.0, 0.0, 0.0, 0.0, 0.0, 0.0, 0.0, 0.0, 0.0, 0.0, 0.0, 0.0, 0.0, 0.0, 0.0, 0.0, 0.0, 0.0, 0.0, 0.0, 0.0, 0.0, 0.0, 0.0, 0.0, 0.0, 0.0, 0.0, 0.0], \"mode\": \"standby\", \"time\": \"2019-11-13T15:15:54.580626+09:00\"}\n",
    "```"
   ]
  },
  {
   "cell_type": "markdown",
   "metadata": {},
   "source": [
    "#### confirm that a MQTT message to `/delivery_robot/delivery_robot_02/cmd` is sent automatically"
   ]
  },
  {
   "cell_type": "markdown",
   "metadata": {},
   "source": [
    "example)\n",
    "```\n",
    "Client mosq-c2AmKdOalbtXrD22A8 received PUBLISH (d0, q0, r0, m0, '/delivery_robot/delivery_robot_02/cmd', ... (206 bytes))\n",
    "{\"send_cmd\":{\"time\":\"2019-11-13T15:15:54.750+09:00\",\"cmd\":\"navi\",\"waypoints\":[{\"point\":{\"x\":-0.94,\"y\":-5.9,\"z\":0},\"angle\":null},{\"point\":{\"x\":0.7,\"y\":-7.4,\"z\":0},\"angle\":{\"roll\":0,\"pitch\":0,\"yaw\":-0.15}}]}}\n",
    "```"
   ]
  },
  {
   "cell_type": "markdown",
   "metadata": {},
   "source": [
    "#### confirm that a ros message for delivery_robot_02 ( `/robot_bridge/megarover_01/cmd` ) is sent automatically"
   ]
  },
  {
   "cell_type": "markdown",
   "metadata": {},
   "source": [
    "example)\n",
    "\n",
    "```yaml\n",
    "id: \"delivery_robot_02\"\n",
    "type: \"delivery_robot\"\n",
    "time: \"2019-11-13T15:15:54.750+09:00\"\n",
    "cmd: \"navi\"\n",
    "waypoints:\n",
    "  -\n",
    "    point:\n",
    "      x: -0.94\n",
    "      y: -5.9\n",
    "      z: 0.0\n",
    "    angle_optional:\n",
    "      valid: False\n",
    "      angle:\n",
    "        roll: 0.0\n",
    "        pitch: 0.0\n",
    "        yaw: 0.0\n",
    "  -\n",
    "    point:\n",
    "      x: 0.7\n",
    "      y: -7.4\n",
    "      z: 0.0\n",
    "    angle_optional:\n",
    "      valid: True\n",
    "      angle:\n",
    "        roll: 0.0\n",
    "        pitch: 0.0\n",
    "        yaw: -0.15\n",
    "---\n",
    "```"
   ]
  },
  {
   "cell_type": "markdown",
   "metadata": {},
   "source": [
    "#### confirm that a MQTT message to `/delivery_robot/delivery_robot_01/cmd` is sent automatically"
   ]
  },
  {
   "cell_type": "markdown",
   "metadata": {},
   "source": [
    "example)\n",
    "```\n",
    "Client mosq-c2AmKdOalbtXrD22A8 received PUBLISH (d0, q0, r0, m0, '/delivery_robot/delivery_robot_01/cmd', ... (204 bytes))\n",
    "{\"send_cmd\":{\"time\":\"2019-11-13T15:15:54.885+09:00\",\"cmd\":\"navi\",\"waypoints\":[{\"point\":{\"x\":0.5,\"y\":-2,\"z\":0},\"angle\":null},{\"point\":{\"x\":4.71,\"y\":-1.99,\"z\":0},\"angle\":{\"roll\":0,\"pitch\":0,\"yaw\":-1.57}}]}}\n",
    "```"
   ]
  },
  {
   "cell_type": "markdown",
   "metadata": {},
   "source": [
    "#### confirm that a ros message for delivery_robot_01 ( `/robot_bridge/turtlebot_01/cmd` ) is sent automatically"
   ]
  },
  {
   "cell_type": "markdown",
   "metadata": {},
   "source": [
    "example)\n",
    "\n",
    "```yaml\n",
    "id: \"delivery_robot_01\"\n",
    "type: \"delivery_robot\"\n",
    "time: \"2019-11-13T15:15:54.885+09:00\"\n",
    "cmd: \"navi\"\n",
    "waypoints:\n",
    "  -\n",
    "    point:\n",
    "      x: 0.5\n",
    "      y: -2.0\n",
    "      z: 0.0\n",
    "    angle_optional:\n",
    "      valid: False\n",
    "      angle:\n",
    "        roll: 0.0\n",
    "        pitch: 0.0\n",
    "        yaw: 0.0\n",
    "  -\n",
    "    point:\n",
    "      x: 4.71\n",
    "      y: -1.99\n",
    "      z: 0.0\n",
    "    angle_optional:\n",
    "      valid: True\n",
    "      angle:\n",
    "        roll: 0.0\n",
    "        pitch: 0.0\n",
    "        yaw: -1.57\n",
    "---\n",
    "```"
   ]
  },
  {
   "cell_type": "markdown",
   "metadata": {},
   "source": [
    "#### confirm log messages"
   ]
  },
  {
   "cell_type": "markdown",
   "metadata": {},
   "source": [
    "`delivery_robot_02` released `token_a`, so `delivery_robot_01` which is wating this token can lock it and can move into restlicted area.\n",
    "\n",
    "example)\n",
    "\n",
    "```\n",
    "update robot state, robot_id=delivery_robot_02, current_mode=navi, next_mode=standby\n",
    "switch token (token_a) from delivery_robot_02 to delivery_robot_01\n",
    "move robot(delivery_robot_02) to \"place_LB\" (waypoints=[{'point': {'x': -0.94, 'y': -5.9, 'z': 0}, 'angle': None}, {'point': {'x': 0.7, 'y': -7.4, 'z': 0}, 'angle': {'roll': 0, 'pitch': 0, 'yaw': -0.15}}]\n",
    "move robot(delivery_robot_01) to \"place_L\" (waypoints=[{'point': {'x': 0.5, 'y': -2, 'z': 0}, 'angle': None}, {'point': {'x': 4.71, 'y': -1.99, 'z': 0}, 'angle': {'roll': 0, 'pitch': 0, 'yaw': -1.57}}]\n",
    "```"
   ]
  },
  {
   "cell_type": "markdown",
   "metadata": {},
   "source": [
    "#### confirm token entity"
   ]
  },
  {
   "cell_type": "code",
   "execution_count": null,
   "metadata": {
    "scrolled": false
   },
   "outputs": [],
   "source": [
    "TOKEN=$(cat ${CORE_ROOT}/secrets/auth-tokens.json | jq '.[0].settings.bearer_tokens[0].token' -r)\n",
    "curl -sS -H \"Authorization: bearer ${TOKEN}\" -H \"Fiware-Service: ${FIWARE_SERVICE}\" -H \"Fiware-Servicepath: ${TOKEN_SERVICEPATH}\" https://api.${DOMAIN}/orion/v2/entities/?type=${TOKEN_TYPE} | jq ."
   ]
  },
  {
   "cell_type": "markdown",
   "metadata": {},
   "source": [
    "confirm below:\n",
    "\n",
    "* `token_a` is still locked, but its owner is switched from `delivery_robot_02` to `delivery_robot_01`, and `delivery_robot_01` is no longer waiting for this token.\n",
    "* `token_b` and `token_c` is not locked."
   ]
  },
  {
   "cell_type": "markdown",
   "metadata": {},
   "source": [
    "### 16. emulate the move of  `delivery_robot_01`"
   ]
  },
  {
   "cell_type": "markdown",
   "metadata": {},
   "source": [
    "#### send a ros message "
   ]
  },
  {
   "cell_type": "markdown",
   "metadata": {},
   "source": [
    "_On ROS Kinect PC_\n",
    "1. start a terminal\n",
    "1. execute below command.\n",
    "\n",
    "```\n",
    "rostopic pub -1 /robot_bridge/turtlebot_01/state uoa_poc2_msgs/r_state \"\n",
    "id: 'delivery_robot_01'\n",
    "type: 'delivery_robot'\n",
    "time: '2019-11-13T15:15:55.885+09:00'\n",
    "mode: 'navi'\n",
    "errors: ['']\n",
    "pose:\n",
    "  point: {x: 0.1, y: -0.8, z: 0.0}\n",
    "  angle: {roll: 0.0, pitch: 0.0, yaw: -0.8}\n",
    "destination:\n",
    "  point: {x: 0.5, y: -2.0, z: 0.0}\n",
    "  angle_optional:\n",
    "    valid: false\n",
    "    angle: {roll: 0.0, pitch: 0.0, yaw: 0.0}\n",
    "covariance: [0.0, 0.0, 0.0, 0.0, 0.0, 0.0, 0.0, 0.0, 0.0, 0.0, 0.0, 0.0, 0.0, 0.0,\n",
    "  0.0, 0.0, 0.0, 0.0, 0.0, 0.0, 0.0, 0.0, 0.0, 0.0, 0.0, 0.0, 0.0, 0.0, 0.0, 0.0,\n",
    "  0.0, 0.0, 0.0, 0.0, 0.0, 0.0]\n",
    "battery:\n",
    "  voltage: 0.0\n",
    "  current_optional: {valid: false, current: 0.0}\n",
    "\"\n",
    "```"
   ]
  },
  {
   "cell_type": "markdown",
   "metadata": {},
   "source": [
    "#### confirm the MQTT message to `/delivery_robot/delivery_robot_01/attrs`"
   ]
  },
  {
   "cell_type": "markdown",
   "metadata": {},
   "source": [
    "example)\n",
    "```\n",
    "Client mosq-c2AmKdOalbtXrD22A8 received PUBLISH (d0, q0, r0, m0, '/delivery_robot/delivery_robot_01/attrs', ... (493 bytes))\n",
    "{\"errors\": [], \"pose\": {\"angle\": {\"yaw\": -0.8, \"roll\": 0.0, \"pitch\": 0.0}, \"point\": {\"y\": -0.8, \"x\": 0.1, \"z\": 0.0}}, \"battery\": {\"current\": null, \"voltage\": 0.0}, \"destination\": {\"angle\": null, \"point\": {\"y\": -2.0, \"x\": 0.5, \"z\": 0.0}}, \"covariance\": [0.0, 0.0, 0.0, 0.0, 0.0, 0.0, 0.0, 0.0, 0.0, 0.0, 0.0, 0.0, 0.0, 0.0, 0.0, 0.0, 0.0, 0.0, 0.0, 0.0, 0.0, 0.0, 0.0, 0.0, 0.0, 0.0, 0.0, 0.0, 0.0, 0.0, 0.0, 0.0, 0.0, 0.0, 0.0, 0.0], \"mode\": \"navi\", \"time\": \"2019-11-13T15:18:15.355946+09:00\"}\n",
    "```"
   ]
  },
  {
   "cell_type": "markdown",
   "metadata": {},
   "source": [
    "### 17. emulate the stop of  `delivery_robot_01`"
   ]
  },
  {
   "cell_type": "markdown",
   "metadata": {},
   "source": [
    "#### send a ros message "
   ]
  },
  {
   "cell_type": "markdown",
   "metadata": {},
   "source": [
    "_On ROS Kinect PC_\n",
    "1. start a terminal\n",
    "1. execute below command.\n",
    "\n",
    "```\n",
    "rostopic pub -1 /robot_bridge/turtlebot_01/state uoa_poc2_msgs/r_state \"\n",
    "id: 'delivery_robot_01'\n",
    "type: 'delivery_robot'\n",
    "time: '2019-11-13T15:15:58.885+09:00'\n",
    "mode: 'standby'\n",
    "errors: ['']\n",
    "pose:\n",
    "  point: {x: 4.71, y: -1.99, z: 0.0}\n",
    "  angle: {roll: 0.0, pitch: 0.0, yaw: -1.57}\n",
    "destination:\n",
    "  point: {x: 4.71, y: -1.99, z: 0.0}\n",
    "  angle_optional:\n",
    "    valid: true\n",
    "    angle: {roll: 0.0, pitch: 0.0, yaw: -1.57}\n",
    "covariance: [0.0, 0.0, 0.0, 0.0, 0.0, 0.0, 0.0, 0.0, 0.0, 0.0, 0.0, 0.0, 0.0, 0.0,\n",
    "  0.0, 0.0, 0.0, 0.0, 0.0, 0.0, 0.0, 0.0, 0.0, 0.0, 0.0, 0.0, 0.0, 0.0, 0.0, 0.0,\n",
    "  0.0, 0.0, 0.0, 0.0, 0.0, 0.0]\n",
    "battery:\n",
    "  voltage: 0.0\n",
    "  current_optional: {valid: false, current: 0.0}\n",
    "\"\n",
    "```"
   ]
  },
  {
   "cell_type": "markdown",
   "metadata": {},
   "source": [
    "#### confirm the MQTT message to `/delivery_robot/delivery_robot_01/attrs`"
   ]
  },
  {
   "cell_type": "markdown",
   "metadata": {},
   "source": [
    "example)\n",
    "```\n",
    "Client mosq-c2AmKdOalbtXrD22A8 received PUBLISH (d0, q0, r0, m0, '/delivery_robot/delivery_robot_01/attrs', ... (538 bytes))\n",
    "{\"errors\": [], \"pose\": {\"angle\": {\"yaw\": -1.57, \"roll\": 0.0, \"pitch\": 0.0}, \"point\": {\"y\": -1.99, \"x\": 4.71, \"z\": 0.0}}, \"battery\": {\"current\": null, \"voltage\": 0.0}, \"destination\": {\"angle\": {\"yaw\": -1.57, \"roll\": 0.0, \"pitch\": 0.0}, \"point\": {\"y\": -1.99, \"x\": 4.71, \"z\": 0.0}}, \"covariance\": [0.0, 0.0, 0.0, 0.0, 0.0, 0.0, 0.0, 0.0, 0.0, 0.0, 0.0, 0.0, 0.0, 0.0, 0.0, 0.0, 0.0, 0.0, 0.0, 0.0, 0.0, 0.0, 0.0, 0.0, 0.0, 0.0, 0.0, 0.0, 0.0, 0.0, 0.0, 0.0, 0.0, 0.0, 0.0, 0.0], \"mode\": \"standby\", \"time\": \"2019-11-13T15:19:06.888005+09:00\"}\n",
    "```"
   ]
  },
  {
   "cell_type": "markdown",
   "metadata": {},
   "source": [
    "#### confirm that a MQTT message to `/robot_ui/robotui_01/cmd` is sent automatically"
   ]
  },
  {
   "cell_type": "markdown",
   "metadata": {},
   "source": [
    "example)\n",
    "```\n",
    "Client mosq-c2AmKdOalbtXrD22A8 received PUBLISH (d0, q0, r0, m0, '/robot_ui/robotui_01/cmd', ... (99 bytes))\n",
    "{\"send_state\":{\"time\":\"2019-11-13T15:19:07.031+09:00\",\"state\":\"picking\",\"destination\":\"事務室\"}}\n",
    "```"
   ]
  },
  {
   "cell_type": "markdown",
   "metadata": {},
   "source": [
    "#### confirm log messages"
   ]
  },
  {
   "cell_type": "markdown",
   "metadata": {},
   "source": [
    "example)\n",
    "```\n",
    "update robot state, robot_id=delivery_robot_01, current_mode=navi, next_mode=standby\n",
    "publish new state to robot ui(robotui_01), current_state=moving, next_state=picking, destination=事務室\n",
    "```"
   ]
  },
  {
   "cell_type": "markdown",
   "metadata": {},
   "source": [
    "#### confirm token entity"
   ]
  },
  {
   "cell_type": "code",
   "execution_count": null,
   "metadata": {
    "scrolled": false
   },
   "outputs": [],
   "source": [
    "TOKEN=$(cat ${CORE_ROOT}/secrets/auth-tokens.json | jq '.[0].settings.bearer_tokens[0].token' -r)\n",
    "curl -sS -H \"Authorization: bearer ${TOKEN}\" -H \"Fiware-Service: ${FIWARE_SERVICE}\" -H \"Fiware-Servicepath: ${TOKEN_SERVICEPATH}\" https://api.${DOMAIN}/orion/v2/entities/?type=${TOKEN_TYPE} | jq ."
   ]
  },
  {
   "cell_type": "markdown",
   "metadata": {},
   "source": [
    "confirm below:\n",
    "\n",
    "* `token_a` is still locked by `delivery_robot_01`, and no robot is waiting for this token.\n",
    "* token_b and token_c is not locked."
   ]
  },
  {
   "cell_type": "markdown",
   "metadata": {},
   "source": [
    "### 18. emulate the move of  `delivery_robot_02`"
   ]
  },
  {
   "cell_type": "markdown",
   "metadata": {},
   "source": [
    "#### send a ros message "
   ]
  },
  {
   "cell_type": "markdown",
   "metadata": {},
   "source": [
    "_On ROS Kinect PC_\n",
    "1. start a terminal\n",
    "1. execute below command.\n",
    "\n",
    "```\n",
    "rostopic pub -1 /robot_bridge/megarover_01/state uoa_poc2_msgs/r_state \"\n",
    "id: 'delivery_robot_02'\n",
    "type: 'delivery_robot'\n",
    "time: '2019-11-13T15:15:55.885+09:00'\n",
    "mode: 'navi'\n",
    "errors: ['']\n",
    "pose:\n",
    "  point: {x: -0.90, y: -5.9, z: 0.0}\n",
    "  angle: {roll: 0.0, pitch: 0.0, yaw: 1.01}\n",
    "destination:\n",
    "  point: {x: -0.94, y: -5.9, z: 0.0}\n",
    "  angle_optional:\n",
    "    valid: false\n",
    "    angle: {roll: 0.0, pitch: 0.0, yaw: 0.0}\n",
    "covariance: [0.0, 0.0, 0.0, 0.0, 0.0, 0.0, 0.0, 0.0, 0.0, 0.0, 0.0, 0.0, 0.0, 0.0,\n",
    "  0.0, 0.0, 0.0, 0.0, 0.0, 0.0, 0.0, 0.0, 0.0, 0.0, 0.0, 0.0, 0.0, 0.0, 0.0, 0.0,\n",
    "  0.0, 0.0, 0.0, 0.0, 0.0, 0.0]\n",
    "battery:\n",
    "  voltage: 0.0\n",
    "  current_optional: {valid: false, current: 0.0}\n",
    "\"\n",
    "```"
   ]
  },
  {
   "cell_type": "markdown",
   "metadata": {},
   "source": [
    "#### confirm the MQTT message to `/delivery_robot/delivery_robot_02/attrs`"
   ]
  },
  {
   "cell_type": "markdown",
   "metadata": {},
   "source": [
    "example)\n",
    "```\n",
    "Client mosq-c2AmKdOalbtXrD22A8 received PUBLISH (d0, q0, r0, m0, '/delivery_robot/delivery_robot_02/attrs', ... (496 bytes))\n",
    "{\"errors\": [], \"pose\": {\"angle\": {\"yaw\": 1.01, \"roll\": 0.0, \"pitch\": 0.0}, \"point\": {\"y\": -5.9, \"x\": -0.9, \"z\": 0.0}}, \"battery\": {\"current\": null, \"voltage\": 0.0}, \"destination\": {\"angle\": null, \"point\": {\"y\": -5.9, \"x\": -0.94, \"z\": 0.0}}, \"covariance\": [0.0, 0.0, 0.0, 0.0, 0.0, 0.0, 0.0, 0.0, 0.0, 0.0, 0.0, 0.0, 0.0, 0.0, 0.0, 0.0, 0.0, 0.0, 0.0, 0.0, 0.0, 0.0, 0.0, 0.0, 0.0, 0.0, 0.0, 0.0, 0.0, 0.0, 0.0, 0.0, 0.0, 0.0, 0.0, 0.0], \"mode\": \"navi\", \"time\": \"2019-11-13T15:21:00.465994+09:00\"}\n",
    "```"
   ]
  },
  {
   "cell_type": "markdown",
   "metadata": {},
   "source": [
    "### 19. emulate the stop of  `delivery_robot_02`"
   ]
  },
  {
   "cell_type": "markdown",
   "metadata": {},
   "source": [
    "#### send a ros message "
   ]
  },
  {
   "cell_type": "markdown",
   "metadata": {},
   "source": [
    "_On ROS Kinect PC_\n",
    "1. start a terminal\n",
    "1. execute below command.\n",
    "\n",
    "```\n",
    "rostopic pub -1 /robot_bridge/megarover_01/state uoa_poc2_msgs/r_state \"\n",
    "id: 'delivery_robot_02'\n",
    "type: 'delivery_robot'\n",
    "time: '2019-11-13T15:15:57.885+09:00'\n",
    "mode: 'standby'\n",
    "errors: ['']\n",
    "pose:\n",
    "  point: {x: 0.7, y: -7.4, z: 0.0}\n",
    "  angle: {roll: 0.0, pitch: 0.0, yaw: -0.15}\n",
    "destination:\n",
    "  point: {x: 0.7, y: -7.4, z: 0.0}\n",
    "  angle_optional:\n",
    "    valid: true\n",
    "    angle: {roll: 0.0, pitch: 0.0, yaw: -0.15}\n",
    "covariance: [0.0, 0.0, 0.0, 0.0, 0.0, 0.0, 0.0, 0.0, 0.0, 0.0, 0.0, 0.0, 0.0, 0.0,\n",
    "  0.0, 0.0, 0.0, 0.0, 0.0, 0.0, 0.0, 0.0, 0.0, 0.0, 0.0, 0.0, 0.0, 0.0, 0.0, 0.0,\n",
    "  0.0, 0.0, 0.0, 0.0, 0.0, 0.0]\n",
    "battery:\n",
    "  voltage: 0.0\n",
    "  current_optional: {valid: false, current: 0.0}\n",
    "\"\n",
    "```"
   ]
  },
  {
   "cell_type": "markdown",
   "metadata": {},
   "source": [
    "#### confirm the MQTT message to `/delivery_robot/delivery_robot_02/attrs`"
   ]
  },
  {
   "cell_type": "markdown",
   "metadata": {},
   "source": [
    "example)\n",
    "```\n",
    "Client mosq-c2AmKdOalbtXrD22A8 received PUBLISH (d0, q0, r0, m0, '/delivery_robot/delivery_robot_02/attrs', ... (534 bytes))\n",
    "{\"errors\": [], \"pose\": {\"angle\": {\"yaw\": -0.15, \"roll\": 0.0, \"pitch\": 0.0}, \"point\": {\"y\": -7.4, \"x\": 0.7, \"z\": 0.0}}, \"battery\": {\"current\": null, \"voltage\": 0.0}, \"destination\": {\"angle\": {\"yaw\": -0.15, \"roll\": 0.0, \"pitch\": 0.0}, \"point\": {\"y\": -7.4, \"x\": 0.7, \"z\": 0.0}}, \"covariance\": [0.0, 0.0, 0.0, 0.0, 0.0, 0.0, 0.0, 0.0, 0.0, 0.0, 0.0, 0.0, 0.0, 0.0, 0.0, 0.0, 0.0, 0.0, 0.0, 0.0, 0.0, 0.0, 0.0, 0.0, 0.0, 0.0, 0.0, 0.0, 0.0, 0.0, 0.0, 0.0, 0.0, 0.0, 0.0, 0.0], \"mode\": \"standby\", \"time\": \"2019-11-13T15:21:41.198201+09:00\"}\n",
    "```"
   ]
  },
  {
   "cell_type": "markdown",
   "metadata": {},
   "source": [
    "#### confirm that a MQTT message to `/delivery_robot/delivery_robot_02/cmd` is sent automatically"
   ]
  },
  {
   "cell_type": "markdown",
   "metadata": {},
   "source": [
    "example)\n",
    "```\n",
    "Client mosq-c2AmKdOalbtXrD22A8 received PUBLISH (d0, q0, r0, m0, '/delivery_robot/delivery_robot_02/cmd', ... (201 bytes))\n",
    "{\"send_cmd\":{\"time\":\"2019-11-13T15:21:41.334+09:00\",\"cmd\":\"navi\",\"waypoints\":[{\"point\":{\"x\":1.7,\"y\":-8,\"z\":0},\"angle\":null},{\"point\":{\"x\":2.3,\"y\":-7.5,\"z\":0},\"angle\":{\"roll\":0,\"pitch\":0,\"yaw\":0.05}}]}}\n",
    "```"
   ]
  },
  {
   "cell_type": "markdown",
   "metadata": {},
   "source": [
    "#### confirm that a ros message for delivery_robot_02 ( `/robot_bridge/megarover_01/cmd` ) is sent automatically"
   ]
  },
  {
   "cell_type": "markdown",
   "metadata": {},
   "source": [
    "example)\n",
    "\n",
    "```yaml\n",
    "id: \"delivery_robot_02\"\n",
    "type: \"delivery_robot\"\n",
    "time: \"2019-11-13T15:21:41.334+09:00\"\n",
    "cmd: \"navi\"\n",
    "waypoints:\n",
    "  -\n",
    "    point:\n",
    "      x: 1.7\n",
    "      y: -8.0\n",
    "      z: 0.0\n",
    "    angle_optional:\n",
    "      valid: False\n",
    "      angle:\n",
    "        roll: 0.0\n",
    "        pitch: 0.0\n",
    "        yaw: 0.0\n",
    "  -\n",
    "    point:\n",
    "      x: 2.3\n",
    "      y: -7.5\n",
    "      z: 0.0\n",
    "    angle_optional:\n",
    "      valid: True\n",
    "      angle:\n",
    "        roll: 0.0\n",
    "        pitch: 0.0\n",
    "        yaw: 0.05\n",
    "---\n",
    "```"
   ]
  },
  {
   "cell_type": "markdown",
   "metadata": {},
   "source": [
    "#### confirm log messages"
   ]
  },
  {
   "cell_type": "markdown",
   "metadata": {},
   "source": [
    "example)\n",
    "\n",
    "```\n",
    "update robot state, robot_id=delivery_robot_02, current_mode=navi, next_mode=standby\n",
    "lock token (token_b) by delivery_robot_02\n",
    "move robot(delivery_robot_02) to \"place_RB\" (waypoints=[{'point': {'x': 1.7, 'y': -8, 'z': 0}, 'angle': None}, {'point': {'x': 2.3, 'y': -7.5, 'z': 0}, 'angle': {'roll': 0, 'pitch': 0, 'yaw': 0.05}}]\n",
    "```"
   ]
  },
  {
   "cell_type": "markdown",
   "metadata": {},
   "source": [
    "#### confirm token entity"
   ]
  },
  {
   "cell_type": "code",
   "execution_count": null,
   "metadata": {
    "scrolled": false
   },
   "outputs": [],
   "source": [
    "TOKEN=$(cat ${CORE_ROOT}/secrets/auth-tokens.json | jq '.[0].settings.bearer_tokens[0].token' -r)\n",
    "curl -sS -H \"Authorization: bearer ${TOKEN}\" -H \"Fiware-Service: ${FIWARE_SERVICE}\" -H \"Fiware-Servicepath: ${TOKEN_SERVICEPATH}\" https://api.${DOMAIN}/orion/v2/entities/?type=${TOKEN_TYPE} | jq ."
   ]
  },
  {
   "cell_type": "markdown",
   "metadata": {},
   "source": [
    "confirm below:\n",
    "\n",
    "* `token_a` is still locked by `delivery_robot_01`, and no robot is waiting for this token.\n",
    "* now, `token_b` is locked by `delivery_robot_02`.\n",
    "* `token_c` is not locked yet."
   ]
  },
  {
   "cell_type": "markdown",
   "metadata": {},
   "source": [
    "### 20. emulate the move of  `delivery_robot_02`"
   ]
  },
  {
   "cell_type": "markdown",
   "metadata": {},
   "source": [
    "#### send a ros message "
   ]
  },
  {
   "cell_type": "markdown",
   "metadata": {},
   "source": [
    "_On ROS Kinect PC_\n",
    "1. start a terminal\n",
    "1. execute below command.\n",
    "\n",
    "```\n",
    "rostopic pub -1 /robot_bridge/megarover_01/state uoa_poc2_msgs/r_state \"\n",
    "id: 'delivery_robot_02'\n",
    "type: 'delivery_robot'\n",
    "time: '2019-11-13T15:21:42.334+09:00'\n",
    "mode: 'navi'\n",
    "errors: ['']\n",
    "pose:\n",
    "  point: {x: 2.1, y: -6.1, z: 0.0}\n",
    "  angle: {roll: 0.0, pitch: 0.0, yaw: -0.2}\n",
    "destination:\n",
    "  point: {x: 2.3, y: -7.5, z: 0.0}\n",
    "  angle_optional:\n",
    "    valid: false\n",
    "    angle: {roll: 0.0, pitch: 0.0, yaw: 0.0}\n",
    "covariance: [0.0, 0.0, 0.0, 0.0, 0.0, 0.0, 0.0, 0.0, 0.0, 0.0, 0.0, 0.0, 0.0, 0.0,\n",
    "  0.0, 0.0, 0.0, 0.0, 0.0, 0.0, 0.0, 0.0, 0.0, 0.0, 0.0, 0.0, 0.0, 0.0, 0.0, 0.0,\n",
    "  0.0, 0.0, 0.0, 0.0, 0.0, 0.0]\n",
    "battery:\n",
    "  voltage: 0.0\n",
    "  current_optional: {valid: false, current: 0.0}\n",
    "\"\n",
    "```"
   ]
  },
  {
   "cell_type": "markdown",
   "metadata": {},
   "source": [
    "#### confirm the MQTT message to `/delivery_robot/delivery_robot_02/attrs`"
   ]
  },
  {
   "cell_type": "markdown",
   "metadata": {},
   "source": [
    "example)\n",
    "```\n",
    "Client mosq-c2AmKdOalbtXrD22A8 received PUBLISH (d0, q0, r0, m0, '/delivery_robot/delivery_robot_02/attrs', ... (493 bytes))\n",
    "{\"errors\": [], \"pose\": {\"angle\": {\"yaw\": -0.2, \"roll\": 0.0, \"pitch\": 0.0}, \"point\": {\"y\": -6.1, \"x\": 2.1, \"z\": 0.0}}, \"battery\": {\"current\": null, \"voltage\": 0.0}, \"destination\": {\"angle\": null, \"point\": {\"y\": -7.5, \"x\": 2.3, \"z\": 0.0}}, \"covariance\": [0.0, 0.0, 0.0, 0.0, 0.0, 0.0, 0.0, 0.0, 0.0, 0.0, 0.0, 0.0, 0.0, 0.0, 0.0, 0.0, 0.0, 0.0, 0.0, 0.0, 0.0, 0.0, 0.0, 0.0, 0.0, 0.0, 0.0, 0.0, 0.0, 0.0, 0.0, 0.0, 0.0, 0.0, 0.0, 0.0], \"mode\": \"navi\", \"time\": \"2019-11-13T15:23:24.498259+09:00\"}\n",
    "```"
   ]
  },
  {
   "cell_type": "markdown",
   "metadata": {},
   "source": [
    "### 21. emulate the stop of  `delivery_robot_02`"
   ]
  },
  {
   "cell_type": "markdown",
   "metadata": {},
   "source": [
    "#### send a ros message "
   ]
  },
  {
   "cell_type": "markdown",
   "metadata": {},
   "source": [
    "_On ROS Kinect PC_\n",
    "1. start a terminal\n",
    "1. execute below command.\n",
    "\n",
    "```\n",
    "rostopic pub -1 /robot_bridge/megarover_01/state uoa_poc2_msgs/r_state \"\n",
    "id: 'delivery_robot_02'\n",
    "type: 'delivery_robot'\n",
    "time: '2019-11-13T15:21:45.334+09:00'\n",
    "mode: 'standby'\n",
    "errors: ['']\n",
    "pose:\n",
    "  point: {x: 2.3, y: -7.5, z: 0.0}\n",
    "  angle: {roll: 0.0, pitch: 0.0, yaw: 0.05}\n",
    "destination:\n",
    "  point: {x: 2.3, y: -7.5, z: 0.0}\n",
    "  angle_optional:\n",
    "    valid: true\n",
    "    angle: {roll: 0.0, pitch: 0.0, yaw: 0.05}\n",
    "covariance: [0.0, 0.0, 0.0, 0.0, 0.0, 0.0, 0.0, 0.0, 0.0, 0.0, 0.0, 0.0, 0.0, 0.0,\n",
    "  0.0, 0.0, 0.0, 0.0, 0.0, 0.0, 0.0, 0.0, 0.0, 0.0, 0.0, 0.0, 0.0, 0.0, 0.0, 0.0,\n",
    "  0.0, 0.0, 0.0, 0.0, 0.0, 0.0]\n",
    "battery:\n",
    "  voltage: 0.0\n",
    "  current_optional: {valid: false, current: 0.0}\n",
    "\"\n",
    "```"
   ]
  },
  {
   "cell_type": "markdown",
   "metadata": {},
   "source": [
    "#### confirm the MQTT message to `/delivery_robot/delivery_robot_02/attrs`"
   ]
  },
  {
   "cell_type": "markdown",
   "metadata": {},
   "source": [
    "example)\n",
    "```\n",
    "Client mosq-c2AmKdOalbtXrD22A8 received PUBLISH (d0, q0, r0, m0, '/delivery_robot/delivery_robot_02/attrs', ... (532 bytes))\n",
    "{\"errors\": [], \"pose\": {\"angle\": {\"yaw\": 0.05, \"roll\": 0.0, \"pitch\": 0.0}, \"point\": {\"y\": -7.5, \"x\": 2.3, \"z\": 0.0}}, \"battery\": {\"current\": null, \"voltage\": 0.0}, \"destination\": {\"angle\": {\"yaw\": 0.05, \"roll\": 0.0, \"pitch\": 0.0}, \"point\": {\"y\": -7.5, \"x\": 2.3, \"z\": 0.0}}, \"covariance\": [0.0, 0.0, 0.0, 0.0, 0.0, 0.0, 0.0, 0.0, 0.0, 0.0, 0.0, 0.0, 0.0, 0.0, 0.0, 0.0, 0.0, 0.0, 0.0, 0.0, 0.0, 0.0, 0.0, 0.0, 0.0, 0.0, 0.0, 0.0, 0.0, 0.0, 0.0, 0.0, 0.0, 0.0, 0.0, 0.0], \"mode\": \"standby\", \"time\": \"2019-11-13T15:24:04.932775+09:00\"}\n",
    "```"
   ]
  },
  {
   "cell_type": "markdown",
   "metadata": {},
   "source": [
    "#### confirm that a MQTT message to `/delivery_robot/delivery_robot_02/cmd` is sent automatically"
   ]
  },
  {
   "cell_type": "markdown",
   "metadata": {},
   "source": [
    "example)\n",
    "```\n",
    "Client mosq-c2AmKdOalbtXrD22A8 received PUBLISH (d0, q0, r0, m0, '/delivery_robot/delivery_robot_02/cmd', ... (152 bytes))\n",
    "{\"send_cmd\":{\"time\":\"2019-11-13T15:24:05.083+09:00\",\"cmd\":\"navi\",\"waypoints\":[{\"point\":{\"x\":4.9,\"y\":-7.3,\"z\":0},\"angle\":{\"roll\":0,\"pitch\":0,\"yaw\":0}}]}}\n",
    "```"
   ]
  },
  {
   "cell_type": "markdown",
   "metadata": {},
   "source": [
    "#### confirm that a ros message for delivery_robot_02 ( `/robot_bridge/megarover_01/cmd` ) is sent automatically"
   ]
  },
  {
   "cell_type": "markdown",
   "metadata": {},
   "source": [
    "example)\n",
    "\n",
    "```yaml\n",
    "id: \"delivery_robot_02\"\n",
    "type: \"delivery_robot\"\n",
    "time: \"2019-11-13T15:24:05.083+09:00\"\n",
    "cmd: \"navi\"\n",
    "waypoints:\n",
    "  -\n",
    "    point:\n",
    "      x: 4.9\n",
    "      y: -7.3\n",
    "      z: 0.0\n",
    "    angle_optional:\n",
    "      valid: True\n",
    "      angle:\n",
    "        roll: 0.0\n",
    "        pitch: 0.0\n",
    "        yaw: 0.0\n",
    "---\n",
    "```"
   ]
  },
  {
   "cell_type": "markdown",
   "metadata": {},
   "source": [
    "#### confirm log messages"
   ]
  },
  {
   "cell_type": "markdown",
   "metadata": {},
   "source": [
    "example)\n",
    "\n",
    "```\n",
    "update robot state, robot_id=delivery_robot_02, current_mode=navi, next_mode=standby\n",
    "release token (token_b) by delivery_robot_02\n",
    "move robot(delivery_robot_02) to \"place_LC\" (waypoints=[{'point': {'x': 4.9, 'y': -7.3, 'z': 0}, 'angle': {'roll': 0, 'pitch': 0, 'yaw': 0}}]\n",
    "```"
   ]
  },
  {
   "cell_type": "markdown",
   "metadata": {},
   "source": [
    "#### confirm token entity"
   ]
  },
  {
   "cell_type": "code",
   "execution_count": null,
   "metadata": {
    "scrolled": false
   },
   "outputs": [],
   "source": [
    "TOKEN=$(cat ${CORE_ROOT}/secrets/auth-tokens.json | jq '.[0].settings.bearer_tokens[0].token' -r)\n",
    "curl -sS -H \"Authorization: bearer ${TOKEN}\" -H \"Fiware-Service: ${FIWARE_SERVICE}\" -H \"Fiware-Servicepath: ${TOKEN_SERVICEPATH}\" https://api.${DOMAIN}/orion/v2/entities/?type=${TOKEN_TYPE} | jq ."
   ]
  },
  {
   "cell_type": "markdown",
   "metadata": {},
   "source": [
    "confirm below:\n",
    "\n",
    "* `token_a` is still locked by `delivery_robot_01`, and no robot is waiting for this token.\n",
    "* `token_b` is released.\n",
    "* `token_c` is not locked yet."
   ]
  },
  {
   "cell_type": "markdown",
   "metadata": {},
   "source": [
    "### 22. emulate the move of  `delivery_robot_02`"
   ]
  },
  {
   "cell_type": "markdown",
   "metadata": {},
   "source": [
    "#### send a ros message "
   ]
  },
  {
   "cell_type": "markdown",
   "metadata": {},
   "source": [
    "_On ROS Kinect PC_\n",
    "1. start a terminal\n",
    "1. execute below command.\n",
    "\n",
    "```\n",
    "rostopic pub -1 /robot_bridge/megarover_01/state uoa_poc2_msgs/r_state \"\n",
    "id: 'delivery_robot_02'\n",
    "type: 'delivery_robot'\n",
    "time: '2019-11-13T15:24:05.383+09:00'\n",
    "mode: 'navi'\n",
    "errors: ['']\n",
    "pose:\n",
    "  point: {x: 2.4, y: -7.1, z: 0.0}\n",
    "  angle: {roll: 0.0, pitch: 0.0, yaw: 0.0}\n",
    "destination:\n",
    "  point: {x: 4.9, y: -7.3, z: 0.0}\n",
    "  angle_optional:\n",
    "    valid: true\n",
    "    angle: {roll: 0.0, pitch: 0.0, yaw: 0.0}\n",
    "covariance: [0.0, 0.0, 0.0, 0.0, 0.0, 0.0, 0.0, 0.0, 0.0, 0.0, 0.0, 0.0, 0.0, 0.0,\n",
    "  0.0, 0.0, 0.0, 0.0, 0.0, 0.0, 0.0, 0.0, 0.0, 0.0, 0.0, 0.0, 0.0, 0.0, 0.0, 0.0,\n",
    "  0.0, 0.0, 0.0, 0.0, 0.0, 0.0]\n",
    "battery:\n",
    "  voltage: 0.0\n",
    "  current_optional: {valid: false, current: 0.0}\n",
    "\"\n",
    "```"
   ]
  },
  {
   "cell_type": "markdown",
   "metadata": {},
   "source": [
    "#### confirm the MQTT message to `/delivery_robot/delivery_robot_02/attrs`"
   ]
  },
  {
   "cell_type": "markdown",
   "metadata": {},
   "source": [
    "example)\n",
    "```\n",
    "Client mosq-c2AmKdOalbtXrD22A8 received PUBLISH (d0, q0, r0, m0, '/delivery_robot/delivery_robot_02/attrs', ... (527 bytes))\n",
    "{\"errors\": [], \"pose\": {\"angle\": {\"yaw\": 0.0, \"roll\": 0.0, \"pitch\": 0.0}, \"point\": {\"y\": -7.1, \"x\": 2.4, \"z\": 0.0}}, \"battery\": {\"current\": null, \"voltage\": 0.0}, \"destination\": {\"angle\": {\"yaw\": 0.0, \"roll\": 0.0, \"pitch\": 0.0}, \"point\": {\"y\": -7.3, \"x\": 4.9, \"z\": 0.0}}, \"covariance\": [0.0, 0.0, 0.0, 0.0, 0.0, 0.0, 0.0, 0.0, 0.0, 0.0, 0.0, 0.0, 0.0, 0.0, 0.0, 0.0, 0.0, 0.0, 0.0, 0.0, 0.0, 0.0, 0.0, 0.0, 0.0, 0.0, 0.0, 0.0, 0.0, 0.0, 0.0, 0.0, 0.0, 0.0, 0.0, 0.0], \"mode\": \"navi\", \"time\": \"2019-11-13T15:25:23.194646+09:00\"}\n",
    "```"
   ]
  },
  {
   "cell_type": "markdown",
   "metadata": {},
   "source": [
    "### 23. emulate the stop of  `delivery_robot_02`"
   ]
  },
  {
   "cell_type": "markdown",
   "metadata": {},
   "source": [
    "#### send a ros message "
   ]
  },
  {
   "cell_type": "markdown",
   "metadata": {},
   "source": [
    "_On ROS Kinect PC_\n",
    "1. start a terminal\n",
    "1. execute below command.\n",
    "\n",
    "```\n",
    "rostopic pub -1 /robot_bridge/megarover_01/state uoa_poc2_msgs/r_state \"\n",
    "id: 'delivery_robot_02'\n",
    "type: 'delivery_robot'\n",
    "time: '2019-11-13T15:24:05.383+09:00'\n",
    "mode: 'standby'\n",
    "errors: ['']\n",
    "pose:\n",
    "  point: {x: 4.9, y: -7.3, z: 0.0}\n",
    "  angle: {roll: 0.0, pitch: 0.0, yaw: 0.0}\n",
    "destination:\n",
    "  point: {x: 4.9, y: -7.3, z: 0.0}\n",
    "  angle_optional:\n",
    "    valid: true\n",
    "    angle: {roll: 0.0, pitch: 0.0, yaw: 0.0}\n",
    "covariance: [0.0, 0.0, 0.0, 0.0, 0.0, 0.0, 0.0, 0.0, 0.0, 0.0, 0.0, 0.0, 0.0, 0.0,\n",
    "  0.0, 0.0, 0.0, 0.0, 0.0, 0.0, 0.0, 0.0, 0.0, 0.0, 0.0, 0.0, 0.0, 0.0, 0.0, 0.0,\n",
    "  0.0, 0.0, 0.0, 0.0, 0.0, 0.0]\n",
    "battery:\n",
    "  voltage: 0.0\n",
    "  current_optional: {valid: false, current: 0.0}\n",
    "\"\n",
    "```"
   ]
  },
  {
   "cell_type": "markdown",
   "metadata": {},
   "source": [
    "#### confirm the MQTT message to `/delivery_robot/delivery_robot_02/attrs`"
   ]
  },
  {
   "cell_type": "markdown",
   "metadata": {},
   "source": [
    "example)\n",
    "```\n",
    "Client mosq-c2AmKdOalbtXrD22A8 received PUBLISH (d0, q0, r0, m0, '/delivery_robot/delivery_robot_02/attrs', ... (530 bytes))\n",
    "{\"errors\": [], \"pose\": {\"angle\": {\"yaw\": 0.0, \"roll\": 0.0, \"pitch\": 0.0}, \"point\": {\"y\": -7.3, \"x\": 4.9, \"z\": 0.0}}, \"battery\": {\"current\": null, \"voltage\": 0.0}, \"destination\": {\"angle\": {\"yaw\": 0.0, \"roll\": 0.0, \"pitch\": 0.0}, \"point\": {\"y\": -7.3, \"x\": 4.9, \"z\": 0.0}}, \"covariance\": [0.0, 0.0, 0.0, 0.0, 0.0, 0.0, 0.0, 0.0, 0.0, 0.0, 0.0, 0.0, 0.0, 0.0, 0.0, 0.0, 0.0, 0.0, 0.0, 0.0, 0.0, 0.0, 0.0, 0.0, 0.0, 0.0, 0.0, 0.0, 0.0, 0.0, 0.0, 0.0, 0.0, 0.0, 0.0, 0.0], \"mode\": \"standby\", \"time\": \"2019-11-13T15:25:59.969067+09:00\"}\n",
    "```"
   ]
  },
  {
   "cell_type": "markdown",
   "metadata": {},
   "source": [
    "#### confirm that a MQTT message to `/delivery_robot/delivery_robot_02/cmd` is sent automatically"
   ]
  },
  {
   "cell_type": "markdown",
   "metadata": {},
   "source": [
    "example)\n",
    "```\n",
    "Client mosq-c2AmKdOalbtXrD22A8 received PUBLISH (d0, q0, r0, m0, '/delivery_robot/delivery_robot_02/cmd', ... (300 bytes))\n",
    "{\"send_cmd\":{\"time\":\"2019-11-13T15:26:00.142+09:00\",\"cmd\":\"navi\",\"waypoints\":[{\"point\":{\"x\":6.06,\"y\":-8,\"z\":0},\"angle\":null},{\"point\":{\"x\":9.56,\"y\":-8,\"z\":0},\"angle\":null},{\"point\":{\"x\":10.6,\"y\":-8,\"z\":0},\"angle\":null},{\"point\":{\"x\":10.73,\"y\":-9.08,\"z\":0},\"angle\":{\"roll\":0,\"pitch\":0,\"yaw\":-1.57}}]}}\n",
    "```"
   ]
  },
  {
   "cell_type": "markdown",
   "metadata": {},
   "source": [
    "#### confirm that a ros message for delivery_robot_02 ( `/robot_bridge/megarover_01/cmd` ) is sent automatically"
   ]
  },
  {
   "cell_type": "markdown",
   "metadata": {},
   "source": [
    "example)\n",
    "\n",
    "```yaml\n",
    "id: \"delivery_robot_02\"\n",
    "type: \"delivery_robot\"\n",
    "time: \"2019-11-13T15:26:00.142+09:00\"\n",
    "cmd: \"navi\"\n",
    "waypoints:\n",
    "  -\n",
    "    point:\n",
    "      x: 6.06\n",
    "      y: -8.0\n",
    "      z: 0.0\n",
    "    angle_optional:\n",
    "      valid: False\n",
    "      angle:\n",
    "        roll: 0.0\n",
    "        pitch: 0.0\n",
    "        yaw: 0.0\n",
    "  -\n",
    "    point:\n",
    "      x: 9.56\n",
    "      y: -8.0\n",
    "      z: 0.0\n",
    "    angle_optional:\n",
    "      valid: False\n",
    "      angle:\n",
    "        roll: 0.0\n",
    "        pitch: 0.0\n",
    "        yaw: 0.0\n",
    "  -\n",
    "    point:\n",
    "      x: 10.6\n",
    "      y: -8.0\n",
    "      z: 0.0\n",
    "    angle_optional:\n",
    "      valid: False\n",
    "      angle:\n",
    "        roll: 0.0\n",
    "        pitch: 0.0\n",
    "        yaw: 0.0\n",
    "  -\n",
    "    point:\n",
    "      x: 10.73\n",
    "      y: -9.08\n",
    "      z: 0.0\n",
    "    angle_optional:\n",
    "      valid: True\n",
    "      angle:\n",
    "        roll: 0.0\n",
    "        pitch: 0.0\n",
    "        yaw: -1.57\n",
    "---\n",
    "```"
   ]
  },
  {
   "cell_type": "markdown",
   "metadata": {},
   "source": [
    "#### confirm log messages"
   ]
  },
  {
   "cell_type": "markdown",
   "metadata": {},
   "source": [
    "example)\n",
    "\n",
    "```\n",
    "update robot state, robot_id=delivery_robot_02, current_mode=navi, next_mode=standby\n",
    "lock token (token_c) by delivery_robot_02\n",
    "move robot(delivery_robot_02) to \"place_Jdash\" (waypoints=[{'point': {'x': 6.06, 'y': -8, 'z': 0}, 'angle': None}, {'point': {'x': 9.56, 'y': -8, 'z': 0}, 'angle': None}, {'point': {'x': 10.6, 'y': -8, 'z': 0}, 'angle': None}, {'point': {'x': 10.73, 'y': -9.08, 'z': 0}, 'angle': {'roll': 0, 'pitch': 0, 'yaw': -1.57}}]\n",
    "```"
   ]
  },
  {
   "cell_type": "markdown",
   "metadata": {},
   "source": [
    "#### confirm token entity"
   ]
  },
  {
   "cell_type": "code",
   "execution_count": null,
   "metadata": {
    "scrolled": false
   },
   "outputs": [],
   "source": [
    "TOKEN=$(cat ${CORE_ROOT}/secrets/auth-tokens.json | jq '.[0].settings.bearer_tokens[0].token' -r)\n",
    "curl -sS -H \"Authorization: bearer ${TOKEN}\" -H \"Fiware-Service: ${FIWARE_SERVICE}\" -H \"Fiware-Servicepath: ${TOKEN_SERVICEPATH}\" https://api.${DOMAIN}/orion/v2/entities/?type=${TOKEN_TYPE} | jq ."
   ]
  },
  {
   "cell_type": "markdown",
   "metadata": {},
   "source": [
    "confirm below:\n",
    "\n",
    "* `token_a` is still locked by `delivery_robot_01`, and no robot is waiting for this token.\n",
    "* `token_b` is not locked.\n",
    "* `token_c` is locked by `delivery_robot_02`."
   ]
  },
  {
   "cell_type": "markdown",
   "metadata": {},
   "source": [
    "### 24. emulate the move of  `delivery_robot_02`"
   ]
  },
  {
   "cell_type": "markdown",
   "metadata": {},
   "source": [
    "#### send a ros message "
   ]
  },
  {
   "cell_type": "markdown",
   "metadata": {},
   "source": [
    "_On ROS Kinect PC_\n",
    "1. start a terminal\n",
    "1. execute below command.\n",
    "\n",
    "```\n",
    "rostopic pub -1 /robot_bridge/megarover_01/state uoa_poc2_msgs/r_state \"\n",
    "id: 'delivery_robot_02'\n",
    "type: 'delivery_robot'\n",
    "time: '2019-11-13T15:26:02.142+09:00'\n",
    "mode: 'navi'\n",
    "errors: ['']\n",
    "pose:\n",
    "  point: {x: 6.0, y: -7.1, z: 0.0}\n",
    "  angle: {roll: 0.0, pitch: 0.0, yaw: 0.0}\n",
    "destination:\n",
    "  point: {x: 6.06, y: -8.0, z: 0.0}\n",
    "  angle_optional:\n",
    "    valid: true\n",
    "    angle: {roll: 0.0, pitch: 0.0, yaw: 0.0}\n",
    "covariance: [0.0, 0.0, 0.0, 0.0, 0.0, 0.0, 0.0, 0.0, 0.0, 0.0, 0.0, 0.0, 0.0, 0.0,\n",
    "  0.0, 0.0, 0.0, 0.0, 0.0, 0.0, 0.0, 0.0, 0.0, 0.0, 0.0, 0.0, 0.0, 0.0, 0.0, 0.0,\n",
    "  0.0, 0.0, 0.0, 0.0, 0.0, 0.0]\n",
    "battery:\n",
    "  voltage: 0.0\n",
    "  current_optional: {valid: false, current: 0.0}\n",
    "\"\n",
    "```"
   ]
  },
  {
   "cell_type": "markdown",
   "metadata": {},
   "source": [
    "#### confirm the MQTT message to `/delivery_robot/delivery_robot_02/attrs`"
   ]
  },
  {
   "cell_type": "markdown",
   "metadata": {},
   "source": [
    "example)\n",
    "```\n",
    "Client mosq-c2AmKdOalbtXrD22A8 received PUBLISH (d0, q0, r0, m0, '/delivery_robot/delivery_robot_02/attrs', ... (528 bytes))\n",
    "{\"errors\": [], \"pose\": {\"angle\": {\"yaw\": 0.0, \"roll\": 0.0, \"pitch\": 0.0}, \"point\": {\"y\": -7.1, \"x\": 6.0, \"z\": 0.0}}, \"battery\": {\"current\": null, \"voltage\": 0.0}, \"destination\": {\"angle\": {\"yaw\": 0.0, \"roll\": 0.0, \"pitch\": 0.0}, \"point\": {\"y\": -8.0, \"x\": 6.06, \"z\": 0.0}}, \"covariance\": [0.0, 0.0, 0.0, 0.0, 0.0, 0.0, 0.0, 0.0, 0.0, 0.0, 0.0, 0.0, 0.0, 0.0, 0.0, 0.0, 0.0, 0.0, 0.0, 0.0, 0.0, 0.0, 0.0, 0.0, 0.0, 0.0, 0.0, 0.0, 0.0, 0.0, 0.0, 0.0, 0.0, 0.0, 0.0, 0.0], \"mode\": \"navi\", \"time\": \"2019-11-13T15:27:43.720254+09:00\"}\n",
    "```"
   ]
  },
  {
   "cell_type": "markdown",
   "metadata": {},
   "source": [
    "### 25. emulate the stop of  `delivery_robot_02`"
   ]
  },
  {
   "cell_type": "markdown",
   "metadata": {},
   "source": [
    "#### send a ros message "
   ]
  },
  {
   "cell_type": "markdown",
   "metadata": {},
   "source": [
    "_On ROS Kinect PC_\n",
    "1. start a terminal\n",
    "1. execute below command.\n",
    "\n",
    "```\n",
    "rostopic pub -1 /robot_bridge/megarover_01/state uoa_poc2_msgs/r_state \"\n",
    "id: 'delivery_robot_02'\n",
    "type: 'delivery_robot'\n",
    "time: '2019-11-13T15:26:03.142+09:00'\n",
    "mode: 'standby'\n",
    "errors: ['']\n",
    "pose:\n",
    "  point: {x: 10.70, y: -9.01, z: 0.0}\n",
    "  angle: {roll: 0.0, pitch: 0.0, yaw: -1.56}\n",
    "destination:\n",
    "  point: {x: 10.73 , y: -9.08, z: 0.0}\n",
    "  angle_optional:\n",
    "    valid: true\n",
    "    angle: {roll: 0.0, pitch: 0.0, yaw: -1.57}\n",
    "covariance: [0.0, 0.0, 0.0, 0.0, 0.0, 0.0, 0.0, 0.0, 0.0, 0.0, 0.0, 0.0, 0.0, 0.0,\n",
    "  0.0, 0.0, 0.0, 0.0, 0.0, 0.0, 0.0, 0.0, 0.0, 0.0, 0.0, 0.0, 0.0, 0.0, 0.0, 0.0,\n",
    "  0.0, 0.0, 0.0, 0.0, 0.0, 0.0]\n",
    "battery:\n",
    "  voltage: 0.0\n",
    "  current_optional: {valid: false, current: 0.0}\n",
    "\"\n",
    "```"
   ]
  },
  {
   "cell_type": "markdown",
   "metadata": {},
   "source": [
    "#### confirm the MQTT message to `/delivery_robot/delivery_robot_02/attrs`"
   ]
  },
  {
   "cell_type": "markdown",
   "metadata": {},
   "source": [
    "example)\n",
    "```\n",
    "Client mosq-c2AmKdOalbtXrD22A8 received PUBLISH (d0, q0, r0, m0, '/delivery_robot/delivery_robot_02/attrs', ... (539 bytes))\n",
    "{\"errors\": [], \"pose\": {\"angle\": {\"yaw\": -1.56, \"roll\": 0.0, \"pitch\": 0.0}, \"point\": {\"y\": -9.01, \"x\": 10.7, \"z\": 0.0}}, \"battery\": {\"current\": null, \"voltage\": 0.0}, \"destination\": {\"angle\": {\"yaw\": -1.57, \"roll\": 0.0, \"pitch\": 0.0}, \"point\": {\"y\": -9.08, \"x\": 10.73, \"z\": 0.0}}, \"covariance\": [0.0, 0.0, 0.0, 0.0, 0.0, 0.0, 0.0, 0.0, 0.0, 0.0, 0.0, 0.0, 0.0, 0.0, 0.0, 0.0, 0.0, 0.0, 0.0, 0.0, 0.0, 0.0, 0.0, 0.0, 0.0, 0.0, 0.0, 0.0, 0.0, 0.0, 0.0, 0.0, 0.0, 0.0, 0.0, 0.0], \"mode\": \"standby\", \"time\": \"2019-11-13T15:28:27.414671+09:00\"}\n",
    "```"
   ]
  },
  {
   "cell_type": "markdown",
   "metadata": {},
   "source": [
    "#### confirm that a MQTT message to `/robot_ui/robotui_02/cmd` is sent automatically"
   ]
  },
  {
   "cell_type": "markdown",
   "metadata": {},
   "source": [
    "example)\n",
    "\n",
    "```\n",
    "Client mosq-c2AmKdOalbtXrD22A8 received PUBLISH (d0, q0, r0, m0, '/robot_ui/robotui_02/cmd', ... (106 bytes))\n",
    "{\"send_state\":{\"time\":\"2019-11-13T15:28:27.542+09:00\",\"state\":\"delivering\",\"destination\":\"会議室1中\"}}\n",
    "```"
   ]
  },
  {
   "cell_type": "markdown",
   "metadata": {},
   "source": [
    "#### confirm log messages"
   ]
  },
  {
   "cell_type": "markdown",
   "metadata": {},
   "source": [
    "example)\n",
    "\n",
    "```\n",
    "update robot state, robot_id=delivery_robot_02, current_mode=navi, next_mode=standby\n",
    "publish new state to robot ui(robotui_02), current_state=moving, next_state=delivering, destination=会議室1中\n",
    "```"
   ]
  },
  {
   "cell_type": "markdown",
   "metadata": {},
   "source": [
    "#### confirm token entity"
   ]
  },
  {
   "cell_type": "code",
   "execution_count": null,
   "metadata": {
    "scrolled": false
   },
   "outputs": [],
   "source": [
    "TOKEN=$(cat ${CORE_ROOT}/secrets/auth-tokens.json | jq '.[0].settings.bearer_tokens[0].token' -r)\n",
    "curl -sS -H \"Authorization: bearer ${TOKEN}\" -H \"Fiware-Service: ${FIWARE_SERVICE}\" -H \"Fiware-Servicepath: ${TOKEN_SERVICEPATH}\" https://api.${DOMAIN}/orion/v2/entities/?type=${TOKEN_TYPE} | jq ."
   ]
  },
  {
   "cell_type": "markdown",
   "metadata": {},
   "source": [
    "confirm below:\n",
    "\n",
    "* `token_a` is still locked by `delivery_robot_01`, and no robot is waiting for this token.\n",
    "* `token_b` is not locked.\n",
    "* `token_c` is still locked by `delivery_robot_02`."
   ]
  },
  {
   "cell_type": "markdown",
   "metadata": {},
   "source": [
    "### 26. emulate the completion of  picking operation ( `delivery_robot_01`)"
   ]
  },
  {
   "cell_type": "markdown",
   "metadata": {},
   "source": [
    "#### post a movenext data"
   ]
  },
  {
   "cell_type": "code",
   "execution_count": null,
   "metadata": {},
   "outputs": [],
   "source": [
    "TOKEN=$(cat ~/core/secrets/auth-tokens.json | jq '.[0].settings.bearer_tokens | map(select(.allowed_paths[] | contains (\"^/controller/.*$\"))) | .[0].token' -r)\n",
    "curl -i -H \"Authorization: bearer ${TOKEN}\" -H \"Content-Type: application/json\" https://api.tech-sketch.jp/controller/api/v1/robots/${DELIVERY_ROBOT_01}/nexts/ -X PATCH -d '{}'"
   ]
  },
  {
   "cell_type": "markdown",
   "metadata": {},
   "source": [
    "example)\n",
    "\n",
    "```\n",
    "HTTP/1.1 200 OK\n",
    "server: envoy\n",
    "date: Fri, 08 Nov 2019 10:23:42 GMT\n",
    "content-type: application/json\n",
    "content-length: 21\n",
    "access-control-allow-origin: *\n",
    "x-envoy-upstream-service-time: 131\n",
    "\n",
    "{\"result\":\"success\"}\n",
    "```"
   ]
  },
  {
   "cell_type": "markdown",
   "metadata": {},
   "source": [
    "#### confirm the MQTT message"
   ]
  },
  {
   "cell_type": "markdown",
   "metadata": {},
   "source": [
    "example)\n",
    "```\n",
    "Client mosq-c2AmKdOalbtXrD22A8 received PUBLISH (d0, q0, r0, m0, '/delivery_robot/delivery_robot_01/cmd', ... (202 bytes))\n",
    "{\"send_cmd\":{\"time\":\"2019-11-13T15:33:05.493+09:00\",\"cmd\":\"navi\",\"waypoints\":[{\"point\":{\"x\":0.5,\"y\":-2,\"z\":0},\"angle\":null},{\"point\":{\"x\":-0.5,\"y\":-2.5,\"z\":0},\"angle\":{\"roll\":0,\"pitch\":0,\"yaw\":-1.8}}]}}\n",
    "```"
   ]
  },
  {
   "cell_type": "markdown",
   "metadata": {},
   "source": [
    "#### confirm ros message for delivery_robot_02 ( `/robot_bridge/megarover_01/cmd` )"
   ]
  },
  {
   "cell_type": "markdown",
   "metadata": {},
   "source": [
    "example)\n",
    "\n",
    "```yaml\n",
    "id: \"delivery_robot_01\"\n",
    "type: \"delivery_robot\"\n",
    "time: \"2019-11-13T15:33:05.493+09:00\"\n",
    "cmd: \"navi\"\n",
    "waypoints:\n",
    "  -\n",
    "    point:\n",
    "      x: 0.5\n",
    "      y: -2.0\n",
    "      z: 0.0\n",
    "    angle_optional:\n",
    "      valid: False\n",
    "      angle:\n",
    "        roll: 0.0\n",
    "        pitch: 0.0\n",
    "        yaw: 0.0\n",
    "  -\n",
    "    point:\n",
    "      x: -0.5\n",
    "      y: -2.5\n",
    "      z: 0.0\n",
    "    angle_optional:\n",
    "      valid: True\n",
    "      angle:\n",
    "        roll: 0.0\n",
    "        pitch: 0.0\n",
    "        yaw: -1.8\n",
    "---\n",
    "```"
   ]
  },
  {
   "cell_type": "markdown",
   "metadata": {},
   "source": [
    "#### confirm token entity"
   ]
  },
  {
   "cell_type": "code",
   "execution_count": null,
   "metadata": {
    "scrolled": false
   },
   "outputs": [],
   "source": [
    "TOKEN=$(cat ${CORE_ROOT}/secrets/auth-tokens.json | jq '.[0].settings.bearer_tokens[0].token' -r)\n",
    "curl -sS -H \"Authorization: bearer ${TOKEN}\" -H \"Fiware-Service: ${FIWARE_SERVICE}\" -H \"Fiware-Servicepath: ${TOKEN_SERVICEPATH}\" https://api.${DOMAIN}/orion/v2/entities/?type=${TOKEN_TYPE} | jq ."
   ]
  },
  {
   "cell_type": "markdown",
   "metadata": {},
   "source": [
    "confirm below:\n",
    "\n",
    "* `token_a` is still locked by `delivery_robot_01`.\n",
    "* `token_b` is not locked.\n",
    "* `token_c` is still locked by `delivery_robot_02`."
   ]
  },
  {
   "cell_type": "markdown",
   "metadata": {},
   "source": [
    "### 27. notify that the command is received"
   ]
  },
  {
   "cell_type": "markdown",
   "metadata": {},
   "source": [
    "#### send a ros message"
   ]
  },
  {
   "cell_type": "markdown",
   "metadata": {},
   "source": [
    "_On ROS Kinect PC_\n",
    "1. start a terminal\n",
    "1. execute below command.\n",
    "```\n",
    "rostopic pub -1 /robot_bridge/turtlebot_01/cmdexe uoa_poc2_msgs/r_result \"\n",
    "id: 'delivery_robot_01'\n",
    "type: 'delivery_robot'\n",
    "time: '2019-11-13T15:33:05.593+09:00'\n",
    "received_time: '2019-11-13T15:33:05.493+09:00'\n",
    "received_cmd: 'navi'\n",
    "received_waypoints:\n",
    "  -\n",
    "    point:\n",
    "      x: 0.5\n",
    "      y: -2.0\n",
    "      z: 0.0\n",
    "    angle_optional:\n",
    "      valid: False\n",
    "      angle:\n",
    "        roll: 0.0\n",
    "        pitch: 0.0\n",
    "        yaw: 0.0\n",
    "  -\n",
    "    point:\n",
    "      x: -0.5\n",
    "      y: -2.5\n",
    "      z: 0.0\n",
    "    angle_optional:\n",
    "      valid: True\n",
    "      angle:\n",
    "        roll: 0.0\n",
    "        pitch: 0.0\n",
    "        yaw: -1.8\n",
    "result: 'ack'\n",
    "errors: ['']\n",
    "\"\n",
    "```"
   ]
  },
  {
   "cell_type": "markdown",
   "metadata": {},
   "source": [
    "#### confirm the MQTT message"
   ]
  },
  {
   "cell_type": "markdown",
   "metadata": {},
   "source": [
    "example)\n",
    "```\n",
    "Client mosq-c2AmKdOalbtXrD22A8 received PUBLISH (d0, q0, r0, m0, '/delivery_robot/delivery_robot_01/cmdexe', ... (341 bytes))\n",
    "{\"send_cmd\": {\"received_time\": \"2019-11-13T15:33:05.493+09:00\", \"errors\": [\"\"], \"received_cmd\": \"navi\", \"received_waypoints\": [{\"angle\": null, \"point\": {\"y\": -2.0, \"x\": 0.5, \"z\": 0.0}}, {\"angle\": {\"yaw\": -1.8, \"roll\": 0.0, \"pitch\": 0.0}, \"point\": {\"y\": -2.5, \"x\": -0.5, \"z\": 0.0}}], \"result\": \"ack\", \"time\": \"2019-11-13T15:33:05.593+09:00\"}}\n",
    "```"
   ]
  },
  {
   "cell_type": "markdown",
   "metadata": {},
   "source": [
    "### 28. emulate the move of  `delivery_robot_01`"
   ]
  },
  {
   "cell_type": "markdown",
   "metadata": {},
   "source": [
    "#### send a ros message "
   ]
  },
  {
   "cell_type": "markdown",
   "metadata": {},
   "source": [
    "_On ROS Kinect PC_\n",
    "1. start a terminal\n",
    "1. execute below command.\n",
    "\n",
    "```\n",
    "rostopic pub -1 /robot_bridge/turtlebot_01/state uoa_poc2_msgs/r_state \"\n",
    "id: 'delivery_robot_01'\n",
    "type: 'delivery_robot'\n",
    "time: '2019-11-13T15:33:05.593+09:00'\n",
    "mode: 'navi'\n",
    "errors: ['']\n",
    "pose:\n",
    "  point: {x: 0.6, y: -1.9, z: 0.0}\n",
    "  angle: {roll: 0.0, pitch: 0.0, yaw: -0.01}\n",
    "destination:\n",
    "  point: {x: 0.5, y: -2.0, z: 0.0}\n",
    "  angle_optional:\n",
    "    valid: false\n",
    "    angle: {roll: 0.0, pitch: 0.0, yaw: 0.0}\n",
    "covariance: [0.0, 0.0, 0.0, 0.0, 0.0, 0.0, 0.0, 0.0, 0.0, 0.0, 0.0, 0.0, 0.0, 0.0,\n",
    "  0.0, 0.0, 0.0, 0.0, 0.0, 0.0, 0.0, 0.0, 0.0, 0.0, 0.0, 0.0, 0.0, 0.0, 0.0, 0.0,\n",
    "  0.0, 0.0, 0.0, 0.0, 0.0, 0.0]\n",
    "battery:\n",
    "  voltage: 0.0\n",
    "  current_optional: {valid: false, current: 0.0}\n",
    "\"\n",
    "```"
   ]
  },
  {
   "cell_type": "markdown",
   "metadata": {},
   "source": [
    "#### confirm the MQTT message to `/delivery_robot/delivery_robot_01/attrs`"
   ]
  },
  {
   "cell_type": "markdown",
   "metadata": {},
   "source": [
    "example)\n",
    "\n",
    "```\n",
    "Client mosq-c2AmKdOalbtXrD22A8 received PUBLISH (d0, q0, r0, m0, '/delivery_robot/delivery_robot_01/attrs', ... (494 bytes))\n",
    "{\"errors\": [], \"pose\": {\"angle\": {\"yaw\": -0.01, \"roll\": 0.0, \"pitch\": 0.0}, \"point\": {\"y\": -1.9, \"x\": 0.6, \"z\": 0.0}}, \"battery\": {\"current\": null, \"voltage\": 0.0}, \"destination\": {\"angle\": null, \"point\": {\"y\": -2.0, \"x\": 0.5, \"z\": 0.0}}, \"covariance\": [0.0, 0.0, 0.0, 0.0, 0.0, 0.0, 0.0, 0.0, 0.0, 0.0, 0.0, 0.0, 0.0, 0.0, 0.0, 0.0, 0.0, 0.0, 0.0, 0.0, 0.0, 0.0, 0.0, 0.0, 0.0, 0.0, 0.0, 0.0, 0.0, 0.0, 0.0, 0.0, 0.0, 0.0, 0.0, 0.0], \"mode\": \"navi\", \"time\": \"2019-11-13T15:35:10.063065+09:00\"}\n",
    "```"
   ]
  },
  {
   "cell_type": "markdown",
   "metadata": {},
   "source": [
    "#### confirm that a MQTT message to `/robot_ui/robotui_01/cmd` is sent automatically"
   ]
  },
  {
   "cell_type": "markdown",
   "metadata": {},
   "source": [
    "example)\n",
    "\n",
    "```\n",
    "Client mosq-c2AmKdOalbtXrD22A8 received PUBLISH (d0, q0, r0, m0, '/robot_ui/robotui_01/cmd', ... (95 bytes))\n",
    "{\"send_state\":{\"time\":\"2019-11-13T15:35:10.177+09:00\",\"state\":\"moving\",\"destination\":\"個室\"}}\n",
    "```"
   ]
  },
  {
   "cell_type": "markdown",
   "metadata": {},
   "source": [
    "#### confirm log messages"
   ]
  },
  {
   "cell_type": "markdown",
   "metadata": {},
   "source": [
    "example)\n",
    "\n",
    "```\n",
    "update robot state, robot_id=delivery_robot_01, current_mode=standby, next_mode=navi\n",
    "publish new state to robot ui(robotui_01), current_state=picking, next_state=moving, destination=個室\n",
    "```"
   ]
  },
  {
   "cell_type": "markdown",
   "metadata": {},
   "source": [
    "### 29. emulate the stop of  `delivery_robot_01`"
   ]
  },
  {
   "cell_type": "markdown",
   "metadata": {},
   "source": [
    "#### send a ros message "
   ]
  },
  {
   "cell_type": "markdown",
   "metadata": {},
   "source": [
    "_On ROS Kinect PC_\n",
    "1. start a terminal\n",
    "1. execute below command.\n",
    "\n",
    "```\n",
    "rostopic pub -1 /robot_bridge/turtlebot_01/state uoa_poc2_msgs/r_state \"\n",
    "id: 'delivery_robot_01'\n",
    "type: 'delivery_robot'\n",
    "time: '2019-11-13T15:33:08.593+09:00'\n",
    "mode: 'standby'\n",
    "errors: ['']\n",
    "pose:\n",
    "  point: {x: -0.5, y: -2.5, z: 0.0}\n",
    "  angle: {roll: 0.0, pitch: 0.0, yaw: -1.8}\n",
    "destination:\n",
    "  point: {x: -0.5, y: -2.5, z: 0.0}\n",
    "  angle_optional:\n",
    "    valid: true\n",
    "    angle: {roll: 0.0, pitch: 0.0, yaw: -1.8}\n",
    "covariance: [0.0, 0.0, 0.0, 0.0, 0.0, 0.0, 0.0, 0.0, 0.0, 0.0, 0.0, 0.0, 0.0, 0.0,\n",
    "  0.0, 0.0, 0.0, 0.0, 0.0, 0.0, 0.0, 0.0, 0.0, 0.0, 0.0, 0.0, 0.0, 0.0, 0.0, 0.0,\n",
    "  0.0, 0.0, 0.0, 0.0, 0.0, 0.0]\n",
    "battery:\n",
    "  voltage: 0.0\n",
    "  current_optional: {valid: false, current: 0.0}\n",
    "\"\n",
    "```"
   ]
  },
  {
   "cell_type": "markdown",
   "metadata": {},
   "source": [
    "#### confirm the MQTT message to `/delivery_robot/delivery_robot_01/attrs`"
   ]
  },
  {
   "cell_type": "markdown",
   "metadata": {},
   "source": [
    "example)\n",
    "\n",
    "```\n",
    "Client mosq-c2AmKdOalbtXrD22A8 received PUBLISH (d0, q0, r0, m0, '/delivery_robot/delivery_robot_01/attrs', ... (534 bytes))\n",
    "{\"errors\": [], \"pose\": {\"angle\": {\"yaw\": -1.8, \"roll\": 0.0, \"pitch\": 0.0}, \"point\": {\"y\": -2.5, \"x\": -0.5, \"z\": 0.0}}, \"battery\": {\"current\": null, \"voltage\": 0.0}, \"destination\": {\"angle\": {\"yaw\": -1.8, \"roll\": 0.0, \"pitch\": 0.0}, \"point\": {\"y\": -2.5, \"x\": -0.5, \"z\": 0.0}}, \"covariance\": [0.0, 0.0, 0.0, 0.0, 0.0, 0.0, 0.0, 0.0, 0.0, 0.0, 0.0, 0.0, 0.0, 0.0, 0.0, 0.0, 0.0, 0.0, 0.0, 0.0, 0.0, 0.0, 0.0, 0.0, 0.0, 0.0, 0.0, 0.0, 0.0, 0.0, 0.0, 0.0, 0.0, 0.0, 0.0, 0.0], \"mode\": \"standby\", \"time\": \"2019-11-13T15:36:42.458881+09:00\"}\n",
    "```"
   ]
  },
  {
   "cell_type": "markdown",
   "metadata": {},
   "source": [
    "#### confirm that a MQTT message to `/delivery_robot/delivery_robot_01/cmd` is sent automatically"
   ]
  },
  {
   "cell_type": "markdown",
   "metadata": {},
   "source": [
    "example)\n",
    "\n",
    "```\n",
    "Client mosq-c2AmKdOalbtXrD22A8 received PUBLISH (d0, q0, r0, m0, '/delivery_robot/delivery_robot_01/cmd', ... (206 bytes))\n",
    "{\"send_cmd\":{\"time\":\"2019-11-13T15:36:42.767+09:00\",\"cmd\":\"navi\",\"waypoints\":[{\"point\":{\"x\":-0.94,\"y\":-5.9,\"z\":0},\"angle\":null},{\"point\":{\"x\":0.7,\"y\":-7.4,\"z\":0},\"angle\":{\"roll\":0,\"pitch\":0,\"yaw\":-0.15}}]}}\n",
    "```"
   ]
  },
  {
   "cell_type": "markdown",
   "metadata": {},
   "source": [
    "#### confirm that a ros message for delivery_robot_01 ( `/robot_bridge/turtlebot_01/cmd` ) is sent automatically"
   ]
  },
  {
   "cell_type": "markdown",
   "metadata": {},
   "source": [
    "example)\n",
    "\n",
    "```yaml\n",
    "id: \"delivery_robot_01\"\n",
    "type: \"delivery_robot\"\n",
    "time: \"2019-11-13T15:36:42.767+09:00\"\n",
    "cmd: \"navi\"\n",
    "waypoints:\n",
    "  -\n",
    "    point:\n",
    "      x: -0.94\n",
    "      y: -5.9\n",
    "      z: 0.0\n",
    "    angle_optional:\n",
    "      valid: False\n",
    "      angle:\n",
    "        roll: 0.0\n",
    "        pitch: 0.0\n",
    "        yaw: 0.0\n",
    "  -\n",
    "    point:\n",
    "      x: 0.7\n",
    "      y: -7.4\n",
    "      z: 0.0\n",
    "    angle_optional:\n",
    "      valid: True\n",
    "      angle:\n",
    "        roll: 0.0\n",
    "        pitch: 0.0\n",
    "        yaw: -0.15\n",
    "---\n",
    "```"
   ]
  },
  {
   "cell_type": "markdown",
   "metadata": {},
   "source": [
    "#### confirm log messages"
   ]
  },
  {
   "cell_type": "markdown",
   "metadata": {},
   "source": [
    "example)\n",
    "\n",
    "```\n",
    "update robot state, robot_id=delivery_robot_01, current_mode=navi, next_mode=standby\n",
    "release token (token_a) by delivery_robot_01\n",
    "move robot(delivery_robot_01) to \"place_LB\" (waypoints=[{'point': {'x': -0.94, 'y': -5.9, 'z': 0}, 'angle': None}, {'point': {'x': 0.7, 'y': -7.4, 'z': 0}, 'angle': {'roll': 0, 'pitch': 0, 'yaw': -0.15}}]\n",
    "```"
   ]
  },
  {
   "cell_type": "markdown",
   "metadata": {},
   "source": [
    "#### confirm token entity"
   ]
  },
  {
   "cell_type": "code",
   "execution_count": null,
   "metadata": {
    "scrolled": false
   },
   "outputs": [],
   "source": [
    "TOKEN=$(cat ${CORE_ROOT}/secrets/auth-tokens.json | jq '.[0].settings.bearer_tokens[0].token' -r)\n",
    "curl -sS -H \"Authorization: bearer ${TOKEN}\" -H \"Fiware-Service: ${FIWARE_SERVICE}\" -H \"Fiware-Servicepath: ${TOKEN_SERVICEPATH}\" https://api.${DOMAIN}/orion/v2/entities/?type=${TOKEN_TYPE} | jq ."
   ]
  },
  {
   "cell_type": "markdown",
   "metadata": {},
   "source": [
    "confirm below:\n",
    "\n",
    "* `token_a` has been released.\n",
    "* `token_b` is not locked.\n",
    "* `token_c` is still locked by `delivery_robot_02`."
   ]
  },
  {
   "cell_type": "markdown",
   "metadata": {},
   "source": [
    "### 30. emulate the move of  `delivery_robot_01`"
   ]
  },
  {
   "cell_type": "markdown",
   "metadata": {},
   "source": [
    "#### send a ros message "
   ]
  },
  {
   "cell_type": "markdown",
   "metadata": {},
   "source": [
    "_On ROS Kinect PC_\n",
    "1. start a terminal\n",
    "1. execute below command.\n",
    "\n",
    "```\n",
    "rostopic pub -1 /robot_bridge/turtlebot_01/state uoa_poc2_msgs/r_state \"\n",
    "id: 'delivery_robot_01'\n",
    "type: 'delivery_robot'\n",
    "time: '2019-11-13T15:36:42.767+09:00'\n",
    "mode: 'navi'\n",
    "errors: ['']\n",
    "pose:\n",
    "  point: {x: -0.90, y: -5.9, z: 0.0}\n",
    "  angle: {roll: 0.0, pitch: 0.0, yaw: 1.01}\n",
    "destination:\n",
    "  point: {x: -0.94, y: -5.9, z: 0.0}\n",
    "  angle_optional:\n",
    "    valid: false\n",
    "    angle: {roll: 0.0, pitch: 0.0, yaw: 0.0}\n",
    "covariance: [0.0, 0.0, 0.0, 0.0, 0.0, 0.0, 0.0, 0.0, 0.0, 0.0, 0.0, 0.0, 0.0, 0.0,\n",
    "  0.0, 0.0, 0.0, 0.0, 0.0, 0.0, 0.0, 0.0, 0.0, 0.0, 0.0, 0.0, 0.0, 0.0, 0.0, 0.0,\n",
    "  0.0, 0.0, 0.0, 0.0, 0.0, 0.0]\n",
    "battery:\n",
    "  voltage: 0.0\n",
    "  current_optional: {valid: false, current: 0.0}\n",
    "\"\n",
    "```"
   ]
  },
  {
   "cell_type": "markdown",
   "metadata": {},
   "source": [
    "#### confirm the MQTT message to `/delivery_robot/delivery_robot_01/attrs`"
   ]
  },
  {
   "cell_type": "markdown",
   "metadata": {},
   "source": [
    "example)\n",
    "\n",
    "```\n",
    "Client mosq-c2AmKdOalbtXrD22A8 received PUBLISH (d0, q0, r0, m0, '/delivery_robot/delivery_robot_01/attrs', ... (496 bytes))\n",
    "{\"errors\": [], \"pose\": {\"angle\": {\"yaw\": 1.01, \"roll\": 0.0, \"pitch\": 0.0}, \"point\": {\"y\": -5.9, \"x\": -0.9, \"z\": 0.0}}, \"battery\": {\"current\": null, \"voltage\": 0.0}, \"destination\": {\"angle\": null, \"point\": {\"y\": -5.9, \"x\": -0.94, \"z\": 0.0}}, \"covariance\": [0.0, 0.0, 0.0, 0.0, 0.0, 0.0, 0.0, 0.0, 0.0, 0.0, 0.0, 0.0, 0.0, 0.0, 0.0, 0.0, 0.0, 0.0, 0.0, 0.0, 0.0, 0.0, 0.0, 0.0, 0.0, 0.0, 0.0, 0.0, 0.0, 0.0, 0.0, 0.0, 0.0, 0.0, 0.0, 0.0], \"mode\": \"navi\", \"time\": \"2019-11-13T15:37:55.376811+09:00\"}\n",
    "```"
   ]
  },
  {
   "cell_type": "markdown",
   "metadata": {},
   "source": [
    "### 31. emulate the stop of  `delivery_robot_01`"
   ]
  },
  {
   "cell_type": "markdown",
   "metadata": {},
   "source": [
    "#### send a ros message"
   ]
  },
  {
   "cell_type": "markdown",
   "metadata": {},
   "source": [
    "_On ROS Kinect PC_\n",
    "1. start a terminal\n",
    "1. execute below command.\n",
    "\n",
    "```\n",
    "rostopic pub -1 /robot_bridge/turtlebot_01/state uoa_poc2_msgs/r_state \"\n",
    "id: 'delivery_robot_01'\n",
    "type: 'delivery_robot'\n",
    "time: '2019-11-13T15:36:45.767+09:00'\n",
    "mode: 'standby'\n",
    "errors: ['']\n",
    "pose:\n",
    "  point: {x: 0.7, y: -7.4, z: 0.0}\n",
    "  angle: {roll: 0.0, pitch: 0.0, yaw: -0.15}\n",
    "destination:\n",
    "  point: {x: 0.7, y: -7.4, z: 0.0}\n",
    "  angle_optional:\n",
    "    valid: true\n",
    "    angle: {roll: 0.0, pitch: 0.0, yaw: -0.15}\n",
    "covariance: [0.0, 0.0, 0.0, 0.0, 0.0, 0.0, 0.0, 0.0, 0.0, 0.0, 0.0, 0.0, 0.0, 0.0,\n",
    "  0.0, 0.0, 0.0, 0.0, 0.0, 0.0, 0.0, 0.0, 0.0, 0.0, 0.0, 0.0, 0.0, 0.0, 0.0, 0.0,\n",
    "  0.0, 0.0, 0.0, 0.0, 0.0, 0.0]\n",
    "battery:\n",
    "  voltage: 0.0\n",
    "  current_optional: {valid: false, current: 0.0}\n",
    "\"\n",
    "```"
   ]
  },
  {
   "cell_type": "markdown",
   "metadata": {},
   "source": [
    "#### confirm the MQTT message to `/delivery_robot/delivery_robot_01/attrs`"
   ]
  },
  {
   "cell_type": "markdown",
   "metadata": {},
   "source": [
    "example)\n",
    "\n",
    "```\n",
    "Client mosq-c2AmKdOalbtXrD22A8 received PUBLISH (d0, q0, r0, m0, '/delivery_robot/delivery_robot_01/attrs', ... (534 bytes))\n",
    "{\"errors\": [], \"pose\": {\"angle\": {\"yaw\": -0.15, \"roll\": 0.0, \"pitch\": 0.0}, \"point\": {\"y\": -7.4, \"x\": 0.7, \"z\": 0.0}}, \"battery\": {\"current\": null, \"voltage\": 0.0}, \"destination\": {\"angle\": {\"yaw\": -0.15, \"roll\": 0.0, \"pitch\": 0.0}, \"point\": {\"y\": -7.4, \"x\": 0.7, \"z\": 0.0}}, \"covariance\": [0.0, 0.0, 0.0, 0.0, 0.0, 0.0, 0.0, 0.0, 0.0, 0.0, 0.0, 0.0, 0.0, 0.0, 0.0, 0.0, 0.0, 0.0, 0.0, 0.0, 0.0, 0.0, 0.0, 0.0, 0.0, 0.0, 0.0, 0.0, 0.0, 0.0, 0.0, 0.0, 0.0, 0.0, 0.0, 0.0], \"mode\": \"standby\", \"time\": \"2019-11-13T15:38:31.782633+09:00\"}\n",
    "```"
   ]
  },
  {
   "cell_type": "markdown",
   "metadata": {},
   "source": [
    "#### confirm that a MQTT message to `/delivery_robot/delivery_robot_01/cmd` is sent automatically"
   ]
  },
  {
   "cell_type": "markdown",
   "metadata": {},
   "source": [
    "example)\n",
    "\n",
    "```\n",
    "Client mosq-c2AmKdOalbtXrD22A8 received PUBLISH (d0, q0, r0, m0, '/delivery_robot/delivery_robot_01/cmd', ... (203 bytes))\n",
    "{\"send_cmd\":{\"time\":\"2019-11-13T15:38:31.929+09:00\",\"cmd\":\"navi\",\"waypoints\":[{\"point\":{\"x\":1.7,\"y\":-8,\"z\":0},\"angle\":null},{\"point\":{\"x\":1.71,\"y\":-9.7,\"z\":0},\"angle\":{\"roll\":0,\"pitch\":0,\"yaw\":-1.57}}]}}\n",
    "```"
   ]
  },
  {
   "cell_type": "markdown",
   "metadata": {},
   "source": [
    "#### confirm that a ros message for delivery_robot_01 ( `/robot_bridge/turtlebot_01/cmd` ) is sent automatically"
   ]
  },
  {
   "cell_type": "markdown",
   "metadata": {},
   "source": [
    "example)\n",
    "\n",
    "```yaml\n",
    "id: \"delivery_robot_01\"\n",
    "type: \"delivery_robot\"\n",
    "time: \"2019-11-13T15:38:31.929+09:00\"\n",
    "cmd: \"navi\"\n",
    "waypoints:\n",
    "  -\n",
    "    point:\n",
    "      x: 1.7\n",
    "      y: -8.0\n",
    "      z: 0.0\n",
    "    angle_optional:\n",
    "      valid: False\n",
    "      angle:\n",
    "        roll: 0.0\n",
    "        pitch: 0.0\n",
    "        yaw: 0.0\n",
    "  -\n",
    "    point:\n",
    "      x: 1.71\n",
    "      y: -9.7\n",
    "      z: 0.0\n",
    "    angle_optional:\n",
    "      valid: True\n",
    "      angle:\n",
    "        roll: 0.0\n",
    "        pitch: 0.0\n",
    "        yaw: -1.57\n",
    "---\n",
    "```"
   ]
  },
  {
   "cell_type": "markdown",
   "metadata": {},
   "source": [
    "#### confirm log messages"
   ]
  },
  {
   "cell_type": "markdown",
   "metadata": {},
   "source": [
    "example)\n",
    "\n",
    "```\n",
    "update robot state, robot_id=delivery_robot_01, current_mode=navi, next_mode=standby\n",
    "lock token (token_b) by delivery_robot_01\n",
    "move robot(delivery_robot_01) to \"place_G\" (waypoints=[{'point': {'x': 1.7, 'y': -8, 'z': 0}, 'angle': None}, {'point': {'x': 1.71, 'y': -9.7, 'z': 0}, 'angle': {'roll': 0, 'pitch': 0, 'yaw': -1.57}}]\n",
    "```"
   ]
  },
  {
   "cell_type": "markdown",
   "metadata": {},
   "source": [
    "#### confirm token entity"
   ]
  },
  {
   "cell_type": "code",
   "execution_count": null,
   "metadata": {
    "scrolled": false
   },
   "outputs": [],
   "source": [
    "TOKEN=$(cat ${CORE_ROOT}/secrets/auth-tokens.json | jq '.[0].settings.bearer_tokens[0].token' -r)\n",
    "curl -sS -H \"Authorization: bearer ${TOKEN}\" -H \"Fiware-Service: ${FIWARE_SERVICE}\" -H \"Fiware-Servicepath: ${TOKEN_SERVICEPATH}\" https://api.${DOMAIN}/orion/v2/entities/?type=${TOKEN_TYPE} | jq ."
   ]
  },
  {
   "cell_type": "markdown",
   "metadata": {},
   "source": [
    "confirm below:\n",
    "\n",
    "* `token_a` is not locked.\n",
    "* now, `token_b` has been locked by `delivery_robot_01`.\n",
    "* `token_c` is locked by `delivery_robot_02`."
   ]
  },
  {
   "cell_type": "markdown",
   "metadata": {},
   "source": [
    "### 32. emulate the move of  `delivery_robot_01`"
   ]
  },
  {
   "cell_type": "markdown",
   "metadata": {},
   "source": [
    "#### send a ros message "
   ]
  },
  {
   "cell_type": "markdown",
   "metadata": {},
   "source": [
    "_On ROS Kinect PC_\n",
    "1. start a terminal\n",
    "1. execute below command.\n",
    "\n",
    "```\n",
    "rostopic pub -1 /robot_bridge/turtlebot_01/state uoa_poc2_msgs/r_state \"\n",
    "id: 'delivery_robot_01'\n",
    "type: 'delivery_robot'\n",
    "time: '2019-11-13T15:38:31.929+09:00'\n",
    "mode: 'navi'\n",
    "errors: ['']\n",
    "pose:\n",
    "  point: {x: 1.4, y: -5.1, z: 0.0}\n",
    "  angle: {roll: 0.0, pitch: 0.0, yaw: 1.01}\n",
    "destination:\n",
    "  point: {x: 1.7, y: -8.0, z: 0.0}\n",
    "  angle_optional:\n",
    "    valid: false\n",
    "    angle: {roll: 0.0, pitch: 0.0, yaw: 0.0}\n",
    "covariance: [0.0, 0.0, 0.0, 0.0, 0.0, 0.0, 0.0, 0.0, 0.0, 0.0, 0.0, 0.0, 0.0, 0.0,\n",
    "  0.0, 0.0, 0.0, 0.0, 0.0, 0.0, 0.0, 0.0, 0.0, 0.0, 0.0, 0.0, 0.0, 0.0, 0.0, 0.0,\n",
    "  0.0, 0.0, 0.0, 0.0, 0.0, 0.0]\n",
    "battery:\n",
    "  voltage: 0.0\n",
    "  current_optional: {valid: false, current: 0.0}\n",
    "\"\n",
    "```"
   ]
  },
  {
   "cell_type": "markdown",
   "metadata": {},
   "source": [
    "#### confirm the MQTT message to `/delivery_robot/delivery_robot_01/attrs`"
   ]
  },
  {
   "cell_type": "markdown",
   "metadata": {},
   "source": [
    "example)\n",
    "\n",
    "```\n",
    "Client mosq-c2AmKdOalbtXrD22A8 received PUBLISH (d0, q0, r0, m0, '/delivery_robot/delivery_robot_01/attrs', ... (493 bytes))\n",
    "{\"errors\": [], \"pose\": {\"angle\": {\"yaw\": 1.01, \"roll\": 0.0, \"pitch\": 0.0}, \"point\": {\"y\": -5.1, \"x\": 1.4, \"z\": 0.0}}, \"battery\": {\"current\": null, \"voltage\": 0.0}, \"destination\": {\"angle\": null, \"point\": {\"y\": -8.0, \"x\": 1.7, \"z\": 0.0}}, \"covariance\": [0.0, 0.0, 0.0, 0.0, 0.0, 0.0, 0.0, 0.0, 0.0, 0.0, 0.0, 0.0, 0.0, 0.0, 0.0, 0.0, 0.0, 0.0, 0.0, 0.0, 0.0, 0.0, 0.0, 0.0, 0.0, 0.0, 0.0, 0.0, 0.0, 0.0, 0.0, 0.0, 0.0, 0.0, 0.0, 0.0], \"mode\": \"navi\", \"time\": \"2019-11-13T15:39:53.176141+09:00\"}\n",
    "```"
   ]
  },
  {
   "cell_type": "markdown",
   "metadata": {},
   "source": [
    "### 33. emulate the stop of  `delivery_robot_01`"
   ]
  },
  {
   "cell_type": "markdown",
   "metadata": {},
   "source": [
    "#### send a ros message "
   ]
  },
  {
   "cell_type": "markdown",
   "metadata": {},
   "source": [
    "_On ROS Kinect PC_\n",
    "1. start a terminal\n",
    "1. execute below command.\n",
    "\n",
    "```\n",
    "rostopic pub -1 /robot_bridge/turtlebot_01/state uoa_poc2_msgs/r_state \"\n",
    "id: 'delivery_robot_01'\n",
    "type: 'delivery_robot'\n",
    "time: '2019-11-13T15:38:35.929+09:00'\n",
    "mode: 'standby'\n",
    "errors: ['']\n",
    "pose:\n",
    "  point: {x: 1.71, y: -9.7, z: 0.0}\n",
    "  angle: {roll: 0.0, pitch: 0.0, yaw: -1.57}\n",
    "destination:\n",
    "  point: {x: 1.71, y: -9.7, z: 0.0}\n",
    "  angle_optional:\n",
    "    valid: true\n",
    "    angle: {roll: 0.0, pitch: 0.0, yaw: -1.57}\n",
    "covariance: [0.0, 0.0, 0.0, 0.0, 0.0, 0.0, 0.0, 0.0, 0.0, 0.0, 0.0, 0.0, 0.0, 0.0,\n",
    "  0.0, 0.0, 0.0, 0.0, 0.0, 0.0, 0.0, 0.0, 0.0, 0.0, 0.0, 0.0, 0.0, 0.0, 0.0, 0.0,\n",
    "  0.0, 0.0, 0.0, 0.0, 0.0, 0.0]\n",
    "battery:\n",
    "  voltage: 0.0\n",
    "  current_optional: {valid: false, current: 0.0}\n",
    "\"\n",
    "```"
   ]
  },
  {
   "cell_type": "markdown",
   "metadata": {},
   "source": [
    "#### confirm the MQTT message to `/delivery_robot/delivery_robot_01/attrs`"
   ]
  },
  {
   "cell_type": "markdown",
   "metadata": {},
   "source": [
    "example)\n",
    "\n",
    "```\n",
    "Client mosq-c2AmKdOalbtXrD22A8 received PUBLISH (d0, q0, r0, m0, '/delivery_robot/delivery_robot_01/attrs', ... (536 bytes))\n",
    "{\"errors\": [], \"pose\": {\"angle\": {\"yaw\": -1.57, \"roll\": 0.0, \"pitch\": 0.0}, \"point\": {\"y\": -9.7, \"x\": 1.71, \"z\": 0.0}}, \"battery\": {\"current\": null, \"voltage\": 0.0}, \"destination\": {\"angle\": {\"yaw\": -1.57, \"roll\": 0.0, \"pitch\": 0.0}, \"point\": {\"y\": -9.7, \"x\": 1.71, \"z\": 0.0}}, \"covariance\": [0.0, 0.0, 0.0, 0.0, 0.0, 0.0, 0.0, 0.0, 0.0, 0.0, 0.0, 0.0, 0.0, 0.0, 0.0, 0.0, 0.0, 0.0, 0.0, 0.0, 0.0, 0.0, 0.0, 0.0, 0.0, 0.0, 0.0, 0.0, 0.0, 0.0, 0.0, 0.0, 0.0, 0.0, 0.0, 0.0], \"mode\": \"standby\", \"time\": \"2019-11-13T15:40:38.174302+09:00\"}\n",
    "```"
   ]
  },
  {
   "cell_type": "markdown",
   "metadata": {},
   "source": [
    "#### confirm that a MQTT message to `/robot_ui/robotui_01/cmd` is sent automatically"
   ]
  },
  {
   "cell_type": "markdown",
   "metadata": {},
   "source": [
    "example)\n",
    "\n",
    "```\n",
    "Client mosq-c2AmKdOalbtXrD22A8 received PUBLISH (d0, q0, r0, m0, '/robot_ui/robotui_01/cmd', ... (96 bytes))\n",
    "{\"send_state\":{\"time\":\"2019-11-13T15:40:38.278+09:00\",\"state\":\"picking\",\"destination\":\"個室\"}}\n",
    "```"
   ]
  },
  {
   "cell_type": "markdown",
   "metadata": {},
   "source": [
    "#### confirm log messages"
   ]
  },
  {
   "cell_type": "markdown",
   "metadata": {},
   "source": [
    "example)\n",
    "\n",
    "```\n",
    "update robot state, robot_id=delivery_robot_01, current_mode=navi, next_mode=standby\n",
    "publish new state to robot ui(robotui_01), current_state=moving, next_state=picking, destination=個室\n",
    "```"
   ]
  },
  {
   "cell_type": "markdown",
   "metadata": {},
   "source": [
    "#### confirm token entity"
   ]
  },
  {
   "cell_type": "code",
   "execution_count": null,
   "metadata": {
    "scrolled": false
   },
   "outputs": [],
   "source": [
    "TOKEN=$(cat ${CORE_ROOT}/secrets/auth-tokens.json | jq '.[0].settings.bearer_tokens[0].token' -r)\n",
    "curl -sS -H \"Authorization: bearer ${TOKEN}\" -H \"Fiware-Service: ${FIWARE_SERVICE}\" -H \"Fiware-Servicepath: ${TOKEN_SERVICEPATH}\" https://api.${DOMAIN}/orion/v2/entities/?type=${TOKEN_TYPE} | jq ."
   ]
  },
  {
   "cell_type": "markdown",
   "metadata": {},
   "source": [
    "confirm below:\n",
    "\n",
    "* `token_a` is not locked.\n",
    "* `token_b` is locked by `delivery_robot_01`.\n",
    "* `token_c` is locked by `delivery_robot_02`."
   ]
  },
  {
   "cell_type": "markdown",
   "metadata": {},
   "source": [
    "### 34. emulate the completion of  picking operation ( `delivery_robot_01`)"
   ]
  },
  {
   "cell_type": "markdown",
   "metadata": {},
   "source": [
    "#### post a movenext data"
   ]
  },
  {
   "cell_type": "code",
   "execution_count": null,
   "metadata": {},
   "outputs": [],
   "source": [
    "TOKEN=$(cat ~/core/secrets/auth-tokens.json | jq '.[0].settings.bearer_tokens | map(select(.allowed_paths[] | contains (\"^/controller/.*$\"))) | .[0].token' -r)\n",
    "curl -i -H \"Authorization: bearer ${TOKEN}\" -H \"Content-Type: application/json\" https://api.tech-sketch.jp/controller/api/v1/robots/${DELIVERY_ROBOT_01}/nexts/ -X PATCH -d '{}'"
   ]
  },
  {
   "cell_type": "markdown",
   "metadata": {},
   "source": [
    "example)\n",
    "\n",
    "```\n",
    "HTTP/1.1 200 OK\n",
    "server: envoy\n",
    "date: Fri, 08 Nov 2019 12:02:36 GMT\n",
    "content-type: application/json\n",
    "content-length: 21\n",
    "access-control-allow-origin: *\n",
    "x-envoy-upstream-service-time: 107\n",
    "\n",
    "{\"result\":\"success\"}\n",
    "```"
   ]
  },
  {
   "cell_type": "markdown",
   "metadata": {},
   "source": [
    "#### confirm the MQTT message"
   ]
  },
  {
   "cell_type": "markdown",
   "metadata": {},
   "source": [
    "example)\n",
    "\n",
    "```\n",
    "Client mosq-c2AmKdOalbtXrD22A8 received PUBLISH (d0, q0, r0, m0, '/delivery_robot/delivery_robot_01/cmd', ... (201 bytes))\n",
    "{\"send_cmd\":{\"time\":\"2019-11-13T15:41:18.306+09:00\",\"cmd\":\"navi\",\"waypoints\":[{\"point\":{\"x\":1.7,\"y\":-8,\"z\":0},\"angle\":null},{\"point\":{\"x\":2.3,\"y\":-7.5,\"z\":0},\"angle\":{\"roll\":0,\"pitch\":0,\"yaw\":0.05}}]}}\n",
    "```"
   ]
  },
  {
   "cell_type": "markdown",
   "metadata": {},
   "source": [
    "#### confirm ros message for delivery_robot_02 ( `/robot_bridge/megarover_01/cmd` )"
   ]
  },
  {
   "cell_type": "markdown",
   "metadata": {},
   "source": [
    "example)\n",
    "\n",
    "```yaml\n",
    "id: \"delivery_robot_01\"\n",
    "type: \"delivery_robot\"\n",
    "time: \"2019-11-13T15:41:18.306+09:00\"\n",
    "cmd: \"navi\"\n",
    "waypoints:\n",
    "  -\n",
    "    point:\n",
    "      x: 1.7\n",
    "      y: -8.0\n",
    "      z: 0.0\n",
    "    angle_optional:\n",
    "      valid: False\n",
    "      angle:\n",
    "        roll: 0.0\n",
    "        pitch: 0.0\n",
    "        yaw: 0.0\n",
    "  -\n",
    "    point:\n",
    "      x: 2.3\n",
    "      y: -7.5\n",
    "      z: 0.0\n",
    "    angle_optional:\n",
    "      valid: True\n",
    "      angle:\n",
    "        roll: 0.0\n",
    "        pitch: 0.0\n",
    "        yaw: 0.05\n",
    "---\n",
    "```"
   ]
  },
  {
   "cell_type": "markdown",
   "metadata": {},
   "source": [
    "#### confirm token entity"
   ]
  },
  {
   "cell_type": "code",
   "execution_count": null,
   "metadata": {
    "scrolled": false
   },
   "outputs": [],
   "source": [
    "TOKEN=$(cat ${CORE_ROOT}/secrets/auth-tokens.json | jq '.[0].settings.bearer_tokens[0].token' -r)\n",
    "curl -sS -H \"Authorization: bearer ${TOKEN}\" -H \"Fiware-Service: ${FIWARE_SERVICE}\" -H \"Fiware-Servicepath: ${TOKEN_SERVICEPATH}\" https://api.${DOMAIN}/orion/v2/entities/?type=${TOKEN_TYPE} | jq ."
   ]
  },
  {
   "cell_type": "markdown",
   "metadata": {},
   "source": [
    "confirm below:\n",
    "\n",
    "* `token_a` is not locked.\n",
    "* `token_b` is locked by `delivery_robot_01`.\n",
    "* `token_c` is locked by `delivery_robot_02`."
   ]
  },
  {
   "cell_type": "markdown",
   "metadata": {},
   "source": [
    "### 35. notify that the command is received"
   ]
  },
  {
   "cell_type": "markdown",
   "metadata": {},
   "source": [
    "#### send a ros message"
   ]
  },
  {
   "cell_type": "markdown",
   "metadata": {},
   "source": [
    "_On ROS Kinect PC_\n",
    "1. start a terminal\n",
    "1. execute below command.\n",
    "```\n",
    "rostopic pub -1 /robot_bridge/turtlebot_01/cmdexe uoa_poc2_msgs/r_result \"\n",
    "id: 'delivery_robot_01'\n",
    "type: 'delivery_robot'\n",
    "time: '2019-11-13T15:41:18.806+09:00'\n",
    "received_time: '2019-11-13T15:41:18.306+09:00'\n",
    "received_cmd: 'navi'\n",
    "received_waypoints:\n",
    "  -\n",
    "    point:\n",
    "      x: 1.7\n",
    "      y: -8.0\n",
    "      z: 0.0\n",
    "    angle_optional:\n",
    "      valid: False\n",
    "      angle:\n",
    "        roll: 0.0\n",
    "        pitch: 0.0\n",
    "        yaw: 0.0\n",
    "  -\n",
    "    point:\n",
    "      x: 2.3\n",
    "      y: -7.5\n",
    "      z: 0.0\n",
    "    angle_optional:\n",
    "      valid: True\n",
    "      angle:\n",
    "        roll: 0.0\n",
    "        pitch: 0.0\n",
    "        yaw: 0.05\n",
    "result: 'ack'\n",
    "errors: ['']\n",
    "\"\n",
    "```"
   ]
  },
  {
   "cell_type": "markdown",
   "metadata": {},
   "source": [
    "#### confirm the MQTT message"
   ]
  },
  {
   "cell_type": "markdown",
   "metadata": {},
   "source": [
    "example)\n",
    "\n",
    "```\n",
    "Client mosq-c2AmKdOalbtXrD22A8 received PUBLISH (d0, q0, r0, m0, '/delivery_robot/delivery_robot_01/cmdexe', ... (340 bytes))\n",
    "{\"send_cmd\": {\"received_time\": \"2019-11-13T15:41:18.306+09:00\", \"errors\": [\"\"], \"received_cmd\": \"navi\", \"received_waypoints\": [{\"angle\": null, \"point\": {\"y\": -8.0, \"x\": 1.7, \"z\": 0.0}}, {\"angle\": {\"yaw\": 0.05, \"roll\": 0.0, \"pitch\": 0.0}, \"point\": {\"y\": -7.5, \"x\": 2.3, \"z\": 0.0}}], \"result\": \"ack\", \"time\": \"2019-11-13T15:41:18.806+09:00\"}}\n",
    "```"
   ]
  },
  {
   "cell_type": "markdown",
   "metadata": {},
   "source": [
    "### 36. emulate the move of  `delivery_robot_01`"
   ]
  },
  {
   "cell_type": "markdown",
   "metadata": {},
   "source": [
    "#### send a ros message "
   ]
  },
  {
   "cell_type": "markdown",
   "metadata": {},
   "source": [
    "_On ROS Kinect PC_\n",
    "1. start a terminal\n",
    "1. execute below command.\n",
    "\n",
    "```\n",
    "rostopic pub -1 /robot_bridge/turtlebot_01/state uoa_poc2_msgs/r_state \"\n",
    "id: 'delivery_robot_01'\n",
    "type: 'delivery_robot'\n",
    "time: '2019-11-13T15:41:18.906+09:00'\n",
    "mode: 'navi'\n",
    "errors: ['']\n",
    "pose:\n",
    "  point: {x: 1.4, y: -6.1, z: 0.0}\n",
    "  angle: {roll: 0.0, pitch: 0.0, yaw: 1.01}\n",
    "destination:\n",
    "  point: {x: 1.7, y: -8.0, z: 0.0}\n",
    "  angle_optional:\n",
    "    valid: false\n",
    "    angle: {roll: 0.0, pitch: 0.0, yaw: 0.0}\n",
    "covariance: [0.0, 0.0, 0.0, 0.0, 0.0, 0.0, 0.0, 0.0, 0.0, 0.0, 0.0, 0.0, 0.0, 0.0,\n",
    "  0.0, 0.0, 0.0, 0.0, 0.0, 0.0, 0.0, 0.0, 0.0, 0.0, 0.0, 0.0, 0.0, 0.0, 0.0, 0.0,\n",
    "  0.0, 0.0, 0.0, 0.0, 0.0, 0.0]\n",
    "battery:\n",
    "  voltage: 0.0\n",
    "  current_optional: {valid: false, current: 0.0}\n",
    "\"\n",
    "```"
   ]
  },
  {
   "cell_type": "markdown",
   "metadata": {},
   "source": [
    "#### confirm the MQTT message to `/delivery_robot/delivery_robot_01/attrs`"
   ]
  },
  {
   "cell_type": "markdown",
   "metadata": {},
   "source": [
    "example)\n",
    "\n",
    "```\n",
    "Client mosq-c2AmKdOalbtXrD22A8 received PUBLISH (d0, q0, r0, m0, '/delivery_robot/delivery_robot_01/attrs', ... (493 bytes))\n",
    "{\"errors\": [], \"pose\": {\"angle\": {\"yaw\": 1.01, \"roll\": 0.0, \"pitch\": 0.0}, \"point\": {\"y\": -6.1, \"x\": 1.4, \"z\": 0.0}}, \"battery\": {\"current\": null, \"voltage\": 0.0}, \"destination\": {\"angle\": null, \"point\": {\"y\": -8.0, \"x\": 1.7, \"z\": 0.0}}, \"covariance\": [0.0, 0.0, 0.0, 0.0, 0.0, 0.0, 0.0, 0.0, 0.0, 0.0, 0.0, 0.0, 0.0, 0.0, 0.0, 0.0, 0.0, 0.0, 0.0, 0.0, 0.0, 0.0, 0.0, 0.0, 0.0, 0.0, 0.0, 0.0, 0.0, 0.0, 0.0, 0.0, 0.0, 0.0, 0.0, 0.0], \"mode\": \"navi\", \"time\": \"2019-11-13T15:44:08.692050+09:00\"}\n",
    "```"
   ]
  },
  {
   "cell_type": "markdown",
   "metadata": {},
   "source": [
    "#### confirm that a MQTT message to `/robot_ui/robotui_01/cmd` is sent automatically"
   ]
  },
  {
   "cell_type": "markdown",
   "metadata": {},
   "source": [
    "example)\n",
    "\n",
    "```\n",
    "Client mosq-c2AmKdOalbtXrD22A8 received PUBLISH (d0, q0, r0, m0, '/robot_ui/robotui_01/cmd', ... (102 bytes))\n",
    "{\"send_state\":{\"time\":\"2019-11-13T15:44:08.811+09:00\",\"state\":\"moving\",\"destination\":\"会議室2中\"}}\n",
    "```"
   ]
  },
  {
   "cell_type": "markdown",
   "metadata": {},
   "source": [
    "#### confirm log messages"
   ]
  },
  {
   "cell_type": "markdown",
   "metadata": {},
   "source": [
    "example)\n",
    "\n",
    "```\n",
    "update robot state, robot_id=delivery_robot_01, current_mode=standby, next_mode=navi\n",
    "publish new state to robot ui(robotui_01), current_state=picking, next_state=moving, destination=会議室2中\n",
    "```"
   ]
  },
  {
   "cell_type": "markdown",
   "metadata": {},
   "source": [
    "#### confirm token entity"
   ]
  },
  {
   "cell_type": "code",
   "execution_count": null,
   "metadata": {
    "scrolled": false
   },
   "outputs": [],
   "source": [
    "TOKEN=$(cat ${CORE_ROOT}/secrets/auth-tokens.json | jq '.[0].settings.bearer_tokens[0].token' -r)\n",
    "curl -sS -H \"Authorization: bearer ${TOKEN}\" -H \"Fiware-Service: ${FIWARE_SERVICE}\" -H \"Fiware-Servicepath: ${TOKEN_SERVICEPATH}\" https://api.${DOMAIN}/orion/v2/entities/?type=${TOKEN_TYPE} | jq ."
   ]
  },
  {
   "cell_type": "markdown",
   "metadata": {},
   "source": [
    "confirm below:\n",
    "\n",
    "* `token_a` is not locked.\n",
    "* `token_b` is locked by `delivery_robot_01`.\n",
    "* `token_c` is locked by `delivery_robot_02`."
   ]
  },
  {
   "cell_type": "markdown",
   "metadata": {},
   "source": [
    "### 37. emulate the stop of  `delivery_robot_01`"
   ]
  },
  {
   "cell_type": "markdown",
   "metadata": {},
   "source": [
    "#### send a ros message "
   ]
  },
  {
   "cell_type": "markdown",
   "metadata": {},
   "source": [
    "_On ROS Kinect PC_\n",
    "1. start a terminal\n",
    "1. execute below command.\n",
    "\n",
    "```\n",
    "rostopic pub -1 /robot_bridge/turtlebot_01/state uoa_poc2_msgs/r_state \"\n",
    "id: 'delivery_robot_01'\n",
    "type: 'delivery_robot'\n",
    "time: '2019-11-13T15:41:19.906+09:00'\n",
    "mode: 'standby'\n",
    "errors: ['']\n",
    "pose:\n",
    "  point: {x: 2.3, y: -7.5, z: 0.0}\n",
    "  angle: {roll: 0.0, pitch: 0.0, yaw: 0.05}\n",
    "destination:\n",
    "  point: {x: 2.3, y: -7.5, z: 0.0}\n",
    "  angle_optional:\n",
    "    valid: true\n",
    "    angle: {roll: 0.0, pitch: 0.0, yaw: 0.05}\n",
    "covariance: [0.0, 0.0, 0.0, 0.0, 0.0, 0.0, 0.0, 0.0, 0.0, 0.0, 0.0, 0.0, 0.0, 0.0,\n",
    "  0.0, 0.0, 0.0, 0.0, 0.0, 0.0, 0.0, 0.0, 0.0, 0.0, 0.0, 0.0, 0.0, 0.0, 0.0, 0.0,\n",
    "  0.0, 0.0, 0.0, 0.0, 0.0, 0.0]\n",
    "battery:\n",
    "  voltage: 0.0\n",
    "  current_optional: {valid: false, current: 0.0}\n",
    "\"\n",
    "```"
   ]
  },
  {
   "cell_type": "markdown",
   "metadata": {},
   "source": [
    "#### confirm the MQTT message to `/delivery_robot/delivery_robot_01/attrs`"
   ]
  },
  {
   "cell_type": "markdown",
   "metadata": {},
   "source": [
    "example)\n",
    "\n",
    "```\n",
    "Client mosq-c2AmKdOalbtXrD22A8 received PUBLISH (d0, q0, r0, m0, '/delivery_robot/delivery_robot_01/attrs', ... (532 bytes))\n",
    "{\"errors\": [], \"pose\": {\"angle\": {\"yaw\": 0.05, \"roll\": 0.0, \"pitch\": 0.0}, \"point\": {\"y\": -7.5, \"x\": 2.3, \"z\": 0.0}}, \"battery\": {\"current\": null, \"voltage\": 0.0}, \"destination\": {\"angle\": {\"yaw\": 0.05, \"roll\": 0.0, \"pitch\": 0.0}, \"point\": {\"y\": -7.5, \"x\": 2.3, \"z\": 0.0}}, \"covariance\": [0.0, 0.0, 0.0, 0.0, 0.0, 0.0, 0.0, 0.0, 0.0, 0.0, 0.0, 0.0, 0.0, 0.0, 0.0, 0.0, 0.0, 0.0, 0.0, 0.0, 0.0, 0.0, 0.0, 0.0, 0.0, 0.0, 0.0, 0.0, 0.0, 0.0, 0.0, 0.0, 0.0, 0.0, 0.0, 0.0], \"mode\": \"standby\", \"time\": \"2019-11-13T15:45:09.832508+09:00\"}\n",
    "```"
   ]
  },
  {
   "cell_type": "markdown",
   "metadata": {},
   "source": [
    "#### confirm that a MQTT message to `/delivery_robot/delivery_robot_01/cmd` is sent automatically"
   ]
  },
  {
   "cell_type": "markdown",
   "metadata": {},
   "source": [
    "example)\n",
    "\n",
    "```\n",
    "Client mosq-c2AmKdOalbtXrD22A8 received PUBLISH (d0, q0, r0, m0, '/delivery_robot/delivery_robot_01/cmd', ... (152 bytes))\n",
    "{\"send_cmd\":{\"time\":\"2019-11-13T15:45:09.945+09:00\",\"cmd\":\"navi\",\"waypoints\":[{\"point\":{\"x\":4.9,\"y\":-7.3,\"z\":0},\"angle\":{\"roll\":0,\"pitch\":0,\"yaw\":0}}]}}\n",
    "```"
   ]
  },
  {
   "cell_type": "markdown",
   "metadata": {},
   "source": [
    "#### confirm that a ros message for delivery_robot_02 ( `/robot_bridge/megarover_01/cmd` ) is sent automatically"
   ]
  },
  {
   "cell_type": "markdown",
   "metadata": {},
   "source": [
    "example)\n",
    "\n",
    "```yaml\n",
    "id: \"delivery_robot_01\"\n",
    "type: \"delivery_robot\"\n",
    "time: \"2019-11-13T15:45:09.945+09:00\"\n",
    "cmd: \"navi\"\n",
    "waypoints:\n",
    "  -\n",
    "    point:\n",
    "      x: 4.9\n",
    "      y: -7.3\n",
    "      z: 0.0\n",
    "    angle_optional:\n",
    "      valid: True\n",
    "      angle:\n",
    "        roll: 0.0\n",
    "        pitch: 0.0\n",
    "        yaw: 0.0\n",
    "---\n",
    "```"
   ]
  },
  {
   "cell_type": "markdown",
   "metadata": {},
   "source": [
    "#### confirm log messages"
   ]
  },
  {
   "cell_type": "markdown",
   "metadata": {},
   "source": [
    "example)\n",
    "\n",
    "```\n",
    "update robot state, robot_id=delivery_robot_01, current_mode=navi, next_mode=standby\n",
    "release token (token_b) by delivery_robot_01\n",
    "move robot(delivery_robot_01) to \"place_LC\" (waypoints=[{'point': {'x': 4.9, 'y': -7.3, 'z': 0}, 'angle': {'roll': 0, 'pitch': 0, 'yaw': 0}}]\n",
    "```"
   ]
  },
  {
   "cell_type": "markdown",
   "metadata": {},
   "source": [
    "#### confirm token entity"
   ]
  },
  {
   "cell_type": "code",
   "execution_count": null,
   "metadata": {
    "scrolled": false
   },
   "outputs": [],
   "source": [
    "TOKEN=$(cat ${CORE_ROOT}/secrets/auth-tokens.json | jq '.[0].settings.bearer_tokens[0].token' -r)\n",
    "curl -sS -H \"Authorization: bearer ${TOKEN}\" -H \"Fiware-Service: ${FIWARE_SERVICE}\" -H \"Fiware-Servicepath: ${TOKEN_SERVICEPATH}\" https://api.${DOMAIN}/orion/v2/entities/?type=${TOKEN_TYPE} | jq ."
   ]
  },
  {
   "cell_type": "markdown",
   "metadata": {},
   "source": [
    "confirm below:\n",
    "\n",
    "* `token_a` is not locked.\n",
    "* `token_b` has been released.\n",
    "* `token_c` is locked by `delivery_robot_02`."
   ]
  },
  {
   "cell_type": "markdown",
   "metadata": {},
   "source": [
    "### 38. emulate the move of  `delivery_robot_01`"
   ]
  },
  {
   "cell_type": "markdown",
   "metadata": {},
   "source": [
    "#### send a ros message "
   ]
  },
  {
   "cell_type": "markdown",
   "metadata": {},
   "source": [
    "_On ROS Kinect PC_\n",
    "1. start a terminal\n",
    "1. execute below command.\n",
    "\n",
    "```\n",
    "rostopic pub -1 /robot_bridge/turtlebot_01/state uoa_poc2_msgs/r_state \"\n",
    "id: 'delivery_robot_01'\n",
    "type: 'delivery_robot'\n",
    "time: '2019-11-13T15:45:09.945+09:00'\n",
    "mode: 'navi'\n",
    "errors: ['']\n",
    "pose:\n",
    "  point: {x: 4.1, y: -7.0, z: 0.0}\n",
    "  angle: {roll: 0.0, pitch: 0.0, yaw: 0.0}\n",
    "destination:\n",
    "  point: {x: 4.9, y: -7.3, z: 0.0}\n",
    "  angle_optional:\n",
    "    valid: true\n",
    "    angle: {roll: 0.0, pitch: 0.0, yaw: 0.0}\n",
    "covariance: [0.0, 0.0, 0.0, 0.0, 0.0, 0.0, 0.0, 0.0, 0.0, 0.0, 0.0, 0.0, 0.0, 0.0,\n",
    "  0.0, 0.0, 0.0, 0.0, 0.0, 0.0, 0.0, 0.0, 0.0, 0.0, 0.0, 0.0, 0.0, 0.0, 0.0, 0.0,\n",
    "  0.0, 0.0, 0.0, 0.0, 0.0, 0.0]\n",
    "battery:\n",
    "  voltage: 0.0\n",
    "  current_optional: {valid: false, current: 0.0}\n",
    "\"\n",
    "```"
   ]
  },
  {
   "cell_type": "markdown",
   "metadata": {},
   "source": [
    "#### confirm the MQTT message to `/delivery_robot/delivery_robot_01/attrs`"
   ]
  },
  {
   "cell_type": "markdown",
   "metadata": {},
   "source": [
    "example)\n",
    "\n",
    "```\n",
    "Client mosq-c2AmKdOalbtXrD22A8 received PUBLISH (d0, q0, r0, m0, '/delivery_robot/delivery_robot_01/attrs', ... (527 bytes))\n",
    "{\"errors\": [], \"pose\": {\"angle\": {\"yaw\": 0.0, \"roll\": 0.0, \"pitch\": 0.0}, \"point\": {\"y\": -7.0, \"x\": 4.1, \"z\": 0.0}}, \"battery\": {\"current\": null, \"voltage\": 0.0}, \"destination\": {\"angle\": {\"yaw\": 0.0, \"roll\": 0.0, \"pitch\": 0.0}, \"point\": {\"y\": -7.3, \"x\": 4.9, \"z\": 0.0}}, \"covariance\": [0.0, 0.0, 0.0, 0.0, 0.0, 0.0, 0.0, 0.0, 0.0, 0.0, 0.0, 0.0, 0.0, 0.0, 0.0, 0.0, 0.0, 0.0, 0.0, 0.0, 0.0, 0.0, 0.0, 0.0, 0.0, 0.0, 0.0, 0.0, 0.0, 0.0, 0.0, 0.0, 0.0, 0.0, 0.0, 0.0], \"mode\": \"navi\", \"time\": \"2019-11-13T15:46:15.695897+09:00\"}\n",
    "```"
   ]
  },
  {
   "cell_type": "markdown",
   "metadata": {},
   "source": [
    "### 39. emulate the stop of  `delivery_robot_01`"
   ]
  },
  {
   "cell_type": "markdown",
   "metadata": {},
   "source": [
    "#### send a ros message "
   ]
  },
  {
   "cell_type": "markdown",
   "metadata": {},
   "source": [
    "_On ROS Kinect PC_\n",
    "1. start a terminal\n",
    "1. execute below command.\n",
    "\n",
    "```\n",
    "rostopic pub -1 /robot_bridge/turtlebot_01/state uoa_poc2_msgs/r_state \"\n",
    "id: 'delivery_robot_01'\n",
    "type: 'delivery_robot'\n",
    "time: '2019-11-13T15:45:10.945+09:00'\n",
    "mode: 'standby'\n",
    "errors: ['']\n",
    "pose:\n",
    "  point: {x: 4.9, y: -7.3, z: 0.0}\n",
    "  angle: {roll: 0.0, pitch: 0.0, yaw: 0.0}\n",
    "destination:\n",
    "  point: {x: 4.9, y: -7.3, z: 0.0}\n",
    "  angle_optional:\n",
    "    valid: true\n",
    "    angle: {roll: 0.0, pitch: 0.0, yaw: 0.0}\n",
    "covariance: [0.0, 0.0, 0.0, 0.0, 0.0, 0.0, 0.0, 0.0, 0.0, 0.0, 0.0, 0.0, 0.0, 0.0,\n",
    "  0.0, 0.0, 0.0, 0.0, 0.0, 0.0, 0.0, 0.0, 0.0, 0.0, 0.0, 0.0, 0.0, 0.0, 0.0, 0.0,\n",
    "  0.0, 0.0, 0.0, 0.0, 0.0, 0.0]\n",
    "battery:\n",
    "  voltage: 0.0\n",
    "  current_optional: {valid: false, current: 0.0}\n",
    "\"\n",
    "```"
   ]
  },
  {
   "cell_type": "markdown",
   "metadata": {},
   "source": [
    "#### confirm the MQTT message to `/delivery_robot/delivery_robot_01/attrs`"
   ]
  },
  {
   "cell_type": "markdown",
   "metadata": {},
   "source": [
    "example)\n",
    "\n",
    "```\n",
    "Client mosq-c2AmKdOalbtXrD22A8 received PUBLISH (d0, q0, r0, m0, '/delivery_robot/delivery_robot_01/attrs', ... (530 bytes))\n",
    "{\"errors\": [], \"pose\": {\"angle\": {\"yaw\": 0.0, \"roll\": 0.0, \"pitch\": 0.0}, \"point\": {\"y\": -7.3, \"x\": 4.9, \"z\": 0.0}}, \"battery\": {\"current\": null, \"voltage\": 0.0}, \"destination\": {\"angle\": {\"yaw\": 0.0, \"roll\": 0.0, \"pitch\": 0.0}, \"point\": {\"y\": -7.3, \"x\": 4.9, \"z\": 0.0}}, \"covariance\": [0.0, 0.0, 0.0, 0.0, 0.0, 0.0, 0.0, 0.0, 0.0, 0.0, 0.0, 0.0, 0.0, 0.0, 0.0, 0.0, 0.0, 0.0, 0.0, 0.0, 0.0, 0.0, 0.0, 0.0, 0.0, 0.0, 0.0, 0.0, 0.0, 0.0, 0.0, 0.0, 0.0, 0.0, 0.0, 0.0], \"mode\": \"standby\", \"time\": \"2019-11-13T15:46:50.352829+09:00\"}\n",
    "```"
   ]
  },
  {
   "cell_type": "markdown",
   "metadata": {},
   "source": [
    "#### confirm that a MQTT message to `/delivery_robot/delivery_robot_01/cmd` is sent automatically"
   ]
  },
  {
   "cell_type": "markdown",
   "metadata": {},
   "source": [
    "`delivery_robot_01` can not lock `token_c`, so `delivery_robot_01` has to take refuge in 'place_U'\n",
    "\n",
    "example)\n",
    "\n",
    "```\n",
    "Client mosq-c2AmKdOalbtXrD22A8 received PUBLISH (d0, q0, r0, m0, '/delivery_robot/delivery_robot_01/cmd', ... (157 bytes))\n",
    "{\"send_cmd\":{\"time\":\"2019-11-13T15:46:50.488+09:00\",\"cmd\":\"navi\",\"waypoints\":[{\"point\":{\"x\":5.8,\"y\":-7.15,\"z\":0},\"angle\":{\"roll\":0,\"pitch\":0,\"yaw\":-1.57}}]}}\n",
    "```"
   ]
  },
  {
   "cell_type": "markdown",
   "metadata": {},
   "source": [
    "#### confirm that a ros message for delivery_robot_02 ( `/robot_bridge/megarover_01/cmd` ) is sent automatically"
   ]
  },
  {
   "cell_type": "markdown",
   "metadata": {},
   "source": [
    "example)\n",
    "\n",
    "```yaml\n",
    "id: \"delivery_robot_01\"\n",
    "type: \"delivery_robot\"\n",
    "time: \"2019-11-13T15:46:50.488+09:00\"\n",
    "cmd: \"navi\"\n",
    "waypoints:\n",
    "  -\n",
    "    point:\n",
    "      x: 5.8\n",
    "      y: -7.15\n",
    "      z: 0.0\n",
    "    angle_optional:\n",
    "      valid: True\n",
    "      angle:\n",
    "        roll: 0.0\n",
    "        pitch: 0.0\n",
    "        yaw: -1.57\n",
    "---\n",
    "```"
   ]
  },
  {
   "cell_type": "markdown",
   "metadata": {},
   "source": [
    "#### confirm log messages"
   ]
  },
  {
   "cell_type": "markdown",
   "metadata": {},
   "source": [
    "example)\n",
    "\n",
    "```\n",
    "update robot state, robot_id=delivery_robot_01, current_mode=navi, next_mode=standby\n",
    "wait token (token_c) by delivery_robot_01\n",
    "take refuge a robot(delivery_robot_01) in \"place_U\"\n",
    "```"
   ]
  },
  {
   "cell_type": "markdown",
   "metadata": {},
   "source": [
    "#### confirm token entity"
   ]
  },
  {
   "cell_type": "code",
   "execution_count": null,
   "metadata": {
    "scrolled": false
   },
   "outputs": [],
   "source": [
    "TOKEN=$(cat ${CORE_ROOT}/secrets/auth-tokens.json | jq '.[0].settings.bearer_tokens[0].token' -r)\n",
    "curl -sS -H \"Authorization: bearer ${TOKEN}\" -H \"Fiware-Service: ${FIWARE_SERVICE}\" -H \"Fiware-Servicepath: ${TOKEN_SERVICEPATH}\" https://api.${DOMAIN}/orion/v2/entities/?type=${TOKEN_TYPE} | jq ."
   ]
  },
  {
   "cell_type": "markdown",
   "metadata": {},
   "source": [
    "confirm below:\n",
    "\n",
    "* `token_a` is not locked.\n",
    "* `token_b` is not locked.\n",
    "* `token_c` is still locked by `delivery_robot_02`, and `delivery_robot_01` has been waiting for this token."
   ]
  },
  {
   "cell_type": "markdown",
   "metadata": {},
   "source": [
    "### 40. emulate the completion of delivering operation ( `delivery_robot_02`)"
   ]
  },
  {
   "cell_type": "markdown",
   "metadata": {},
   "source": [
    "#### post a movenext data"
   ]
  },
  {
   "cell_type": "code",
   "execution_count": null,
   "metadata": {},
   "outputs": [],
   "source": [
    "TOKEN=$(cat ~/core/secrets/auth-tokens.json | jq '.[0].settings.bearer_tokens | map(select(.allowed_paths[] | contains (\"^/controller/.*$\"))) | .[0].token' -r)\n",
    "curl -i -H \"Authorization: bearer ${TOKEN}\" -H \"Content-Type: application/json\" https://api.tech-sketch.jp/controller/api/v1/robots/${DELIVERY_ROBOT_02}/nexts/ -X PATCH -d '{}'"
   ]
  },
  {
   "cell_type": "markdown",
   "metadata": {},
   "source": [
    "example)\n",
    "\n",
    "```\n",
    "HTTP/1.1 200 OK\n",
    "server: envoy\n",
    "date: Fri, 08 Nov 2019 12:33:51 GMT\n",
    "content-type: application/json\n",
    "content-length: 21\n",
    "access-control-allow-origin: *\n",
    "x-envoy-upstream-service-time: 121\n",
    "\n",
    "{\"result\":\"success\"}\n",
    "```"
   ]
  },
  {
   "cell_type": "markdown",
   "metadata": {},
   "source": [
    "#### confirm the MQTT message"
   ]
  },
  {
   "cell_type": "markdown",
   "metadata": {},
   "source": [
    "example)\n",
    "\n",
    "```\n",
    "Client mosq-c2AmKdOalbtXrD22A8 received PUBLISH (d0, q0, r0, m0, '/delivery_robot/delivery_robot_02/cmd', ... (294 bytes))\n",
    "{\"send_cmd\":{\"time\":\"2019-11-13T15:48:23.740+09:00\",\"cmd\":\"navi\",\"waypoints\":[{\"point\":{\"x\":10.6,\"y\":-8,\"z\":0},\"angle\":null},{\"point\":{\"x\":9.56,\"y\":-8,\"z\":0},\"angle\":null},{\"point\":{\"x\":6.06,\"y\":-8,\"z\":0},\"angle\":null},{\"point\":{\"x\":5,\"y\":-8.1,\"z\":0},\"angle\":{\"roll\":0,\"pitch\":0,\"yaw\":3.14}}]}}\n",
    "```"
   ]
  },
  {
   "cell_type": "markdown",
   "metadata": {},
   "source": [
    "#### confirm ros message for delivery_robot_02 ( `/robot_bridge/megarover_01/cmd` )"
   ]
  },
  {
   "cell_type": "markdown",
   "metadata": {},
   "source": [
    "example)\n",
    "\n",
    "```yaml\n",
    "id: \"delivery_robot_02\"\n",
    "type: \"delivery_robot\"\n",
    "time: \"2019-11-13T15:48:23.740+09:00\"\n",
    "cmd: \"navi\"\n",
    "waypoints:\n",
    "  -\n",
    "    point:\n",
    "      x: 10.6\n",
    "      y: -8.0\n",
    "      z: 0.0\n",
    "    angle_optional:\n",
    "      valid: False\n",
    "      angle:\n",
    "        roll: 0.0\n",
    "        pitch: 0.0\n",
    "        yaw: 0.0\n",
    "  -\n",
    "    point:\n",
    "      x: 9.56\n",
    "      y: -8.0\n",
    "      z: 0.0\n",
    "    angle_optional:\n",
    "      valid: False\n",
    "      angle:\n",
    "        roll: 0.0\n",
    "        pitch: 0.0\n",
    "        yaw: 0.0\n",
    "  -\n",
    "    point:\n",
    "      x: 6.06\n",
    "      y: -8.0\n",
    "      z: 0.0\n",
    "    angle_optional:\n",
    "      valid: False\n",
    "      angle:\n",
    "        roll: 0.0\n",
    "        pitch: 0.0\n",
    "        yaw: 0.0\n",
    "  -\n",
    "    point:\n",
    "      x: 5.0\n",
    "      y: -8.1\n",
    "      z: 0.0\n",
    "    angle_optional:\n",
    "      valid: True\n",
    "      angle:\n",
    "        roll: 0.0\n",
    "        pitch: 0.0\n",
    "        yaw: 3.14\n",
    "---\n",
    "```"
   ]
  },
  {
   "cell_type": "markdown",
   "metadata": {},
   "source": [
    "### 41. notify that the command is received"
   ]
  },
  {
   "cell_type": "markdown",
   "metadata": {},
   "source": [
    "#### send a ros message"
   ]
  },
  {
   "cell_type": "markdown",
   "metadata": {},
   "source": [
    "_On ROS Kinect PC_\n",
    "1. start a terminal\n",
    "1. execute below command.\n",
    "```\n",
    "rostopic pub -1 /robot_bridge/megarover_01/cmdexe uoa_poc2_msgs/r_result \"\n",
    "id: 'delivery_robot_02'\n",
    "type: 'delivery_robot'\n",
    "time: '2019-11-13T15:48:23.940+09:00'\n",
    "received_time: '2019-11-13T15:48:23.740+09:00'\n",
    "received_cmd: 'navi'\n",
    "received_waypoints:\n",
    "  -\n",
    "    point:\n",
    "      x: 10.6\n",
    "      y: -8.0\n",
    "      z: 0.0\n",
    "    angle_optional:\n",
    "      valid: False\n",
    "      angle:\n",
    "        roll: 0.0\n",
    "        pitch: 0.0\n",
    "        yaw: 0.0\n",
    "  -\n",
    "    point:\n",
    "      x: 9.56\n",
    "      y: -8.0\n",
    "      z: 0.0\n",
    "    angle_optional:\n",
    "      valid: False\n",
    "      angle:\n",
    "        roll: 0.0\n",
    "        pitch: 0.0\n",
    "        yaw: 0.0\n",
    "  -\n",
    "    point:\n",
    "      x: 6.06\n",
    "      y: -8.0\n",
    "      z: 0.0\n",
    "    angle_optional:\n",
    "      valid: False\n",
    "      angle:\n",
    "        roll: 0.0\n",
    "        pitch: 0.0\n",
    "        yaw: 0.0\n",
    "  -\n",
    "    point:\n",
    "      x: 5.0\n",
    "      y: -8.1\n",
    "      z: 0.0\n",
    "    angle_optional:\n",
    "      valid: True\n",
    "      angle:\n",
    "        roll: 0.0\n",
    "        pitch: 0.0\n",
    "        yaw: 3.14\n",
    "result: 'ack'\n",
    "errors: ['']\n",
    "\"\n",
    "```"
   ]
  },
  {
   "cell_type": "markdown",
   "metadata": {},
   "source": [
    "#### confirm the MQTT message"
   ]
  },
  {
   "cell_type": "markdown",
   "metadata": {},
   "source": [
    "example)\n",
    "\n",
    "```\n",
    "Client mosq-c2AmKdOalbtXrD22A8 received PUBLISH (d0, q0, r0, m0, '/delivery_robot/delivery_robot_02/cmdexe', ... (461 bytes))\n",
    "{\"send_cmd\": {\"received_time\": \"2019-11-13T15:48:23.740+09:00\", \"errors\": [\"\"], \"received_cmd\": \"navi\", \"received_waypoints\": [{\"angle\": null, \"point\": {\"y\": -8.0, \"x\": 10.6, \"z\": 0.0}}, {\"angle\": null, \"point\": {\"y\": -8.0, \"x\": 9.56, \"z\": 0.0}}, {\"angle\": null, \"point\": {\"y\": -8.0, \"x\": 6.06, \"z\": 0.0}}, {\"angle\": {\"yaw\": 3.14, \"roll\": 0.0, \"pitch\": 0.0}, \"point\": {\"y\": -8.1, \"x\": 5.0, \"z\": 0.0}}], \"result\": \"ack\", \"time\": \"2019-11-13T15:48:23.940+09:00\"}}\n",
    "```"
   ]
  },
  {
   "cell_type": "markdown",
   "metadata": {},
   "source": [
    "### 42. emulate the move of  `delivery_robot_02`"
   ]
  },
  {
   "cell_type": "markdown",
   "metadata": {},
   "source": [
    "#### send a ros message "
   ]
  },
  {
   "cell_type": "markdown",
   "metadata": {},
   "source": [
    "_On ROS Kinect PC_\n",
    "1. start a terminal\n",
    "1. execute below command.\n",
    "\n",
    "```\n",
    "rostopic pub -1 /robot_bridge/megarover_01/state uoa_poc2_msgs/r_state \"\n",
    "id: 'delivery_robot_02'\n",
    "type: 'delivery_robot'\n",
    "time: '2019-11-13T15:48:23.940+09:00'\n",
    "mode: 'navi'\n",
    "errors: ['']\n",
    "pose:\n",
    "  point: {x: 10.1, y: -7.1, z: 0.0}\n",
    "  angle: {roll: 0.0, pitch: 0.0, yaw: 1.5}\n",
    "destination:\n",
    "  point: {x: 10.6, y: -8.0, z: 0.0}\n",
    "  angle_optional:\n",
    "    valid: false\n",
    "    angle: {roll: 0.0, pitch: 0.0, yaw: 0.0}\n",
    "covariance: [0.0, 0.0, 0.0, 0.0, 0.0, 0.0, 0.0, 0.0, 0.0, 0.0, 0.0, 0.0, 0.0, 0.0,\n",
    "  0.0, 0.0, 0.0, 0.0, 0.0, 0.0, 0.0, 0.0, 0.0, 0.0, 0.0, 0.0, 0.0, 0.0, 0.0, 0.0,\n",
    "  0.0, 0.0, 0.0, 0.0, 0.0, 0.0]\n",
    "battery:\n",
    "  voltage: 0.0\n",
    "  current_optional: {valid: false, current: 0.0}\n",
    "\"\n",
    "```"
   ]
  },
  {
   "cell_type": "markdown",
   "metadata": {},
   "source": [
    "#### confirm the MQTT message to `/delivery_robot/delivery_robot_02/attrs`"
   ]
  },
  {
   "cell_type": "markdown",
   "metadata": {},
   "source": [
    "example)\n",
    "\n",
    "```\n",
    "Client mosq-c2AmKdOalbtXrD22A8 received PUBLISH (d0, q0, r0, m0, '/delivery_robot/delivery_robot_02/attrs', ... (494 bytes))\n",
    "{\"errors\": [], \"pose\": {\"angle\": {\"yaw\": 1.5, \"roll\": 0.0, \"pitch\": 0.0}, \"point\": {\"y\": -7.1, \"x\": 10.1, \"z\": 0.0}}, \"battery\": {\"current\": null, \"voltage\": 0.0}, \"destination\": {\"angle\": null, \"point\": {\"y\": -8.0, \"x\": 10.6, \"z\": 0.0}}, \"covariance\": [0.0, 0.0, 0.0, 0.0, 0.0, 0.0, 0.0, 0.0, 0.0, 0.0, 0.0, 0.0, 0.0, 0.0, 0.0, 0.0, 0.0, 0.0, 0.0, 0.0, 0.0, 0.0, 0.0, 0.0, 0.0, 0.0, 0.0, 0.0, 0.0, 0.0, 0.0, 0.0, 0.0, 0.0, 0.0, 0.0], \"mode\": \"navi\", \"time\": \"2019-11-13T15:50:22.524161+09:00\"}\n",
    "```"
   ]
  },
  {
   "cell_type": "markdown",
   "metadata": {},
   "source": [
    "#### confirm that a MQTT message to `/robot_ui/robotui_02/cmd` is sent automatically"
   ]
  },
  {
   "cell_type": "markdown",
   "metadata": {},
   "source": [
    "example)\n",
    "\n",
    "```\n",
    "Client mosq-c2AmKdOalbtXrD22A8 received PUBLISH (d0, q0, r0, m0, '/robot_ui/robotui_02/cmd', ... (104 bytes))\n",
    "{\"send_state\":{\"time\":\"2019-11-13T15:50:22.669+09:00\",\"state\":\"moving\",\"destination\":\"待機場所２\"}}\n",
    "```"
   ]
  },
  {
   "cell_type": "markdown",
   "metadata": {},
   "source": [
    "#### confirm log messages"
   ]
  },
  {
   "cell_type": "markdown",
   "metadata": {},
   "source": [
    "example)\n",
    "\n",
    "```\n",
    "update robot state, robot_id=delivery_robot_02, current_mode=standby, next_mode=navi\n",
    "publish new state to robot ui(robotui_02), current_state=delivering, next_state=moving, destination=待機場所２\n",
    "```"
   ]
  },
  {
   "cell_type": "markdown",
   "metadata": {},
   "source": [
    "### 43. emulate the stop of  `delivery_robot_02`"
   ]
  },
  {
   "cell_type": "markdown",
   "metadata": {},
   "source": [
    "#### send a ros message "
   ]
  },
  {
   "cell_type": "markdown",
   "metadata": {},
   "source": [
    "_On ROS Kinect PC_\n",
    "1. start a terminal\n",
    "1. execute below command.\n",
    "\n",
    "```\n",
    "rostopic pub -1 /robot_bridge/megarover_01/state uoa_poc2_msgs/r_state \"\n",
    "id: 'delivery_robot_02'\n",
    "type: 'delivery_robot'\n",
    "time: '2019-11-13T15:48:25.940+09:00'\n",
    "mode: 'standby'\n",
    "errors: ['']\n",
    "pose:\n",
    "  point: {x: 5.0, y: -8.1, z: 0.0}\n",
    "  angle: {roll: 0.0, pitch: 0.0, yaw: 3.14}\n",
    "destination:\n",
    "  point: {x: 5.0, y: -8.1, z: 0.0}\n",
    "  angle_optional:\n",
    "    valid: true\n",
    "    angle: {roll: 0.0, pitch: 0.0, yaw: 3.14}\n",
    "covariance: [0.0, 0.0, 0.0, 0.0, 0.0, 0.0, 0.0, 0.0, 0.0, 0.0, 0.0, 0.0, 0.0, 0.0,\n",
    "  0.0, 0.0, 0.0, 0.0, 0.0, 0.0, 0.0, 0.0, 0.0, 0.0, 0.0, 0.0, 0.0, 0.0, 0.0, 0.0,\n",
    "  0.0, 0.0, 0.0, 0.0, 0.0, 0.0]\n",
    "battery:\n",
    "  voltage: 0.0\n",
    "  current_optional: {valid: false, current: 0.0}\n",
    "\"\n",
    "```"
   ]
  },
  {
   "cell_type": "markdown",
   "metadata": {},
   "source": [
    "#### confirm the MQTT message to `/delivery_robot/delivery_robot_02/attrs`"
   ]
  },
  {
   "cell_type": "markdown",
   "metadata": {},
   "source": [
    "example)\n",
    "\n",
    "```\n",
    "Client mosq-c2AmKdOalbtXrD22A8 received PUBLISH (d0, q0, r0, m0, '/delivery_robot/delivery_robot_02/attrs', ... (532 bytes))\n",
    "{\"errors\": [], \"pose\": {\"angle\": {\"yaw\": 3.14, \"roll\": 0.0, \"pitch\": 0.0}, \"point\": {\"y\": -8.1, \"x\": 5.0, \"z\": 0.0}}, \"battery\": {\"current\": null, \"voltage\": 0.0}, \"destination\": {\"angle\": {\"yaw\": 3.14, \"roll\": 0.0, \"pitch\": 0.0}, \"point\": {\"y\": -8.1, \"x\": 5.0, \"z\": 0.0}}, \"covariance\": [0.0, 0.0, 0.0, 0.0, 0.0, 0.0, 0.0, 0.0, 0.0, 0.0, 0.0, 0.0, 0.0, 0.0, 0.0, 0.0, 0.0, 0.0, 0.0, 0.0, 0.0, 0.0, 0.0, 0.0, 0.0, 0.0, 0.0, 0.0, 0.0, 0.0, 0.0, 0.0, 0.0, 0.0, 0.0, 0.0], \"mode\": \"standby\", \"time\": \"2019-11-13T15:51:44.733619+09:00\"}\n",
    "```"
   ]
  },
  {
   "cell_type": "markdown",
   "metadata": {},
   "source": [
    "#### confirm that a MQTT message to `/delivery_robot/delivery_robot_02/cmd` is sent automatically"
   ]
  },
  {
   "cell_type": "markdown",
   "metadata": {},
   "source": [
    "example)\n",
    "\n",
    "```\n",
    "Client mosq-c2AmKdOalbtXrD22A8 received PUBLISH (d0, q0, r0, m0, '/delivery_robot/delivery_robot_02/cmd', ... (304 bytes))\n",
    "{\"send_cmd\":{\"time\":\"2019-11-13T15:51:44.857+09:00\",\"cmd\":\"navi\",\"waypoints\":[{\"point\":{\"x\":0.2,\"y\":-8.1,\"z\":0},\"angle\":null},{\"point\":{\"x\":-1.66,\"y\":-6.68,\"z\":0},\"angle\":null},{\"point\":{\"x\":-1.5,\"y\":-2.5,\"z\":0},\"angle\":null},{\"point\":{\"x\":-1.5,\"y\":1.5,\"z\":0},\"angle\":{\"roll\":0,\"pitch\":0,\"yaw\":-1.57}}]}}\n",
    "```"
   ]
  },
  {
   "cell_type": "markdown",
   "metadata": {},
   "source": [
    "#### confirm that a ros message for delivery_robot_02 ( `/robot_bridge/megarover_01/cmd` ) is sent automatically"
   ]
  },
  {
   "cell_type": "markdown",
   "metadata": {},
   "source": [
    "example)\n",
    "\n",
    "```yaml\n",
    "id: \"delivery_robot_02\"\n",
    "type: \"delivery_robot\"\n",
    "time: \"2019-11-13T15:51:44.857+09:00\"\n",
    "cmd: \"navi\"\n",
    "waypoints:\n",
    "  -\n",
    "    point:\n",
    "      x: 0.2\n",
    "      y: -8.1\n",
    "      z: 0.0\n",
    "    angle_optional:\n",
    "      valid: False\n",
    "      angle:\n",
    "        roll: 0.0\n",
    "        pitch: 0.0\n",
    "        yaw: 0.0\n",
    "  -\n",
    "    point:\n",
    "      x: -1.66\n",
    "      y: -6.68\n",
    "      z: 0.0\n",
    "    angle_optional:\n",
    "      valid: False\n",
    "      angle:\n",
    "        roll: 0.0\n",
    "        pitch: 0.0\n",
    "        yaw: 0.0\n",
    "  -\n",
    "    point:\n",
    "      x: -1.5\n",
    "      y: -2.5\n",
    "      z: 0.0\n",
    "    angle_optional:\n",
    "      valid: False\n",
    "      angle:\n",
    "        roll: 0.0\n",
    "        pitch: 0.0\n",
    "        yaw: 0.0\n",
    "  -\n",
    "    point:\n",
    "      x: -1.5\n",
    "      y: 1.5\n",
    "      z: 0.0\n",
    "    angle_optional:\n",
    "      valid: True\n",
    "      angle:\n",
    "        roll: 0.0\n",
    "        pitch: 0.0\n",
    "        yaw: -1.57\n",
    "---\n",
    "```"
   ]
  },
  {
   "cell_type": "markdown",
   "metadata": {},
   "source": [
    "#### confirm that a MQTT message to `/delivery_robot/delivery_robot_01/cmd` is sent automatically"
   ]
  },
  {
   "cell_type": "markdown",
   "metadata": {},
   "source": [
    "example)\n",
    "\n",
    "```\n",
    "Client mosq-c2AmKdOalbtXrD22A8 received PUBLISH (d0, q0, r0, m0, '/delivery_robot/delivery_robot_01/cmd', ... (251 bytes))\n",
    "{\"send_cmd\":{\"time\":\"2019-11-13T15:51:44.958+09:00\",\"cmd\":\"navi\",\"waypoints\":[{\"point\":{\"x\":6.06,\"y\":-8,\"z\":0},\"angle\":null},{\"point\":{\"x\":9.56,\"y\":-8,\"z\":0},\"angle\":null},{\"point\":{\"x\":9.43,\"y\":-9.1,\"z\":0},\"angle\":{\"roll\":0,\"pitch\":0,\"yaw\":-1.57}}]}}\n",
    "```"
   ]
  },
  {
   "cell_type": "markdown",
   "metadata": {},
   "source": [
    "#### confirm that a ros message for `delivery_robot_01` ( `/robot_bridge/turtlebot_01/cmd` ) is sent automatically"
   ]
  },
  {
   "cell_type": "markdown",
   "metadata": {},
   "source": [
    "example)\n",
    "\n",
    "```yaml\n",
    "id: \"delivery_robot_01\"\n",
    "type: \"delivery_robot\"\n",
    "time: \"2019-11-13T15:51:44.958+09:00\"\n",
    "cmd: \"navi\"\n",
    "waypoints:\n",
    "  -\n",
    "    point:\n",
    "      x: 6.06\n",
    "      y: -8.0\n",
    "      z: 0.0\n",
    "    angle_optional:\n",
    "      valid: False\n",
    "      angle:\n",
    "        roll: 0.0\n",
    "        pitch: 0.0\n",
    "        yaw: 0.0\n",
    "  -\n",
    "    point:\n",
    "      x: 9.56\n",
    "      y: -8.0\n",
    "      z: 0.0\n",
    "    angle_optional:\n",
    "      valid: False\n",
    "      angle:\n",
    "        roll: 0.0\n",
    "        pitch: 0.0\n",
    "        yaw: 0.0\n",
    "  -\n",
    "    point:\n",
    "      x: 9.43\n",
    "      y: -9.1\n",
    "      z: 0.0\n",
    "    angle_optional:\n",
    "      valid: True\n",
    "      angle:\n",
    "        roll: 0.0\n",
    "        pitch: 0.0\n",
    "        yaw: -1.57\n",
    "---\n",
    "```"
   ]
  },
  {
   "cell_type": "markdown",
   "metadata": {},
   "source": [
    "#### confirm log messages"
   ]
  },
  {
   "cell_type": "markdown",
   "metadata": {},
   "source": [
    "`delivery_robot_02` released `token_c`, so `delivery_robot_01` which is wating this token can lock it and can move into restlicted area.\n",
    "\n",
    "example)\n",
    "\n",
    "```\n",
    "update robot state, robot_id=delivery_robot_02, current_mode=navi, next_mode=standby\n",
    "switch token (token_c) from delivery_robot_02 to delivery_robot_01\n",
    "move robot(delivery_robot_02) to \"place_V\" (waypoints=[{'point': {'x': 0.2, 'y': -8.1, 'z': 0}, 'angle': None}, {'point': {'x': -1.66, 'y': -6.68, 'z': 0}, 'angle': None}, {'point': {'x': -1.5, 'y': -2.5, 'z': 0}, 'angle': None}, {'point': {'x': -1.5, 'y': 1.5, 'z': 0}, 'angle': {'roll': 0, 'pitch': 0, 'yaw': -1.57}}]\n",
    "move robot(delivery_robot_01) to \"place_Idash\" (waypoints=[{'point': {'x': 6.06, 'y': -8, 'z': 0}, 'angle': None}, {'point': {'x': 9.56, 'y': -8, 'z': 0}, 'angle': None}, {'point': {'x': 9.43, 'y': -9.1, 'z': 0}, 'angle': {'roll': 0, 'pitch': 0, 'yaw': -1.57}}]\n",
    "```"
   ]
  },
  {
   "cell_type": "markdown",
   "metadata": {},
   "source": [
    "#### confirm token entity"
   ]
  },
  {
   "cell_type": "code",
   "execution_count": null,
   "metadata": {
    "scrolled": false
   },
   "outputs": [],
   "source": [
    "TOKEN=$(cat ${CORE_ROOT}/secrets/auth-tokens.json | jq '.[0].settings.bearer_tokens[0].token' -r)\n",
    "curl -sS -H \"Authorization: bearer ${TOKEN}\" -H \"Fiware-Service: ${FIWARE_SERVICE}\" -H \"Fiware-Servicepath: ${TOKEN_SERVICEPATH}\" https://api.${DOMAIN}/orion/v2/entities/?type=${TOKEN_TYPE} | jq ."
   ]
  },
  {
   "cell_type": "markdown",
   "metadata": {},
   "source": [
    "confirm below:\n",
    "\n",
    "* `token_a` and `token_b` is not locked.\n",
    "* `token_c` is still locked, but its owner is switched from `delivery_robot_02` to `delivery_robot_01`, and `delivery_robot_01` is no longer waiting for this token."
   ]
  },
  {
   "cell_type": "markdown",
   "metadata": {},
   "source": [
    "### 44. emulate the move of  `delivery_robot_02`"
   ]
  },
  {
   "cell_type": "markdown",
   "metadata": {},
   "source": [
    "#### send a ros message "
   ]
  },
  {
   "cell_type": "markdown",
   "metadata": {},
   "source": [
    "_On ROS Kinect PC_\n",
    "1. start a terminal\n",
    "1. execute below command.\n",
    "\n",
    "```\n",
    "rostopic pub -1 /robot_bridge/megarover_01/state uoa_poc2_msgs/r_state \"\n",
    "id: 'delivery_robot_02'\n",
    "type: 'delivery_robot'\n",
    "time: '2019-11-13T15:51:45.158+09:00'\n",
    "mode: 'navi'\n",
    "errors: ['']\n",
    "pose:\n",
    "  point: {x: 0.1, y: -8.0, z: 0.0}\n",
    "  angle: {roll: 0.0, pitch: 0.0, yaw: 0.0}\n",
    "destination:\n",
    "  point: {x: 0.2, y: -8.1, z: 0.0}\n",
    "  angle_optional:\n",
    "    valid: false\n",
    "    angle: {roll: 0.0, pitch: 0.0, yaw: 0.0}\n",
    "covariance: [0.0, 0.0, 0.0, 0.0, 0.0, 0.0, 0.0, 0.0, 0.0, 0.0, 0.0, 0.0, 0.0, 0.0,\n",
    "  0.0, 0.0, 0.0, 0.0, 0.0, 0.0, 0.0, 0.0, 0.0, 0.0, 0.0, 0.0, 0.0, 0.0, 0.0, 0.0,\n",
    "  0.0, 0.0, 0.0, 0.0, 0.0, 0.0]\n",
    "battery:\n",
    "  voltage: 0.0\n",
    "  current_optional: {valid: false, current: 0.0}\n",
    "\"\n",
    "```"
   ]
  },
  {
   "cell_type": "markdown",
   "metadata": {},
   "source": [
    "#### confirm the MQTT message to `/delivery_robot/delivery_robot_02/attrs`"
   ]
  },
  {
   "cell_type": "markdown",
   "metadata": {},
   "source": [
    "example)\n",
    "\n",
    "```\n",
    "Client mosq-4dtDNEK5UkZMsApX4q received PUBLISH (d0, q0, r0, m0, '/delivery_robot/delivery_robot_02/attrs', ... (492 bytes))\n",
    "{\"errors\": [], \"pose\": {\"angle\": {\"yaw\": 0.0, \"roll\": 0.0, \"pitch\": 0.0}, \"point\": {\"y\": -8.0, \"x\": 0.1, \"z\": 0.0}}, \"battery\": {\"current\": null, \"voltage\": 0.0}, \"destination\": {\"angle\": null, \"point\": {\"y\": -8.1, \"x\": 0.2, \"z\": 0.0}}, \"covariance\": [0.0, 0.0, 0.0, 0.0, 0.0, 0.0, 0.0, 0.0, 0.0, 0.0, 0.0, 0.0, 0.0, 0.0, 0.0, 0.0, 0.0, 0.0, 0.0, 0.0, 0.0, 0.0, 0.0, 0.0, 0.0, 0.0, 0.0, 0.0, 0.0, 0.0, 0.0, 0.0, 0.0, 0.0, 0.0, 0.0], \"mode\": \"navi\", \"time\": \"2019-11-13T15:55:07.528402+09:00\"}\n",
    "```"
   ]
  },
  {
   "cell_type": "markdown",
   "metadata": {},
   "source": [
    "### 45. emulate the stop of  `delivery_robot_02`"
   ]
  },
  {
   "cell_type": "markdown",
   "metadata": {},
   "source": [
    "#### send a ros message"
   ]
  },
  {
   "cell_type": "markdown",
   "metadata": {},
   "source": [
    "_On ROS Kinect PC_\n",
    "1. start a terminal\n",
    "1. execute below command.\n",
    "\n",
    "```\n",
    "rostopic pub -1 /robot_bridge/megarover_01/state uoa_poc2_msgs/r_state \"\n",
    "id: 'delivery_robot_02'\n",
    "type: 'delivery_robot'\n",
    "time: '2019-11-13T15:51:48.158+09:00'\n",
    "mode: 'standby'\n",
    "errors: ['']\n",
    "pose:\n",
    "  point: {x: -1.5, y: 1.5, z: 0.0}\n",
    "  angle: {roll: 0.0, pitch: 0.0, yaw: -1.57}\n",
    "destination:\n",
    "  point: {x: -1.5, y: 1.5, z: 0.0}\n",
    "  angle_optional:\n",
    "    valid: true\n",
    "    angle: {roll: 0.0, pitch: 0.0, yaw: -1.57}\n",
    "covariance: [0.0, 0.0, 0.0, 0.0, 0.0, 0.0, 0.0, 0.0, 0.0, 0.0, 0.0, 0.0, 0.0, 0.0,\n",
    "  0.0, 0.0, 0.0, 0.0, 0.0, 0.0, 0.0, 0.0, 0.0, 0.0, 0.0, 0.0, 0.0, 0.0, 0.0, 0.0,\n",
    "  0.0, 0.0, 0.0, 0.0, 0.0, 0.0]\n",
    "battery:\n",
    "  voltage: 0.0\n",
    "  current_optional: {valid: false, current: 0.0}\n",
    "\"\n",
    "```"
   ]
  },
  {
   "cell_type": "markdown",
   "metadata": {},
   "source": [
    "#### confirm the MQTT message to `/delivery_robot/delivery_robot_02/attrs`"
   ]
  },
  {
   "cell_type": "markdown",
   "metadata": {},
   "source": [
    "example)\n",
    "\n",
    "```\n",
    "Client mosq-4dtDNEK5UkZMsApX4q received PUBLISH (d0, q0, r0, m0, '/delivery_robot/delivery_robot_02/attrs', ... (534 bytes))\n",
    "{\"errors\": [], \"pose\": {\"angle\": {\"yaw\": -1.57, \"roll\": 0.0, \"pitch\": 0.0}, \"point\": {\"y\": 1.5, \"x\": -1.5, \"z\": 0.0}}, \"battery\": {\"current\": null, \"voltage\": 0.0}, \"destination\": {\"angle\": {\"yaw\": -1.57, \"roll\": 0.0, \"pitch\": 0.0}, \"point\": {\"y\": 1.5, \"x\": -1.5, \"z\": 0.0}}, \"covariance\": [0.0, 0.0, 0.0, 0.0, 0.0, 0.0, 0.0, 0.0, 0.0, 0.0, 0.0, 0.0, 0.0, 0.0, 0.0, 0.0, 0.0, 0.0, 0.0, 0.0, 0.0, 0.0, 0.0, 0.0, 0.0, 0.0, 0.0, 0.0, 0.0, 0.0, 0.0, 0.0, 0.0, 0.0, 0.0, 0.0], \"mode\": \"standby\", \"time\": \"2019-11-13T15:55:49.337512+09:00\"}\n",
    "```"
   ]
  },
  {
   "cell_type": "markdown",
   "metadata": {},
   "source": [
    "#### confirm that a MQTT message to `/robot_ui/robotui_02/cmd` is sent automatically"
   ]
  },
  {
   "cell_type": "markdown",
   "metadata": {},
   "source": [
    "example)\n",
    "\n",
    "```\n",
    "Client mosq-4dtDNEK5UkZMsApX4q received PUBLISH (d0, q0, r0, m0, '/robot_ui/robotui_02/cmd', ... (105 bytes))\n",
    "{\"send_state\":{\"time\":\"2019-11-13T15:55:49.470+09:00\",\"state\":\"standby\",\"destination\":\"待機場所２\"}}\n",
    "```"
   ]
  },
  {
   "cell_type": "markdown",
   "metadata": {},
   "source": [
    "#### confirm log messages"
   ]
  },
  {
   "cell_type": "markdown",
   "metadata": {},
   "source": [
    "example)\n",
    "\n",
    "```\n",
    "update robot state, robot_id=delivery_robot_02, current_mode=navi, next_mode=standby\n",
    "publish new state to robot ui(robotui_02), current_state=moving, next_state=standby, destination=待機場所２\n",
    "```"
   ]
  },
  {
   "cell_type": "markdown",
   "metadata": {},
   "source": [
    "#### confirm the `delivery_robot_02` entity"
   ]
  },
  {
   "cell_type": "code",
   "execution_count": null,
   "metadata": {
    "scrolled": false
   },
   "outputs": [],
   "source": [
    "TOKEN=$(cat ${CORE_ROOT}/secrets/auth-tokens.json | jq '.[0].settings.bearer_tokens[0].token' -r)\n",
    "curl -sS -H \"Authorization: bearer ${TOKEN}\" -H \"Fiware-Service: ${FIWARE_SERVICE}\" -H \"Fiware-Servicepath: ${DELIVERY_ROBOT_SERVICEPATH}\" \"https://api.${DOMAIN}/orion/v2/entities/${DELIVERY_ROBOT_02}?type=${DELIVERY_ROBOT_TYPE}&attrs=remaining_waypoints_list\" | jq ."
   ]
  },
  {
   "cell_type": "markdown",
   "metadata": {},
   "source": [
    "confirm below:\n",
    "\n",
    "* `remaining_waypoints_list` is empty list"
   ]
  },
  {
   "cell_type": "markdown",
   "metadata": {},
   "source": [
    "### 46. emulate the move of  `delivery_robot_01`"
   ]
  },
  {
   "cell_type": "markdown",
   "metadata": {},
   "source": [
    "#### send a ros message "
   ]
  },
  {
   "cell_type": "markdown",
   "metadata": {},
   "source": [
    "_On ROS Kinect PC_\n",
    "1. start a terminal\n",
    "1. execute below command.\n",
    "\n",
    "```\n",
    "rostopic pub -1 /robot_bridge/turtlebot_01/state uoa_poc2_msgs/r_state \"\n",
    "id: 'delivery_robot_01'\n",
    "type: 'delivery_robot'\n",
    "time: '2019-11-13T15:51:48.158+09:00'\n",
    "mode: 'navi'\n",
    "errors: ['']\n",
    "pose:\n",
    "  point: {x: 6.06, y: -8.0, z: 0.0}\n",
    "  angle: {roll: 0.0, pitch: 0.0, yaw: 1.01}\n",
    "destination:\n",
    "  point: {x: 6.06, y: -8.0, z: 0.0}\n",
    "  angle_optional:\n",
    "    valid: false\n",
    "    angle: {roll: 0.0, pitch: 0.0, yaw: 0.0}\n",
    "covariance: [0.0, 0.0, 0.0, 0.0, 0.0, 0.0, 0.0, 0.0, 0.0, 0.0, 0.0, 0.0, 0.0, 0.0,\n",
    "  0.0, 0.0, 0.0, 0.0, 0.0, 0.0, 0.0, 0.0, 0.0, 0.0, 0.0, 0.0, 0.0, 0.0, 0.0, 0.0,\n",
    "  0.0, 0.0, 0.0, 0.0, 0.0, 0.0]\n",
    "battery:\n",
    "  voltage: 0.0\n",
    "  current_optional: {valid: false, current: 0.0}\n",
    "\"\n",
    "```"
   ]
  },
  {
   "cell_type": "markdown",
   "metadata": {},
   "source": [
    "#### confirm the MQTT message to `/delivery_robot/delivery_robot_01/attrs`"
   ]
  },
  {
   "cell_type": "markdown",
   "metadata": {},
   "source": [
    "example)\n",
    "\n",
    "```\n",
    "Client mosq-4dtDNEK5UkZMsApX4q received PUBLISH (d0, q0, r0, m0, '/delivery_robot/delivery_robot_01/attrs', ... (495 bytes))\n",
    "{\"errors\": [], \"pose\": {\"angle\": {\"yaw\": 1.01, \"roll\": 0.0, \"pitch\": 0.0}, \"point\": {\"y\": -8.0, \"x\": 6.06, \"z\": 0.0}}, \"battery\": {\"current\": null, \"voltage\": 0.0}, \"destination\": {\"angle\": null, \"point\": {\"y\": -8.0, \"x\": 6.06, \"z\": 0.0}}, \"covariance\": [0.0, 0.0, 0.0, 0.0, 0.0, 0.0, 0.0, 0.0, 0.0, 0.0, 0.0, 0.0, 0.0, 0.0, 0.0, 0.0, 0.0, 0.0, 0.0, 0.0, 0.0, 0.0, 0.0, 0.0, 0.0, 0.0, 0.0, 0.0, 0.0, 0.0, 0.0, 0.0, 0.0, 0.0, 0.0, 0.0], \"mode\": \"navi\", \"time\": \"2019-11-13T15:57:03.438424+09:00\"}\n",
    "```"
   ]
  },
  {
   "cell_type": "markdown",
   "metadata": {},
   "source": [
    "### 47. emulate the stop of  `delivery_robot_01`"
   ]
  },
  {
   "cell_type": "markdown",
   "metadata": {},
   "source": [
    "#### send a ros message "
   ]
  },
  {
   "cell_type": "markdown",
   "metadata": {},
   "source": [
    "_On ROS Kinect PC_\n",
    "1. start a terminal\n",
    "1. execute below command.\n",
    "\n",
    "```\n",
    "rostopic pub -1 /robot_bridge/turtlebot_01/state uoa_poc2_msgs/r_state \"\n",
    "id: 'delivery_robot_01'\n",
    "type: 'delivery_robot'\n",
    "time: '2019-11-13T15:51:49.458+09:00'\n",
    "mode: 'standby'\n",
    "errors: ['']\n",
    "pose:\n",
    "  point: {x: 9.43, y: -9.1, z: 0.0}\n",
    "  angle: {roll: 0.0, pitch: 0.0, yaw: -1.57}\n",
    "destination:\n",
    "  point: {x: 9.43, y: -9.1, z: 0.0}\n",
    "  angle_optional:\n",
    "    valid: true\n",
    "    angle: {roll: 0.0, pitch: 0.0, yaw: -1.57}\n",
    "covariance: [0.0, 0.0, 0.0, 0.0, 0.0, 0.0, 0.0, 0.0, 0.0, 0.0, 0.0, 0.0, 0.0, 0.0,\n",
    "  0.0, 0.0, 0.0, 0.0, 0.0, 0.0, 0.0, 0.0, 0.0, 0.0, 0.0, 0.0, 0.0, 0.0, 0.0, 0.0,\n",
    "  0.0, 0.0, 0.0, 0.0, 0.0, 0.0]\n",
    "battery:\n",
    "  voltage: 0.0\n",
    "  current_optional: {valid: false, current: 0.0}\n",
    "\"\n",
    "```"
   ]
  },
  {
   "cell_type": "markdown",
   "metadata": {},
   "source": [
    "#### confirm the MQTT message to `/delivery_robot/delivery_robot_01/attrs`"
   ]
  },
  {
   "cell_type": "markdown",
   "metadata": {},
   "source": [
    "example)\n",
    "\n",
    "```\n",
    "Client mosq-4dtDNEK5UkZMsApX4q received PUBLISH (d0, q0, r0, m0, '/delivery_robot/delivery_robot_01/attrs', ... (536 bytes))\n",
    "{\"errors\": [], \"pose\": {\"angle\": {\"yaw\": -1.57, \"roll\": 0.0, \"pitch\": 0.0}, \"point\": {\"y\": -9.1, \"x\": 9.43, \"z\": 0.0}}, \"battery\": {\"current\": null, \"voltage\": 0.0}, \"destination\": {\"angle\": {\"yaw\": -1.57, \"roll\": 0.0, \"pitch\": 0.0}, \"point\": {\"y\": -9.1, \"x\": 9.43, \"z\": 0.0}}, \"covariance\": [0.0, 0.0, 0.0, 0.0, 0.0, 0.0, 0.0, 0.0, 0.0, 0.0, 0.0, 0.0, 0.0, 0.0, 0.0, 0.0, 0.0, 0.0, 0.0, 0.0, 0.0, 0.0, 0.0, 0.0, 0.0, 0.0, 0.0, 0.0, 0.0, 0.0, 0.0, 0.0, 0.0, 0.0, 0.0, 0.0], \"mode\": \"standby\", \"time\": \"2019-11-13T15:57:46.890747+09:00\"}\n",
    "```"
   ]
  },
  {
   "cell_type": "markdown",
   "metadata": {},
   "source": [
    "#### confirm that a MQTT message to `/robot_ui/robotui_01/cmd` is sent automatically"
   ]
  },
  {
   "cell_type": "markdown",
   "metadata": {},
   "source": [
    "example)\n",
    "\n",
    "```\n",
    "Client mosq-4dtDNEK5UkZMsApX4q received PUBLISH (d0, q0, r0, m0, '/robot_ui/robotui_01/cmd', ... (103 bytes))\n",
    "{\"send_state\":{\"time\":\"2019-11-13T15:57:46.984+09:00\",\"state\":\"picking\",\"destination\":\"会議室2中\"}}\n",
    "```"
   ]
  },
  {
   "cell_type": "markdown",
   "metadata": {},
   "source": [
    "#### confirm log messages"
   ]
  },
  {
   "cell_type": "markdown",
   "metadata": {},
   "source": [
    "example)\n",
    "\n",
    "```\n",
    "update robot state, robot_id=delivery_robot_01, current_mode=navi, next_mode=standby\n",
    "publish new state to robot ui(robotui_01), current_state=moving, next_state=picking, destination=会議室2中\n",
    "```"
   ]
  },
  {
   "cell_type": "markdown",
   "metadata": {},
   "source": [
    "### 48. emulate the completion of delivering operation ( `delivery_robot_01`)"
   ]
  },
  {
   "cell_type": "markdown",
   "metadata": {},
   "source": [
    "#### post a movenext data"
   ]
  },
  {
   "cell_type": "code",
   "execution_count": null,
   "metadata": {},
   "outputs": [],
   "source": [
    "TOKEN=$(cat ~/core/secrets/auth-tokens.json | jq '.[0].settings.bearer_tokens | map(select(.allowed_paths[] | contains (\"^/controller/.*$\"))) | .[0].token' -r)\n",
    "curl -i -H \"Authorization: bearer ${TOKEN}\" -H \"Content-Type: application/json\" https://api.tech-sketch.jp/controller/api/v1/robots/${DELIVERY_ROBOT_01}/nexts/ -X PATCH -d '{}'"
   ]
  },
  {
   "cell_type": "markdown",
   "metadata": {},
   "source": [
    "example)\n",
    "\n",
    "```\n",
    "HTTP/1.1 200 OK\n",
    "server: envoy\n",
    "date: Fri, 08 Nov 2019 13:18:24 GMT\n",
    "content-type: application/json\n",
    "content-length: 21\n",
    "access-control-allow-origin: *\n",
    "x-envoy-upstream-service-time: 124\n",
    "\n",
    "{\"result\":\"success\"}\n",
    "```"
   ]
  },
  {
   "cell_type": "markdown",
   "metadata": {},
   "source": [
    "#### confirm the MQTT message"
   ]
  },
  {
   "cell_type": "markdown",
   "metadata": {},
   "source": [
    "example)\n",
    "\n",
    "```\n",
    "Client mosq-4dtDNEK5UkZMsApX4q received PUBLISH (d0, q0, r0, m0, '/delivery_robot/delivery_robot_01/cmd', ... (247 bytes))\n",
    "{\"send_cmd\":{\"time\":\"2019-11-13T15:59:07.798+09:00\",\"cmd\":\"navi\",\"waypoints\":[{\"point\":{\"x\":9.56,\"y\":-8,\"z\":0},\"angle\":null},{\"point\":{\"x\":6.06,\"y\":-8,\"z\":0},\"angle\":null},{\"point\":{\"x\":5,\"y\":-8.1,\"z\":0},\"angle\":{\"roll\":0,\"pitch\":0,\"yaw\":3.14}}]}}\n",
    "```"
   ]
  },
  {
   "cell_type": "markdown",
   "metadata": {},
   "source": [
    "#### confirm ros message for delivery_robot_01 ( `/robot_bridge/turtlebot_01/cmd` )"
   ]
  },
  {
   "cell_type": "markdown",
   "metadata": {},
   "source": [
    "example)\n",
    "\n",
    "```yaml\n",
    "id: \"delivery_robot_01\"\n",
    "type: \"delivery_robot\"\n",
    "time: \"2019-11-13T15:59:07.798+09:00\"\n",
    "cmd: \"navi\"\n",
    "waypoints:\n",
    "  -\n",
    "    point:\n",
    "      x: 9.56\n",
    "      y: -8.0\n",
    "      z: 0.0\n",
    "    angle_optional:\n",
    "      valid: False\n",
    "      angle:\n",
    "        roll: 0.0\n",
    "        pitch: 0.0\n",
    "        yaw: 0.0\n",
    "  -\n",
    "    point:\n",
    "      x: 6.06\n",
    "      y: -8.0\n",
    "      z: 0.0\n",
    "    angle_optional:\n",
    "      valid: False\n",
    "      angle:\n",
    "        roll: 0.0\n",
    "        pitch: 0.0\n",
    "        yaw: 0.0\n",
    "  -\n",
    "    point:\n",
    "      x: 5.0\n",
    "      y: -8.1\n",
    "      z: 0.0\n",
    "    angle_optional:\n",
    "      valid: True\n",
    "      angle:\n",
    "        roll: 0.0\n",
    "        pitch: 0.0\n",
    "        yaw: 3.14\n",
    "---\n",
    "```"
   ]
  },
  {
   "cell_type": "markdown",
   "metadata": {},
   "source": [
    "#### confirm token entity"
   ]
  },
  {
   "cell_type": "code",
   "execution_count": null,
   "metadata": {
    "scrolled": false
   },
   "outputs": [],
   "source": [
    "TOKEN=$(cat ${CORE_ROOT}/secrets/auth-tokens.json | jq '.[0].settings.bearer_tokens[0].token' -r)\n",
    "curl -sS -H \"Authorization: bearer ${TOKEN}\" -H \"Fiware-Service: ${FIWARE_SERVICE}\" -H \"Fiware-Servicepath: ${TOKEN_SERVICEPATH}\" https://api.${DOMAIN}/orion/v2/entities/?type=${TOKEN_TYPE} | jq ."
   ]
  },
  {
   "cell_type": "markdown",
   "metadata": {},
   "source": [
    "confirm below:\n",
    "\n",
    "* `token_a` and `token_b` is not locked.\n",
    "* `token_c` is still locked by `delivery_robot_01`."
   ]
  },
  {
   "cell_type": "markdown",
   "metadata": {},
   "source": [
    "### 49. notify that the command is received"
   ]
  },
  {
   "cell_type": "markdown",
   "metadata": {},
   "source": [
    "#### send a ros message"
   ]
  },
  {
   "cell_type": "markdown",
   "metadata": {},
   "source": [
    "_On ROS Kinect PC_\n",
    "1. start a terminal\n",
    "1. execute below command.\n",
    "```\n",
    "rostopic pub -1 /robot_bridge/turtlebot_01/cmdexe uoa_poc2_msgs/r_result \"\n",
    "id: 'delivery_robot_01'\n",
    "type: 'delivery_robot'\n",
    "time: '2019-11-13T15:59:08.798+09:00'\n",
    "received_time: '2019-11-13T15:59:07.798+09:00'\n",
    "received_cmd: 'navi'\n",
    "received_waypoints:\n",
    "  -\n",
    "    point:\n",
    "      x: 9.56\n",
    "      y: -8.0\n",
    "      z: 0.0\n",
    "    angle_optional:\n",
    "      valid: False\n",
    "      angle:\n",
    "        roll: 0.0\n",
    "        pitch: 0.0\n",
    "        yaw: 0.0\n",
    "  -\n",
    "    point:\n",
    "      x: 6.06\n",
    "      y: -8.0\n",
    "      z: 0.0\n",
    "    angle_optional:\n",
    "      valid: False\n",
    "      angle:\n",
    "        roll: 0.0\n",
    "        pitch: 0.0\n",
    "        yaw: 0.0\n",
    "  -\n",
    "    point:\n",
    "      x: 5.0\n",
    "      y: -8.1\n",
    "      z: 0.0\n",
    "    angle_optional:\n",
    "      valid: True\n",
    "      angle:\n",
    "        roll: 0.0\n",
    "        pitch: 0.0\n",
    "        yaw: 3.14\n",
    "result: 'ack'\n",
    "errors: ['']\n",
    "\"\n",
    "```"
   ]
  },
  {
   "cell_type": "markdown",
   "metadata": {},
   "source": [
    "#### confirm the MQTT message"
   ]
  },
  {
   "cell_type": "markdown",
   "metadata": {},
   "source": [
    "example)\n",
    "\n",
    "```\n",
    "Client mosq-4dtDNEK5UkZMsApX4q received PUBLISH (d0, q0, r0, m0, '/delivery_robot/delivery_robot_01/cmdexe', ... (401 bytes))\n",
    "{\"send_cmd\": {\"received_time\": \"2019-11-13T15:59:07.798+09:00\", \"errors\": [\"\"], \"received_cmd\": \"navi\", \"received_waypoints\": [{\"angle\": null, \"point\": {\"y\": -8.0, \"x\": 9.56, \"z\": 0.0}}, {\"angle\": null, \"point\": {\"y\": -8.0, \"x\": 6.06, \"z\": 0.0}}, {\"angle\": {\"yaw\": 3.14, \"roll\": 0.0, \"pitch\": 0.0}, \"point\": {\"y\": -8.1, \"x\": 5.0, \"z\": 0.0}}], \"result\": \"ack\", \"time\": \"2019-11-13T15:59:08.798+09:00\"}}\n",
    "```"
   ]
  },
  {
   "cell_type": "markdown",
   "metadata": {},
   "source": [
    "### 50. emulate the move of  `delivery_robot_01`"
   ]
  },
  {
   "cell_type": "markdown",
   "metadata": {},
   "source": [
    "#### send a ros message "
   ]
  },
  {
   "cell_type": "markdown",
   "metadata": {},
   "source": [
    "_On ROS Kinect PC_\n",
    "1. start a terminal\n",
    "1. execute below command.\n",
    "\n",
    "```\n",
    "rostopic pub -1 /robot_bridge/turtlebot_01/state uoa_poc2_msgs/r_state \"\n",
    "id: 'delivery_robot_01'\n",
    "type: 'delivery_robot'\n",
    "time: '2019-11-13T15:59:08.798+09:00'\n",
    "mode: 'navi'\n",
    "errors: ['']\n",
    "pose:\n",
    "  point: {x: 9.56, y: -8.0, z: 0.0}\n",
    "  angle: {roll: 0.0, pitch: 0.0, yaw: 1.5}\n",
    "destination:\n",
    "  point: {x: 9.56, y: -8.0, z: 0.0}\n",
    "  angle_optional:\n",
    "    valid: false\n",
    "    angle: {roll: 0.0, pitch: 0.0, yaw: 0.0}\n",
    "covariance: [0.0, 0.0, 0.0, 0.0, 0.0, 0.0, 0.0, 0.0, 0.0, 0.0, 0.0, 0.0, 0.0, 0.0,\n",
    "  0.0, 0.0, 0.0, 0.0, 0.0, 0.0, 0.0, 0.0, 0.0, 0.0, 0.0, 0.0, 0.0, 0.0, 0.0, 0.0,\n",
    "  0.0, 0.0, 0.0, 0.0, 0.0, 0.0]\n",
    "battery:\n",
    "  voltage: 0.0\n",
    "  current_optional: {valid: false, current: 0.0}\n",
    "\"\n",
    "```"
   ]
  },
  {
   "cell_type": "markdown",
   "metadata": {},
   "source": [
    "#### confirm the MQTT message to `/delivery_robot/delivery_robot_01/attrs`"
   ]
  },
  {
   "cell_type": "markdown",
   "metadata": {},
   "source": [
    "example)\n",
    "\n",
    "```\n",
    "Client mosq-4dtDNEK5UkZMsApX4q received PUBLISH (d0, q0, r0, m0, '/delivery_robot/delivery_robot_01/attrs', ... (494 bytes))\n",
    "{\"errors\": [], \"pose\": {\"angle\": {\"yaw\": 1.5, \"roll\": 0.0, \"pitch\": 0.0}, \"point\": {\"y\": -8.0, \"x\": 9.56, \"z\": 0.0}}, \"battery\": {\"current\": null, \"voltage\": 0.0}, \"destination\": {\"angle\": null, \"point\": {\"y\": -8.0, \"x\": 9.56, \"z\": 0.0}}, \"covariance\": [0.0, 0.0, 0.0, 0.0, 0.0, 0.0, 0.0, 0.0, 0.0, 0.0, 0.0, 0.0, 0.0, 0.0, 0.0, 0.0, 0.0, 0.0, 0.0, 0.0, 0.0, 0.0, 0.0, 0.0, 0.0, 0.0, 0.0, 0.0, 0.0, 0.0, 0.0, 0.0, 0.0, 0.0, 0.0, 0.0], \"mode\": \"navi\", \"time\": \"2019-11-13T16:01:02.329035+09:00\"}\n",
    "```"
   ]
  },
  {
   "cell_type": "markdown",
   "metadata": {},
   "source": [
    "#### confirm that a MQTT message to `/robot_ui/robotui_01/cmd` is sent automatically"
   ]
  },
  {
   "cell_type": "markdown",
   "metadata": {},
   "source": [
    "example)\n",
    "\n",
    "```\n",
    "Client mosq-4dtDNEK5UkZMsApX4q received PUBLISH (d0, q0, r0, m0, '/robot_ui/robotui_01/cmd', ... (104 bytes))\n",
    "{\"send_state\":{\"time\":\"2019-11-13T16:01:02.438+09:00\",\"state\":\"moving\",\"destination\":\"待機場所１\"}}\n",
    "```"
   ]
  },
  {
   "cell_type": "markdown",
   "metadata": {},
   "source": [
    "#### confirm log messages"
   ]
  },
  {
   "cell_type": "markdown",
   "metadata": {},
   "source": [
    "example)\n",
    "\n",
    "```\n",
    "update robot state, robot_id=delivery_robot_01, current_mode=standby, next_mode=navi\n",
    "publish new state to robot ui(robotui_01), current_state=delivering, next_state=moving, destination=待機場所１\n",
    "```"
   ]
  },
  {
   "cell_type": "markdown",
   "metadata": {},
   "source": [
    "### 51. emulate the stop of  `delivery_robot_01`"
   ]
  },
  {
   "cell_type": "markdown",
   "metadata": {},
   "source": [
    "#### send a ros message "
   ]
  },
  {
   "cell_type": "markdown",
   "metadata": {},
   "source": [
    "_On ROS Kinect PC_\n",
    "1. start a terminal\n",
    "1. execute below command.\n",
    "\n",
    "```\n",
    "rostopic pub -1 /robot_bridge/turtlebot_01/state uoa_poc2_msgs/r_state \"\n",
    "id: 'delivery_robot_01'\n",
    "type: 'delivery_robot'\n",
    "time: '2019-11-13T15:59:09.798+09:00'\n",
    "mode: 'standby'\n",
    "errors: ['']\n",
    "pose:\n",
    "  point: {x: 5.0, y: -8.1, z: 0.0}\n",
    "  angle: {roll: 0.0, pitch: 0.0, yaw: 3.14}\n",
    "destination:\n",
    "  point: {x: 5.0, y: -8.1, z: 0.0}\n",
    "  angle_optional:\n",
    "    valid: true\n",
    "    angle: {roll: 0.0, pitch: 0.0, yaw: 3.14}\n",
    "covariance: [0.0, 0.0, 0.0, 0.0, 0.0, 0.0, 0.0, 0.0, 0.0, 0.0, 0.0, 0.0, 0.0, 0.0,\n",
    "  0.0, 0.0, 0.0, 0.0, 0.0, 0.0, 0.0, 0.0, 0.0, 0.0, 0.0, 0.0, 0.0, 0.0, 0.0, 0.0,\n",
    "  0.0, 0.0, 0.0, 0.0, 0.0, 0.0]\n",
    "battery:\n",
    "  voltage: 0.0\n",
    "  current_optional: {valid: false, current: 0.0}\n",
    "\"\n",
    "```"
   ]
  },
  {
   "cell_type": "markdown",
   "metadata": {},
   "source": [
    "#### confirm the MQTT message to `/delivery_robot/delivery_robot_01/attrs`"
   ]
  },
  {
   "cell_type": "markdown",
   "metadata": {},
   "source": [
    "example)\n",
    "\n",
    "```\n",
    "Client mosq-4dtDNEK5UkZMsApX4q received PUBLISH (d0, q0, r0, m0, '/delivery_robot/delivery_robot_01/attrs', ... (532 bytes))\n",
    "{\"errors\": [], \"pose\": {\"angle\": {\"yaw\": 3.14, \"roll\": 0.0, \"pitch\": 0.0}, \"point\": {\"y\": -8.1, \"x\": 5.0, \"z\": 0.0}}, \"battery\": {\"current\": null, \"voltage\": 0.0}, \"destination\": {\"angle\": {\"yaw\": 3.14, \"roll\": 0.0, \"pitch\": 0.0}, \"point\": {\"y\": -8.1, \"x\": 5.0, \"z\": 0.0}}, \"covariance\": [0.0, 0.0, 0.0, 0.0, 0.0, 0.0, 0.0, 0.0, 0.0, 0.0, 0.0, 0.0, 0.0, 0.0, 0.0, 0.0, 0.0, 0.0, 0.0, 0.0, 0.0, 0.0, 0.0, 0.0, 0.0, 0.0, 0.0, 0.0, 0.0, 0.0, 0.0, 0.0, 0.0, 0.0, 0.0, 0.0], \"mode\": \"standby\", \"time\": \"2019-11-13T16:02:07.749565+09:00\"}\n",
    "```"
   ]
  },
  {
   "cell_type": "markdown",
   "metadata": {},
   "source": [
    "#### confirm that a MQTT message to `/delivery_robot/delivery_robot_01/cmd` is sent automatically"
   ]
  },
  {
   "cell_type": "markdown",
   "metadata": {},
   "source": [
    "example)\n",
    "\n",
    "```\n",
    "Client mosq-4dtDNEK5UkZMsApX4q received PUBLISH (d0, q0, r0, m0, '/delivery_robot/delivery_robot_01/cmd', ... (304 bytes))\n",
    "{\"send_cmd\":{\"time\":\"2019-11-13T16:02:07.895+09:00\",\"cmd\":\"navi\",\"waypoints\":[{\"point\":{\"x\":0.2,\"y\":-8.1,\"z\":0},\"angle\":null},{\"point\":{\"x\":-1.66,\"y\":-6.68,\"z\":0},\"angle\":null},{\"point\":{\"x\":-1.5,\"y\":-2.5,\"z\":0},\"angle\":null},{\"point\":{\"x\":-0.4,\"y\":1.5,\"z\":0},\"angle\":{\"roll\":0,\"pitch\":0,\"yaw\":-1.57}}]}}\n",
    "```"
   ]
  },
  {
   "cell_type": "markdown",
   "metadata": {},
   "source": [
    "#### confirm that a ros message for delivery_robot_01 ( `/robot_bridge/turtlebot_01/cmd` ) is sent automatically"
   ]
  },
  {
   "cell_type": "markdown",
   "metadata": {},
   "source": [
    "example)\n",
    "\n",
    "```yaml\n",
    "id: \"delivery_robot_01\"\n",
    "type: \"delivery_robot\"\n",
    "time: \"2019-11-13T16:02:07.895+09:00\"\n",
    "cmd: \"navi\"\n",
    "waypoints:\n",
    "  -\n",
    "    point:\n",
    "      x: 0.2\n",
    "      y: -8.1\n",
    "      z: 0.0\n",
    "    angle_optional:\n",
    "      valid: False\n",
    "      angle:\n",
    "        roll: 0.0\n",
    "        pitch: 0.0\n",
    "        yaw: 0.0\n",
    "  -\n",
    "    point:\n",
    "      x: -1.66\n",
    "      y: -6.68\n",
    "      z: 0.0\n",
    "    angle_optional:\n",
    "      valid: False\n",
    "      angle:\n",
    "        roll: 0.0\n",
    "        pitch: 0.0\n",
    "        yaw: 0.0\n",
    "  -\n",
    "    point:\n",
    "      x: -1.5\n",
    "      y: -2.5\n",
    "      z: 0.0\n",
    "    angle_optional:\n",
    "      valid: False\n",
    "      angle:\n",
    "        roll: 0.0\n",
    "        pitch: 0.0\n",
    "        yaw: 0.0\n",
    "  -\n",
    "    point:\n",
    "      x: -0.4\n",
    "      y: 1.5\n",
    "      z: 0.0\n",
    "    angle_optional:\n",
    "      valid: True\n",
    "      angle:\n",
    "        roll: 0.0\n",
    "        pitch: 0.0\n",
    "        yaw: -1.57\n",
    "---\n",
    "```"
   ]
  },
  {
   "cell_type": "markdown",
   "metadata": {},
   "source": [
    "#### confirm log messages"
   ]
  },
  {
   "cell_type": "markdown",
   "metadata": {},
   "source": [
    "example)\n",
    "\n",
    "```\n",
    "update robot state, robot_id=delivery_robot_01, current_mode=navi, next_mode=standby\n",
    "release token (token_c) by delivery_robot_01\n",
    "move robot(delivery_robot_01) to \"place_Q\" (waypoints=[{'point': {'x': 0.2, 'y': -8.1, 'z': 0}, 'angle': None}, {'point': {'x': -1.66, 'y': -6.68, 'z': 0}, 'angle': None}, {'point': {'x': -1.5, 'y': -2.5, 'z': 0}, 'angle': None}, {'point': {'x': -0.4, 'y': 1.5, 'z': 0}, 'angle': {'roll': 0, 'pitch': 0, 'yaw': -1.57}}]\n",
    "```"
   ]
  },
  {
   "cell_type": "markdown",
   "metadata": {},
   "source": [
    "#### confirm token entity"
   ]
  },
  {
   "cell_type": "code",
   "execution_count": null,
   "metadata": {
    "scrolled": false
   },
   "outputs": [],
   "source": [
    "TOKEN=$(cat ${CORE_ROOT}/secrets/auth-tokens.json | jq '.[0].settings.bearer_tokens[0].token' -r)\n",
    "curl -sS -H \"Authorization: bearer ${TOKEN}\" -H \"Fiware-Service: ${FIWARE_SERVICE}\" -H \"Fiware-Servicepath: ${TOKEN_SERVICEPATH}\" https://api.${DOMAIN}/orion/v2/entities/?type=${TOKEN_TYPE} | jq ."
   ]
  },
  {
   "cell_type": "markdown",
   "metadata": {},
   "source": [
    "confirm below:\n",
    "\n",
    "* all token is not locked."
   ]
  },
  {
   "cell_type": "markdown",
   "metadata": {},
   "source": [
    "### 52. emulate the move of  `delivery_robot_01`"
   ]
  },
  {
   "cell_type": "markdown",
   "metadata": {},
   "source": [
    "#### send a ros message "
   ]
  },
  {
   "cell_type": "markdown",
   "metadata": {},
   "source": [
    "_On ROS Kinect PC_\n",
    "1. start a terminal\n",
    "1. execute below command.\n",
    "\n",
    "```\n",
    "rostopic pub -1 /robot_bridge/turtlebot_01/state uoa_poc2_msgs/r_state \"\n",
    "id: 'delivery_robot_01'\n",
    "type: 'delivery_robot'\n",
    "time: '2019-11-13T16:02:08.895+09:00'\n",
    "mode: 'navi'\n",
    "errors: ['']\n",
    "pose:\n",
    "  point: {x: 0.1, y: -8.0, z: 0.0}\n",
    "  angle: {roll: 0.0, pitch: 0.0, yaw: 0.0}\n",
    "destination:\n",
    "  point: {x: 0.2, y: -8.1, z: 0.0}\n",
    "  angle_optional:\n",
    "    valid: false\n",
    "    angle: {roll: 0.0, pitch: 0.0, yaw: 0.0}\n",
    "covariance: [0.0, 0.0, 0.0, 0.0, 0.0, 0.0, 0.0, 0.0, 0.0, 0.0, 0.0, 0.0, 0.0, 0.0,\n",
    "  0.0, 0.0, 0.0, 0.0, 0.0, 0.0, 0.0, 0.0, 0.0, 0.0, 0.0, 0.0, 0.0, 0.0, 0.0, 0.0,\n",
    "  0.0, 0.0, 0.0, 0.0, 0.0, 0.0]\n",
    "battery:\n",
    "  voltage: 0.0\n",
    "  current_optional: {valid: false, current: 0.0}\n",
    "\"\n",
    "```"
   ]
  },
  {
   "cell_type": "markdown",
   "metadata": {},
   "source": [
    "#### confirm the MQTT message to `/delivery_robot/delivery_robot_01/attrs`"
   ]
  },
  {
   "cell_type": "markdown",
   "metadata": {},
   "source": [
    "example)\n",
    "\n",
    "```\n",
    "Client mosq-4dtDNEK5UkZMsApX4q received PUBLISH (d0, q0, r0, m0, '/delivery_robot/delivery_robot_01/attrs', ... (492 bytes))\n",
    "{\"errors\": [], \"pose\": {\"angle\": {\"yaw\": 0.0, \"roll\": 0.0, \"pitch\": 0.0}, \"point\": {\"y\": -8.0, \"x\": 0.1, \"z\": 0.0}}, \"battery\": {\"current\": null, \"voltage\": 0.0}, \"destination\": {\"angle\": null, \"point\": {\"y\": -8.1, \"x\": 0.2, \"z\": 0.0}}, \"covariance\": [0.0, 0.0, 0.0, 0.0, 0.0, 0.0, 0.0, 0.0, 0.0, 0.0, 0.0, 0.0, 0.0, 0.0, 0.0, 0.0, 0.0, 0.0, 0.0, 0.0, 0.0, 0.0, 0.0, 0.0, 0.0, 0.0, 0.0, 0.0, 0.0, 0.0, 0.0, 0.0, 0.0, 0.0, 0.0, 0.0], \"mode\": \"navi\", \"time\": \"2019-11-13T16:04:03.897061+09:00\"}\n",
    "```"
   ]
  },
  {
   "cell_type": "markdown",
   "metadata": {},
   "source": [
    "### 53. emulate the stop of  `delivery_robot_01`"
   ]
  },
  {
   "cell_type": "markdown",
   "metadata": {},
   "source": [
    "#### send a ros message"
   ]
  },
  {
   "cell_type": "markdown",
   "metadata": {},
   "source": [
    "_On ROS Kinect PC_\n",
    "1. start a terminal\n",
    "1. execute below command.\n",
    "\n",
    "```\n",
    "rostopic pub -1 /robot_bridge/turtlebot_01/state uoa_poc2_msgs/r_state \"\n",
    "id: 'delivery_robot_01'\n",
    "type: 'delivery_robot'\n",
    "time: '2019-11-13T16:02:09.895+09:00'\n",
    "mode: 'standby'\n",
    "errors: ['']\n",
    "pose:\n",
    "  point: {x: -0.4, y: 1.5, z: 0.0}\n",
    "  angle: {roll: 0.0, pitch: 0.0, yaw: -1.57}\n",
    "destination:\n",
    "  point: {x: -0.4, y: 1.5, z: 0.0}\n",
    "  angle_optional:\n",
    "    valid: true\n",
    "    angle: {roll: 0.0, pitch: 0.0, yaw: -1.57}\n",
    "covariance: [0.0, 0.0, 0.0, 0.0, 0.0, 0.0, 0.0, 0.0, 0.0, 0.0, 0.0, 0.0, 0.0, 0.0,\n",
    "  0.0, 0.0, 0.0, 0.0, 0.0, 0.0, 0.0, 0.0, 0.0, 0.0, 0.0, 0.0, 0.0, 0.0, 0.0, 0.0,\n",
    "  0.0, 0.0, 0.0, 0.0, 0.0, 0.0]\n",
    "battery:\n",
    "  voltage: 0.0\n",
    "  current_optional: {valid: false, current: 0.0}\n",
    "\"\n",
    "```"
   ]
  },
  {
   "cell_type": "markdown",
   "metadata": {},
   "source": [
    "#### confirm the MQTT message to `/delivery_robot/delivery_robot_01/attrs`"
   ]
  },
  {
   "cell_type": "markdown",
   "metadata": {},
   "source": [
    "example)\n",
    "\n",
    "```\n",
    "Client mosq-4dtDNEK5UkZMsApX4q received PUBLISH (d0, q0, r0, m0, '/delivery_robot/delivery_robot_01/attrs', ... (534 bytes))\n",
    "{\"errors\": [], \"pose\": {\"angle\": {\"yaw\": -1.57, \"roll\": 0.0, \"pitch\": 0.0}, \"point\": {\"y\": 1.5, \"x\": -0.4, \"z\": 0.0}}, \"battery\": {\"current\": null, \"voltage\": 0.0}, \"destination\": {\"angle\": {\"yaw\": -1.57, \"roll\": 0.0, \"pitch\": 0.0}, \"point\": {\"y\": 1.5, \"x\": -0.4, \"z\": 0.0}}, \"covariance\": [0.0, 0.0, 0.0, 0.0, 0.0, 0.0, 0.0, 0.0, 0.0, 0.0, 0.0, 0.0, 0.0, 0.0, 0.0, 0.0, 0.0, 0.0, 0.0, 0.0, 0.0, 0.0, 0.0, 0.0, 0.0, 0.0, 0.0, 0.0, 0.0, 0.0, 0.0, 0.0, 0.0, 0.0, 0.0, 0.0], \"mode\": \"standby\", \"time\": \"2019-11-13T16:04:46.260783+09:00\"}\n",
    "```"
   ]
  },
  {
   "cell_type": "markdown",
   "metadata": {},
   "source": [
    "#### confirm that a MQTT message to `/robot_ui/robotui_01/cmd` is sent automatically"
   ]
  },
  {
   "cell_type": "markdown",
   "metadata": {},
   "source": [
    "example)\n",
    "\n",
    "```\n",
    "Client mosq-4dtDNEK5UkZMsApX4q received PUBLISH (d0, q0, r0, m0, '/robot_ui/robotui_01/cmd', ... (105 bytes))\n",
    "{\"send_state\":{\"time\":\"2019-11-13T16:04:46.338+09:00\",\"state\":\"standby\",\"destination\":\"待機場所１\"}}\n",
    "```"
   ]
  },
  {
   "cell_type": "markdown",
   "metadata": {},
   "source": [
    "#### confirm log messages"
   ]
  },
  {
   "cell_type": "markdown",
   "metadata": {},
   "source": [
    "example)\n",
    "\n",
    "```\n",
    "update robot state, robot_id=delivery_robot_01, current_mode=navi, next_mode=standby\n",
    "publish new state to robot ui(robotui_01), current_state=moving, next_state=standby, destination=待機場所１\n",
    "```"
   ]
  },
  {
   "cell_type": "markdown",
   "metadata": {},
   "source": [
    "#### confirm the `delivery_robot_02` entity"
   ]
  },
  {
   "cell_type": "code",
   "execution_count": null,
   "metadata": {},
   "outputs": [],
   "source": [
    "TOKEN=$(cat ${CORE_ROOT}/secrets/auth-tokens.json | jq '.[0].settings.bearer_tokens[0].token' -r)\n",
    "curl -sS -H \"Authorization: bearer ${TOKEN}\" -H \"Fiware-Service: ${FIWARE_SERVICE}\" -H \"Fiware-Servicepath: ${DELIVERY_ROBOT_SERVICEPATH}\" \"https://api.${DOMAIN}/orion/v2/entities/${DELIVERY_ROBOT_01}?type=${DELIVERY_ROBOT_TYPE}&attrs=remaining_waypoints_list\" | jq ."
   ]
  },
  {
   "cell_type": "markdown",
   "metadata": {},
   "source": [
    "confirm below:\n",
    "\n",
    "* `remaining_waypoints_list` is empty list"
   ]
  }
 ],
 "metadata": {
  "kernelspec": {
   "display_name": "Bash",
   "language": "bash",
   "name": "bash"
  },
  "language_info": {
   "codemirror_mode": "shell",
   "file_extension": ".sh",
   "mimetype": "text/x-sh",
   "name": "bash"
  }
 },
 "nbformat": 4,
 "nbformat_minor": 2
}
