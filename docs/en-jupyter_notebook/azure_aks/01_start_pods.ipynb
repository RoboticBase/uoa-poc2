{
 "cells": [
  {
   "cell_type": "markdown",
   "metadata": {},
   "source": [
    "# 1 start pods on azure AKS"
   ]
  },
  {
   "cell_type": "markdown",
   "metadata": {},
   "source": [
    "change ${CORE_ROOT} to your path of `core`."
   ]
  },
  {
   "cell_type": "code",
   "execution_count": null,
   "metadata": {},
   "outputs": [],
   "source": [
    "export CORE_ROOT=\"${HOME}/core\""
   ]
  },
  {
   "cell_type": "markdown",
   "metadata": {},
   "source": [
    "change ${PJ_ROOT} to your path of `uoa-poc2`."
   ]
  },
  {
   "cell_type": "code",
   "execution_count": null,
   "metadata": {},
   "outputs": [],
   "source": [
    "export PJ_ROOT=\"${HOME}/uoa-poc2\"\n",
    "cd ${PJ_ROOT};pwd"
   ]
  },
  {
   "cell_type": "markdown",
   "metadata": {},
   "source": [
    "example)\n",
    "```\n",
    "/Users/user/uoa-poc2\n",
    "```"
   ]
  },
  {
   "cell_type": "markdown",
   "metadata": {},
   "source": [
    "## load environment variables"
   ]
  },
  {
   "cell_type": "markdown",
   "metadata": {},
   "source": [
    "load from `core`"
   ]
  },
  {
   "cell_type": "code",
   "execution_count": null,
   "metadata": {},
   "outputs": [],
   "source": [
    "source ${CORE_ROOT}/docs/environments/azure_aks/env"
   ]
  },
  {
   "cell_type": "markdown",
   "metadata": {},
   "source": [
    "load from `uoa-poc2`"
   ]
  },
  {
   "cell_type": "code",
   "execution_count": null,
   "metadata": {},
   "outputs": [],
   "source": [
    "source ${PJ_ROOT}/docs/environments/azure_aks/env"
   ]
  },
  {
   "cell_type": "markdown",
   "metadata": {},
   "source": [
    "## setup alias"
   ]
  },
  {
   "cell_type": "code",
   "execution_count": null,
   "metadata": {},
   "outputs": [],
   "source": [
    "if [ \"$(uname)\" == 'Darwin' ]; then\n",
    "  alias randomstr8='cat /dev/urandom | LC_CTYPE=C tr -dc 'a-zA-Z0-9' | head -c 8'\n",
    "  alias randomstr16='cat /dev/urandom | LC_CTYPE=C tr -dc 'a-zA-Z0-9' | head -c 16'\n",
    "  alias randomstr32='cat /dev/urandom | LC_CTYPE=C tr -dc 'a-zA-Z0-9' | head -c 32'\n",
    "elif [ \"$(expr substr $(uname -s) 1 5)\" == 'Linux' ]; then\n",
    "  alias randomstr8='cat /dev/urandom 2>/dev/null | head -n 40 | tr -cd 'a-zA-Z0-9' | head -c 8'\n",
    "  alias randomstr16='cat /dev/urandom 2>/dev/null | head -n 40 | tr -cd 'a-zA-Z0-9' | head -c 16'\n",
    "  alias randomstr32='cat /dev/urandom 2>/dev/null | head -n 40 | tr -cd 'a-zA-Z0-9' | head -c 32'\n",
    "else\n",
    "  echo \"Your platform ($(uname -a)) is not supported.\"\n",
    "  exit 1\n",
    "fi"
   ]
  },
  {
   "cell_type": "markdown",
   "metadata": {},
   "source": [
    "## add auth tokens for the controller of uoa-poc2"
   ]
  },
  {
   "cell_type": "markdown",
   "metadata": {},
   "source": [
    "### create new `secrets/auth-tokens.json`"
   ]
  },
  {
   "cell_type": "markdown",
   "metadata": {},
   "source": [
    "example)\n",
    "```json\n",
    "[\n",
    "  {\n",
    "    \"host\": \"api\\\\..+$\",\n",
    "    \"settings\": {\n",
    "      \"bearer_tokens\": [\n",
    "        {\n",
    "          \"token\": \"f8ndLS3Dgvmy434lRJhGqbsBDuy6oOXX\",\n",
    "          \"allowed_paths\": [\n",
    "            \"^/orion/.*$\",\n",
    "            \"^/idas/.*$\",\n",
    "            \"^/comet/.*$\"\n",
    "          ]\n",
    "        },\n",
    "        {\n",
    "          \"token\": \"TISstc1030\",\n",
    "          \"allowed_paths\": [\n",
    "            \"^/controller/.*$\"\n",
    "          ]\n",
    "        },\n",
    "        {\n",
    "          \"token\": \"lAra2vvfFCoNYUBZDRSVg0kr0UYXQJeZ\",\n",
    "          \"allowed_paths\": [\n",
    "            \"^/controller/.*$\"\n",
    "          ]\n",
    "        }\n",
    "      ],\n",
    "      \"basic_auths\": [],\n",
    "      \"no_auths\": {\n",
    "        \"allowed_paths\": []\n",
    "      }\n",
    "    }\n",
    "  },\n",
    "  {\n",
    "    \"host\": \"kibana\\\\..+$\",\n",
    "    \"settings\": {\n",
    "      \"bearer_tokens\": [],\n",
    "      \"basic_auths\": [\n",
    "        {\n",
    "          \"username\": \"kjOocePR\",\n",
    "          \"password\": \"4wm4wDPFiIgKuFwM\",\n",
    "          \"allowed_paths\": [\n",
    "            \"^.*$\"\n",
    "          ]\n",
    "        }\n",
    "      ],\n",
    "      \"no_auths\": {\n",
    "        \"allowed_paths\": []\n",
    "      }\n",
    "    }\n",
    "  },\n",
    "  {\n",
    "    \"host\": \"grafana\\\\..+$\",\n",
    "    \"settings\": {\n",
    "      \"bearer_tokens\": [],\n",
    "      \"basic_auths\": [],\n",
    "      \"no_auths\": {\n",
    "        \"allowed_paths\": [\n",
    "          \"^.*$\"\n",
    "        ]\n",
    "      }\n",
    "    }\n",
    "  },\n",
    "  {\n",
    "    \"host\": \"zaico\\\\..+$\",\n",
    "    \"settings\": {\n",
    "      \"bearer_tokens\": [],\n",
    "      \"basic_auths\": [\n",
    "        {\n",
    "          \"username\": \"dA9edLTb\",\n",
    "          \"password\": \"pnFj8HB1y8Q9Ch8r\",\n",
    "          \"allowed_paths\": [\n",
    "            \"^.*$\"\n",
    "          ]\n",
    "        }\n",
    "      ],\n",
    "      \"no_auths\": {\n",
    "        \"allowed_paths\": [\n",
    "          \"^.*/static/.*$\"\n",
    "        ]\n",
    "      }\n",
    "    }\n",
    "  },\n",
    "  {\n",
    "    \"host\": \"robotui\\\\..+$\",\n",
    "    \"settings\": {\n",
    "      \"bearer_tokens\": [],\n",
    "      \"basic_auths\": [\n",
    "        {\n",
    "          \"username\": \"vB4xNAlx\",\n",
    "          \"password\": \"jOvGeNTFoFNBzF0P\",\n",
    "          \"allowed_paths\": [\n",
    "            \"^.*$\"\n",
    "          ]\n",
    "        }\n",
    "      ],\n",
    "      \"no_auths\": {\n",
    "        \"allowed_paths\": [\n",
    "          \"^.*/static/.*$\"\n",
    "        ]\n",
    "      }\n",
    "    }\n",
    "  }\n",
    "]\n",
    "```"
   ]
  },
  {
   "cell_type": "code",
   "execution_count": null,
   "metadata": {},
   "outputs": [],
   "source": [
    "cat ${CORE_ROOT}/secrets/auth-tokens.json | jq '.[0].settings.bearer_tokens|=.+[\n",
    "  {\n",
    "    \"token\": \"'$(randomstr32)'\",\n",
    "    \"allowed_paths\": [\"^/controller/.*$\"]\n",
    "  }\n",
    "]' >> /tmp/auth-tokens.json.1\n",
    "cat /tmp/auth-tokens.json.1 | jq '.|=.+[{\n",
    "  \"host\": \"zaico\\\\..+$\",\n",
    "  \"settings\": {\n",
    "    \"bearer_tokens\": [],\n",
    "    \"basic_auths\": [\n",
    "      {\n",
    "        \"username\": \"'$(randomstr8)'\",\n",
    "        \"password\": \"'$(randomstr16)'\",\n",
    "        \"allowed_paths\": [\"^.*$\"]\n",
    "      }\n",
    "    ],\n",
    "    \"no_auths\": {\n",
    "      \"allowed_paths\": [\"^.*/static/.*$\"]\n",
    "    }\n",
    "  }\n",
    "},\n",
    "{\n",
    "  \"host\": \"robotui\\\\..+$\",\n",
    "  \"settings\": {\n",
    "    \"bearer_tokens\": [],\n",
    "    \"basic_auths\": [\n",
    "      {\n",
    "        \"username\": \"'$(randomstr8)'\",\n",
    "        \"password\": \"'$(randomstr16)'\",\n",
    "        \"allowed_paths\": [\"^.*$\"]\n",
    "      }\n",
    "    ],\n",
    "    \"no_auths\": {\n",
    "      \"allowed_paths\": [\"^.*/static/.*$\"]\n",
    "    }\n",
    "  }\n",
    "}]' | tee /tmp/auth-tokens.json\n",
    "mv ${CORE_ROOT}/secrets/auth-tokens.json ${CORE_ROOT}/secrets/auth-tokens.json.back\n",
    "mv /tmp/auth-tokens.json ${CORE_ROOT}/secrets/auth-tokens.json\n",
    "rm /tmp/auth-tokens.json.1"
   ]
  },
  {
   "cell_type": "markdown",
   "metadata": {},
   "source": [
    "## change the auth-tokens to kubernetes secrets"
   ]
  },
  {
   "cell_type": "markdown",
   "metadata": {},
   "source": [
    "### watch `auth` log"
   ]
  },
  {
   "cell_type": "markdown",
   "metadata": {},
   "source": [
    "_Outside of this notebook_\n",
    "1. open a ternminal.\n",
    "1. run a command displayed below."
   ]
  },
  {
   "cell_type": "code",
   "execution_count": null,
   "metadata": {},
   "outputs": [],
   "source": [
    "echo \"kubectl logs -f -lapp=auth --all-containers=true\""
   ]
  },
  {
   "cell_type": "markdown",
   "metadata": {},
   "source": [
    "### delete and re-register auth-tokens to kubernetes secrets"
   ]
  },
  {
   "cell_type": "code",
   "execution_count": null,
   "metadata": {},
   "outputs": [],
   "source": [
    "kubectl delete secret auth-tokens"
   ]
  },
  {
   "cell_type": "code",
   "execution_count": null,
   "metadata": {},
   "outputs": [],
   "source": [
    "kubectl create secret generic auth-tokens --from-file=${CORE_ROOT}/secrets/auth-tokens.json"
   ]
  },
  {
   "cell_type": "markdown",
   "metadata": {},
   "source": [
    "### confirm the token will be reloaded"
   ]
  },
  {
   "cell_type": "markdown",
   "metadata": {},
   "source": [
    "**wait a few minutes until the change of secret is detected by Kubernetes.**  \n",
    "When the new secret is detected, the tokens of auth will be reloaded automatically."
   ]
  },
  {
   "cell_type": "markdown",
   "metadata": {},
   "source": [
    "log messages like below will be shown after tokens is reloaded.\n",
    "\n",
    "```\n",
    "...\n",
    "--------\n",
    "2019/08/06 02:28:00 hosts: [.*]\n",
    "--------\n",
    "2019/08/06 02:28:00 bearerTokenAllowedPaths: map[.*:map[OnjhCAf8oIRpwBfbFDCh7hu5kh3e9TFM:[^/orion/.*$ ^/idas/.*$ ^/comet/.*$] BcC7SFz7tWAqNtsmQOqbfDCgXqAUyVyn:[^/controller/.*$]]]\n",
    "--------\n",
    "2019/08/06 02:28:00 basicAuthPaths, map[]\n",
    "--------\n",
    "2019/08/06 02:28:00 noAuthPaths, map[.*:[]]\n",
    "--------\n",
    "```"
   ]
  },
  {
   "cell_type": "markdown",
   "metadata": {},
   "source": [
    "## start etcd cluster"
   ]
  },
  {
   "cell_type": "code",
   "execution_count": null,
   "metadata": {},
   "outputs": [],
   "source": [
    "helm install --name uoapoc2 --set customResources.createEtcdClusterCRD=true stable/etcd-operator"
   ]
  },
  {
   "cell_type": "markdown",
   "metadata": {},
   "source": [
    "example)\n",
    "\n",
    "```\n",
    "NAME:   uoapoc2\n",
    "LAST DEPLOYED: Thu Nov 21 14:57:53 2019\n",
    "NAMESPACE: default\n",
    "STATUS: DEPLOYED\n",
    "\n",
    "RESOURCES:\n",
    "==> v1/ClusterRole\n",
    "NAME                                 AGE\n",
    "uoapoc2-etcd-operator-etcd-operator  0s\n",
    "\n",
    "==> v1/ClusterRoleBinding\n",
    "NAME                                 AGE\n",
    "uoapoc2-etcd-operator-etcd-operator  0s\n",
    "\n",
    "==> v1/Deployment\n",
    "NAME                                         AGE\n",
    "uoapoc2-etcd-operator-etcd-backup-operator   0s\n",
    "uoapoc2-etcd-operator-etcd-operator          0s\n",
    "uoapoc2-etcd-operator-etcd-restore-operator  0s\n",
    "\n",
    "==> v1/Pod(related)\n",
    "NAME                                                          AGE\n",
    "uoapoc2-etcd-operator-etcd-backup-operator-5c7df84879-tfpvz   0s\n",
    "uoapoc2-etcd-operator-etcd-operator-788c77569f-vrtrp          0s\n",
    "uoapoc2-etcd-operator-etcd-restore-operator-85968dfb96-b5xjl  0s\n",
    "\n",
    "==> v1/Service\n",
    "NAME                   AGE\n",
    "etcd-restore-operator  0s\n",
    "\n",
    "==> v1/ServiceAccount\n",
    "NAME                                 AGE\n",
    "uoapoc2-etcd-operator-etcd-operator  0s\n",
    "\n",
    "==> v1beta2/EtcdCluster\n",
    "NAME          AGE\n",
    "etcd-cluster  0s\n",
    "\n",
    "\n",
    "NOTES:\n",
    "1. Watch etcd cluster start\n",
    "  kubectl get pods -l etcd_cluster=etcd-cluster --namespace default -w\n",
    "\n",
    "2. Confirm etcd cluster is healthy\n",
    "  $ kubectl run --rm -i --tty --env=\"ETCDCTL_API=3\" --env=\"ETCDCTL_ENDPOINTS=http://etcd-cluster-client:2379\" --namespace default etcd-test --image quay.io/coreos/etcd --restart=Never -- /bin/sh -c 'watch -n1 \"etcdctl  member list\"'\n",
    "\n",
    "3. Interact with the cluster!\n",
    "  $ kubectl run --rm -i --tty --env ETCDCTL_API=3 --namespace default etcd-test --image quay.io/coreos/etcd --restart=Never -- /bin/sh\n",
    "  / # etcdctl --endpoints http://etcd-cluster-client:2379 put foo bar\n",
    "  / # etcdctl --endpoints http://etcd-cluster-client:2379 get foo\n",
    "  OK\n",
    "  (ctrl-D to exit)\n",
    "  \n",
    "4. Optional\n",
    "  Check the etcd-operator logs\n",
    "  export POD=$(kubectl get pods -l app=uoapoc2-etcd-operator-etcd-operator --namespace default --output name)\n",
    "  kubectl logs $POD --namespace=default\n",
    "```"
   ]
  },
  {
   "cell_type": "code",
   "execution_count": null,
   "metadata": {},
   "outputs": [],
   "source": [
    "kubectl get pods -l etcd_cluster=etcd-cluster"
   ]
  },
  {
   "cell_type": "markdown",
   "metadata": {},
   "source": [
    "example)\n",
    "\n",
    "```\n",
    "NAME                      READY   STATUS    RESTARTS   AGE\n",
    "etcd-cluster-65th59s8p5   1/1     Running   0          66s\n",
    "etcd-cluster-g5bx65pxc9   1/1     Running   0          98s\n",
    "etcd-cluster-trcr55758r   1/1     Running   0          82s\n",
    "```"
   ]
  },
  {
   "cell_type": "code",
   "execution_count": null,
   "metadata": {},
   "outputs": [],
   "source": [
    "kubectl run --rm -it --env=\"ETCDCTL_API=3\" --env=\"ETCDCTL_ENDPOINTS=http://etcd-cluster-client:2379\" etcd-test --image quay.io/coreos/etcd --restart=Never -- /bin/sh -c \"etcdctl  member list\""
   ]
  },
  {
   "cell_type": "markdown",
   "metadata": {},
   "source": [
    "example)\n",
    "\n",
    "```\n",
    "5fe5acb0c4ceba8d, started, etcd-cluster-65th59s8p5, http://etcd-cluster-65th59s8p5.etcd-cluster.default.svc:2380, http://etcd-cluster-65th59s8p5.etcd-cluster.default.svc:2379\n",
    "7a5f572987d5ad20, started, etcd-cluster-g5bx65pxc9, http://etcd-cluster-g5bx65pxc9.etcd-cluster.default.svc:2380, http://etcd-cluster-g5bx65pxc9.etcd-cluster.default.svc:2379\n",
    "9eea3fbab46615d4, started, etcd-cluster-trcr55758r, http://etcd-cluster-trcr55758r.etcd-cluster.default.svc:2380, http://etcd-cluster-trcr55758r.etcd-cluster.default.svc:2379\n",
    "pod \"etcd-test\" deleted\n",
    "```"
   ]
  },
  {
   "cell_type": "markdown",
   "metadata": {},
   "source": [
    "## start robot-controller on azure AKS"
   ]
  },
  {
   "cell_type": "code",
   "execution_count": null,
   "metadata": {},
   "outputs": [],
   "source": [
    "kubectl apply -f controller/robot-controller-azure-service.yaml"
   ]
  },
  {
   "cell_type": "code",
   "execution_count": null,
   "metadata": {},
   "outputs": [],
   "source": [
    "envsubst < controller/robot-controller-deployment.yaml | kubectl apply -f -"
   ]
  },
  {
   "cell_type": "code",
   "execution_count": null,
   "metadata": {
    "scrolled": true
   },
   "outputs": [],
   "source": [
    "kubectl get pods -l app=robot-controller"
   ]
  },
  {
   "cell_type": "markdown",
   "metadata": {},
   "source": [
    "example)\n",
    "```\n",
    "NAME                        READY     STATUS    RESTARTS   AGE\n",
    "robot-controller-5c7fd7df75-59f7s   1/1     Running   0          26s\n",
    "robot-controller-5c7fd7df75-lwjs6   1/1     Running   0          26s\n",
    "robot-controller-5c7fd7df75-wlxfq   1/1     Running   0          26s\n",
    "```"
   ]
  },
  {
   "cell_type": "code",
   "execution_count": null,
   "metadata": {},
   "outputs": [],
   "source": [
    "kubectl get services -l app=robot-controller"
   ]
  },
  {
   "cell_type": "markdown",
   "metadata": {},
   "source": [
    "example)\n",
    "```\n",
    "NAME               TYPE        CLUSTER-IP       EXTERNAL-IP   PORT(S)    AGE\n",
    "robot-controller   ClusterIP   10.101.151.122   <none>        3000/TCP   3m30s\n",
    "```"
   ]
  },
  {
   "cell_type": "markdown",
   "metadata": {},
   "source": [
    "## start zaico-extension on azure AKS"
   ]
  },
  {
   "cell_type": "markdown",
   "metadata": {},
   "source": [
    "notice) replace XXXXXXXXXXXXXXXXXXXX with the 'REST API token' of `zaico.co.jp`"
   ]
  },
  {
   "cell_type": "code",
   "execution_count": null,
   "metadata": {},
   "outputs": [],
   "source": [
    "export ZAICO_TOKEN=\"XXXXXXXXXXXXXXXXXXXX\""
   ]
  },
  {
   "cell_type": "code",
   "execution_count": null,
   "metadata": {},
   "outputs": [],
   "source": [
    "export SHIPMENTAPI_TOKEN=$(cat ${CORE_ROOT}/secrets/auth-tokens.json | jq '.[0].settings.bearer_tokens | map(select(.allowed_paths[] | contains (\"^/controller/.*$\"))) | .[0].token' -r)"
   ]
  },
  {
   "cell_type": "code",
   "execution_count": null,
   "metadata": {},
   "outputs": [],
   "source": [
    "export DESTINATIONS='[{\"id\": 0, \"name\": \"\"}, {\"id\": 1, \"name\": \"会議室1\"}, {\"id\": 2, \"name\": \"会議室2\"}, {\"id\": 3, \"name\": \"会議室3\"}]'"
   ]
  },
  {
   "cell_type": "code",
   "execution_count": null,
   "metadata": {},
   "outputs": [],
   "source": [
    "kubectl apply -f zaico-extensions/zaico-extensions-azure-service.yaml"
   ]
  },
  {
   "cell_type": "code",
   "execution_count": null,
   "metadata": {},
   "outputs": [],
   "source": [
    "envsubst < zaico-extensions/zaico-extensions-deployment.yaml | kubectl apply -f -"
   ]
  },
  {
   "cell_type": "code",
   "execution_count": null,
   "metadata": {},
   "outputs": [],
   "source": [
    "kubectl get pods -l app=zaico-extensions"
   ]
  },
  {
   "cell_type": "markdown",
   "metadata": {},
   "source": [
    "example)\n",
    "```\n",
    "NAME                               READY   STATUS    RESTARTS   AGE\n",
    "zaico-extensions-9b9964947-598q8   1/1     Running   0          15m\n",
    "zaico-extensions-9b9964947-89gqs   1/1     Running   0          15m\n",
    "zaico-extensions-9b9964947-dcj75   1/1     Running   0          15m\n",
    "```"
   ]
  },
  {
   "cell_type": "code",
   "execution_count": null,
   "metadata": {},
   "outputs": [],
   "source": [
    "kubectl get services -l app=zaico-extensions"
   ]
  },
  {
   "cell_type": "markdown",
   "metadata": {},
   "source": [
    "example)\n",
    "```\n",
    "NAME               TYPE        CLUSTER-IP    EXTERNAL-IP   PORT(S)    AGE\n",
    "zaico-extensions   ClusterIP   10.0.103.45   <none>        3000/TCP   6m43s\n",
    "```"
   ]
  },
  {
   "cell_type": "markdown",
   "metadata": {},
   "source": [
    "### register DNS A Record for zaico-extensions"
   ]
  },
  {
   "cell_type": "code",
   "execution_count": null,
   "metadata": {},
   "outputs": [],
   "source": [
    "HTTPS_IPADDR=$(kubectl get services -l app=ambassador -o json | jq '.items[0].status.loadBalancer.ingress[0].ip' -r)\n",
    "az network dns record-set a add-record --resource-group ${DNS_ZONE_RG} --zone-name \"${DOMAIN}\" --record-set-name \"zaico\" --ipv4-address \"${HTTPS_IPADDR}\""
   ]
  },
  {
   "cell_type": "code",
   "execution_count": null,
   "metadata": {},
   "outputs": [],
   "source": [
    "nslookup zaico.${DOMAIN}"
   ]
  },
  {
   "cell_type": "code",
   "execution_count": null,
   "metadata": {},
   "outputs": [],
   "source": [
    "curl -i https://zaico.${DOMAIN}"
   ]
  },
  {
   "cell_type": "markdown",
   "metadata": {},
   "source": [
    "example)\n",
    "```\n",
    "HTTP/1.1 401 Unauthorized\n",
    "www-authenticate: Basic realm=\"basic authentication required\"\n",
    "content-length: 0\n",
    "date: Thu, 10 Oct 2019 08:07:59 GMT\n",
    "server: envoy\n",
    "```"
   ]
  },
  {
   "cell_type": "markdown",
   "metadata": {},
   "source": [
    "## start robotiui on azure AKS"
   ]
  },
  {
   "cell_type": "code",
   "execution_count": null,
   "metadata": {},
   "outputs": [],
   "source": [
    "kubectl apply -f robotui/robotui-azure-service.yaml"
   ]
  },
  {
   "cell_type": "code",
   "execution_count": null,
   "metadata": {},
   "outputs": [],
   "source": [
    "envsubst < robotui/robotui-deployment.yaml | kubectl apply -f -"
   ]
  },
  {
   "cell_type": "code",
   "execution_count": null,
   "metadata": {},
   "outputs": [],
   "source": [
    "kubectl get pods -l app=robotui"
   ]
  },
  {
   "cell_type": "markdown",
   "metadata": {},
   "source": [
    "example)\n",
    "```\n",
    "NAME                      READY   STATUS    RESTARTS   AGE\n",
    "robotui-78b7ff5d5-7rm2c   1/1     Running   0          18s\n",
    "robotui-78b7ff5d5-92l88   1/1     Running   0          18s\n",
    "robotui-78b7ff5d5-zwj9d   1/1     Running   0          18s\n",
    "```"
   ]
  },
  {
   "cell_type": "code",
   "execution_count": null,
   "metadata": {},
   "outputs": [],
   "source": [
    "kubectl get services -l app=robotui"
   ]
  },
  {
   "cell_type": "markdown",
   "metadata": {},
   "source": [
    "example)\n",
    "```\n",
    "NAME      TYPE        CLUSTER-IP     EXTERNAL-IP   PORT(S)    AGE\n",
    "robotui   ClusterIP   10.0.252.198   <none>        8080/TCP   40d\n",
    "```"
   ]
  },
  {
   "cell_type": "markdown",
   "metadata": {},
   "source": [
    "### register DNS A Record for zaico-extensions"
   ]
  },
  {
   "cell_type": "code",
   "execution_count": null,
   "metadata": {},
   "outputs": [],
   "source": [
    "HTTPS_IPADDR=$(kubectl get services -l app=ambassador -o json | jq '.items[0].status.loadBalancer.ingress[0].ip' -r)\n",
    "az network dns record-set a add-record --resource-group ${DNS_ZONE_RG} --zone-name \"${DOMAIN}\" --record-set-name \"robotui\" --ipv4-address \"${HTTPS_IPADDR}\""
   ]
  },
  {
   "cell_type": "code",
   "execution_count": null,
   "metadata": {},
   "outputs": [],
   "source": [
    "nslookup robotui.${DOMAIN}"
   ]
  },
  {
   "cell_type": "code",
   "execution_count": null,
   "metadata": {},
   "outputs": [],
   "source": [
    "curl -i https://robotui.${DOMAIN}"
   ]
  },
  {
   "cell_type": "markdown",
   "metadata": {},
   "source": [
    "example)\n",
    "```\n",
    "HTTP/1.1 401 Unauthorized\n",
    "www-authenticate: Basic realm=\"basic authentication required\"\n",
    "content-length: 0\n",
    "date: Thu, 10 Oct 2019 08:07:59 GMT\n",
    "server: envoy\n",
    "```"
   ]
  }
 ],
 "metadata": {
  "kernelspec": {
   "display_name": "Bash",
   "language": "bash",
   "name": "bash"
  },
  "language_info": {
   "codemirror_mode": "shell",
   "file_extension": ".sh",
   "mimetype": "text/x-sh",
   "name": "bash"
  }
 },
 "nbformat": 4,
 "nbformat_minor": 2
}
